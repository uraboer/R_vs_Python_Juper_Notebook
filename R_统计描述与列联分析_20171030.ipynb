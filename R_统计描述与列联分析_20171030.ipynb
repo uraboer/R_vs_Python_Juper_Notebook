{
 "cells": [
  {
   "cell_type": "code",
   "execution_count": 1,
   "metadata": {},
   "outputs": [
    {
     "data": {
      "text/html": [
       "<ol class=list-inline>\n",
       "\t<li>'depth'</li>\n",
       "\t<li>'table'</li>\n",
       "\t<li>'price'</li>\n",
       "</ol>\n"
      ],
      "text/latex": [
       "\\begin{enumerate*}\n",
       "\\item 'depth'\n",
       "\\item 'table'\n",
       "\\item 'price'\n",
       "\\end{enumerate*}\n"
      ],
      "text/markdown": [
       "1. 'depth'\n",
       "2. 'table'\n",
       "3. 'price'\n",
       "\n",
       "\n"
      ],
      "text/plain": [
       "[1] \"depth\" \"table\" \"price\""
      ]
     },
     "metadata": {},
     "output_type": "display_data"
    }
   ],
   "source": [
    "#描述性统计：针对数值型\n",
    "\n",
    "library(\"ggplot2\")\n",
    "\n",
    "myvars<-names(diamonds)[c(5,6,7)]\n",
    "myvars"
   ]
  },
  {
   "cell_type": "code",
   "execution_count": 2,
   "metadata": {},
   "outputs": [
    {
     "data": {
      "text/plain": [
       "     depth           table           price      \n",
       " Min.   :43.00   Min.   :43.00   Min.   :  326  \n",
       " 1st Qu.:61.00   1st Qu.:56.00   1st Qu.:  950  \n",
       " Median :61.80   Median :57.00   Median : 2401  \n",
       " Mean   :61.75   Mean   :57.46   Mean   : 3933  \n",
       " 3rd Qu.:62.50   3rd Qu.:59.00   3rd Qu.: 5324  \n",
       " Max.   :79.00   Max.   :95.00   Max.   :18823  "
      ]
     },
     "metadata": {},
     "output_type": "display_data"
    }
   ],
   "source": [
    "summary(diamonds[myvars])"
   ]
  },
  {
   "cell_type": "code",
   "execution_count": 3,
   "metadata": {},
   "outputs": [
    {
     "data": {
      "text/html": [
       "<table>\n",
       "<thead><tr><th></th><th scope=col>depth</th><th scope=col>table</th><th scope=col>price</th></tr></thead>\n",
       "<tbody>\n",
       "\t<tr><th scope=row>n</th><td> 5.394000e+04</td><td>5.394000e+04 </td><td>53940.000000 </td></tr>\n",
       "\t<tr><th scope=row>mean</th><td> 6.174940e+01</td><td>5.745718e+01 </td><td> 3932.799722 </td></tr>\n",
       "\t<tr><th scope=row>stdev</th><td> 1.432621e+00</td><td>2.234491e+00 </td><td> 3989.439738 </td></tr>\n",
       "\t<tr><th scope=row>skew</th><td>-8.228945e-02</td><td>7.968515e-01 </td><td>    1.618305 </td></tr>\n",
       "\t<tr><th scope=row>kurtosis</th><td> 5.738447e+00</td><td>2.801271e+00 </td><td>    2.177191 </td></tr>\n",
       "</tbody>\n",
       "</table>\n"
      ],
      "text/latex": [
       "\\begin{tabular}{r|lll}\n",
       "  & depth & table & price\\\\\n",
       "\\hline\n",
       "\tn &  5.394000e+04 & 5.394000e+04  & 53940.000000 \\\\\n",
       "\tmean &  6.174940e+01 & 5.745718e+01  &  3932.799722 \\\\\n",
       "\tstdev &  1.432621e+00 & 2.234491e+00  &  3989.439738 \\\\\n",
       "\tskew & -8.228945e-02 & 7.968515e-01  &     1.618305 \\\\\n",
       "\tkurtosis &  5.738447e+00 & 2.801271e+00  &     2.177191 \\\\\n",
       "\\end{tabular}\n"
      ],
      "text/markdown": [
       "\n",
       "| <!--/--> | depth | table | price | \n",
       "|---|---|---|---|---|\n",
       "| n |  5.394000e+04 | 5.394000e+04  | 53940.000000  | \n",
       "| mean |  6.174940e+01 | 5.745718e+01  |  3932.799722  | \n",
       "| stdev |  1.432621e+00 | 2.234491e+00  |  3989.439738  | \n",
       "| skew | -8.228945e-02 | 7.968515e-01  |     1.618305  | \n",
       "| kurtosis |  5.738447e+00 | 2.801271e+00  |     2.177191  | \n",
       "\n",
       "\n"
      ],
      "text/plain": [
       "         depth         table        price       \n",
       "n         5.394000e+04 5.394000e+04 53940.000000\n",
       "mean      6.174940e+01 5.745718e+01  3932.799722\n",
       "stdev     1.432621e+00 2.234491e+00  3989.439738\n",
       "skew     -8.228945e-02 7.968515e-01     1.618305\n",
       "kurtosis  5.738447e+00 2.801271e+00     2.177191"
      ]
     },
     "metadata": {},
     "output_type": "display_data"
    }
   ],
   "source": [
    "mystats<-function(x,na.omit=FALSE){\n",
    "    if(na.omit)\n",
    "        x<-x[!is.na(x)]\n",
    "    m<-mean(x)\n",
    "    n<-length(x)\n",
    "    s<-sd(x)\n",
    "    skew<-sum((x-m)^3/s^3)/n\n",
    "    kurt<-sum((x-m)^4/s^4)/n-3\n",
    "    return(c(n=n,mean=m,stdev=s,skew=skew,kurtosis=kurt))\n",
    "}\n",
    "    \n",
    "sapply(diamonds[myvars],mystats)"
   ]
  },
  {
   "cell_type": "code",
   "execution_count": 10,
   "metadata": {},
   "outputs": [
    {
     "data": {
      "text/plain": [
       "diamonds[myvars] \n",
       "\n",
       " 3  Variables      53940  Observations\n",
       "--------------------------------------------------------------------------------\n",
       "depth \n",
       "       n  missing distinct     Info     Mean      Gmd      .05      .10 \n",
       "   53940        0      184    0.999    61.75    1.515     59.3     60.0 \n",
       "     .25      .50      .75      .90      .95 \n",
       "    61.0     61.8     62.5     63.3     63.8 \n",
       "\n",
       "lowest : 43.0 44.0 50.8 51.0 52.2, highest: 72.2 72.9 73.6 78.2 79.0\n",
       "--------------------------------------------------------------------------------\n",
       "table \n",
       "       n  missing distinct     Info     Mean      Gmd      .05      .10 \n",
       "   53940        0      127     0.98    57.46    2.448       54       55 \n",
       "     .25      .50      .75      .90      .95 \n",
       "      56       57       59       60       61 \n",
       "\n",
       "lowest : 43.0 44.0 49.0 50.0 50.1, highest: 71.0 73.0 76.0 79.0 95.0\n",
       "--------------------------------------------------------------------------------\n",
       "price \n",
       "       n  missing distinct     Info     Mean      Gmd      .05      .10 \n",
       "   53940        0    11602        1     3933     4012      544      646 \n",
       "     .25      .50      .75      .90      .95 \n",
       "     950     2401     5324     9821    13107 \n",
       "\n",
       "lowest :   326   327   334   335   336, highest: 18803 18804 18806 18818 18823\n",
       "--------------------------------------------------------------------------------"
      ]
     },
     "metadata": {},
     "output_type": "display_data"
    }
   ],
   "source": [
    "#输出变量与观测值个数、缺失值与唯一值个数、均值与分位数、五个最大最小值\n",
    "Hmisc::describe(diamonds[myvars])"
   ]
  },
  {
   "cell_type": "code",
   "execution_count": 15,
   "metadata": {},
   "outputs": [],
   "source": [
    "#计算所有值、空值、缺失值数量，最大值、最小值、值域\n",
    "# install.packages(\"pastecs\")\n",
    "# library(pastecs)\n",
    "# stat.desc(diamonds[myvars])"
   ]
  },
  {
   "cell_type": "code",
   "execution_count": 17,
   "metadata": {},
   "outputs": [
    {
     "data": {
      "text/html": [
       "<table>\n",
       "<thead><tr><th></th><th scope=col>vars</th><th scope=col>n</th><th scope=col>mean</th><th scope=col>sd</th><th scope=col>median</th><th scope=col>trimmed</th><th scope=col>mad</th><th scope=col>min</th><th scope=col>max</th><th scope=col>range</th><th scope=col>skew</th><th scope=col>kurtosis</th><th scope=col>se</th></tr></thead>\n",
       "<tbody>\n",
       "\t<tr><th scope=row>depth</th><td>1           </td><td>53940       </td><td>  61.74940  </td><td>   1.432621 </td><td>  61.8      </td><td>  61.78461  </td><td>   1.03782  </td><td> 43         </td><td>   79       </td><td>   36       </td><td>-0.08228945 </td><td>5.738447    </td><td> 0.006168448</td></tr>\n",
       "\t<tr><th scope=row>table</th><td>2           </td><td>53940       </td><td>  57.45718  </td><td>   2.234491 </td><td>  57.0      </td><td>  57.31835  </td><td>   1.48260  </td><td> 43         </td><td>   95       </td><td>   52       </td><td> 0.79685153 </td><td>2.801271    </td><td> 0.009621063</td></tr>\n",
       "\t<tr><th scope=row>price</th><td>3           </td><td>53940       </td><td>3932.79972  </td><td>3989.439738 </td><td>2401.0      </td><td>3158.99235  </td><td>2475.94200  </td><td>326         </td><td>18823       </td><td>18497       </td><td> 1.61830527 </td><td>2.177191    </td><td>17.177360816</td></tr>\n",
       "</tbody>\n",
       "</table>\n"
      ],
      "text/latex": [
       "\\begin{tabular}{r|lllllllllllll}\n",
       "  & vars & n & mean & sd & median & trimmed & mad & min & max & range & skew & kurtosis & se\\\\\n",
       "\\hline\n",
       "\tdepth & 1            & 53940        &   61.74940   &    1.432621  &   61.8       &   61.78461   &    1.03782   &  43          &    79        &    36        & -0.08228945  & 5.738447     &  0.006168448\\\\\n",
       "\ttable & 2            & 53940        &   57.45718   &    2.234491  &   57.0       &   57.31835   &    1.48260   &  43          &    95        &    52        &  0.79685153  & 2.801271     &  0.009621063\\\\\n",
       "\tprice & 3            & 53940        & 3932.79972   & 3989.439738  & 2401.0       & 3158.99235   & 2475.94200   & 326          & 18823        & 18497        &  1.61830527  & 2.177191     & 17.177360816\\\\\n",
       "\\end{tabular}\n"
      ],
      "text/markdown": [
       "\n",
       "| <!--/--> | vars | n | mean | sd | median | trimmed | mad | min | max | range | skew | kurtosis | se | \n",
       "|---|---|---|\n",
       "| depth | 1            | 53940        |   61.74940   |    1.432621  |   61.8       |   61.78461   |    1.03782   |  43          |    79        |    36        | -0.08228945  | 5.738447     |  0.006168448 | \n",
       "| table | 2            | 53940        |   57.45718   |    2.234491  |   57.0       |   57.31835   |    1.48260   |  43          |    95        |    52        |  0.79685153  | 2.801271     |  0.009621063 | \n",
       "| price | 3            | 53940        | 3932.79972   | 3989.439738  | 2401.0       | 3158.99235   | 2475.94200   | 326          | 18823        | 18497        |  1.61830527  | 2.177191     | 17.177360816 | \n",
       "\n",
       "\n"
      ],
      "text/plain": [
       "      vars n     mean       sd          median trimmed    mad        min max  \n",
       "depth 1    53940   61.74940    1.432621   61.8   61.78461    1.03782  43    79\n",
       "table 2    53940   57.45718    2.234491   57.0   57.31835    1.48260  43    95\n",
       "price 3    53940 3932.79972 3989.439738 2401.0 3158.99235 2475.94200 326 18823\n",
       "      range skew        kurtosis se          \n",
       "depth    36 -0.08228945 5.738447  0.006168448\n",
       "table    52  0.79685153 2.801271  0.009621063\n",
       "price 18497  1.61830527 2.177191 17.177360816"
      ]
     },
     "metadata": {},
     "output_type": "display_data"
    }
   ],
   "source": [
    "#可以计算非缺失值的数量、平均值、标准差、中位数、截尾均值、绝对中位差、\n",
    "#最小值、最大值、值域、偏度、峰度、平均值的标准误差\n",
    "psych::describe(diamonds[myvars])"
   ]
  },
  {
   "cell_type": "code",
   "execution_count": 18,
   "metadata": {},
   "outputs": [
    {
     "data": {
      "text/html": [
       "<table>\n",
       "<thead><tr><th scope=col>cut</th><th scope=col>depth</th><th scope=col>table</th><th scope=col>price</th></tr></thead>\n",
       "<tbody>\n",
       "\t<tr><td>Fair     </td><td>64.04168 </td><td>59.05379 </td><td>4358.758 </td></tr>\n",
       "\t<tr><td>Good     </td><td>62.36588 </td><td>58.69464 </td><td>3928.864 </td></tr>\n",
       "\t<tr><td>Very Good</td><td>61.81828 </td><td>57.95615 </td><td>3981.760 </td></tr>\n",
       "\t<tr><td>Premium  </td><td>61.26467 </td><td>58.74610 </td><td>4584.258 </td></tr>\n",
       "\t<tr><td>Ideal    </td><td>61.70940 </td><td>55.95167 </td><td>3457.542 </td></tr>\n",
       "</tbody>\n",
       "</table>\n"
      ],
      "text/latex": [
       "\\begin{tabular}{r|llll}\n",
       " cut & depth & table & price\\\\\n",
       "\\hline\n",
       "\t Fair      & 64.04168  & 59.05379  & 4358.758 \\\\\n",
       "\t Good      & 62.36588  & 58.69464  & 3928.864 \\\\\n",
       "\t Very Good & 61.81828  & 57.95615  & 3981.760 \\\\\n",
       "\t Premium   & 61.26467  & 58.74610  & 4584.258 \\\\\n",
       "\t Ideal     & 61.70940  & 55.95167  & 3457.542 \\\\\n",
       "\\end{tabular}\n"
      ],
      "text/markdown": [
       "\n",
       "cut | depth | table | price | \n",
       "|---|---|---|---|---|\n",
       "| Fair      | 64.04168  | 59.05379  | 4358.758  | \n",
       "| Good      | 62.36588  | 58.69464  | 3928.864  | \n",
       "| Very Good | 61.81828  | 57.95615  | 3981.760  | \n",
       "| Premium   | 61.26467  | 58.74610  | 4584.258  | \n",
       "| Ideal     | 61.70940  | 55.95167  | 3457.542  | \n",
       "\n",
       "\n"
      ],
      "text/plain": [
       "  cut       depth    table    price   \n",
       "1 Fair      64.04168 59.05379 4358.758\n",
       "2 Good      62.36588 58.69464 3928.864\n",
       "3 Very Good 61.81828 57.95615 3981.760\n",
       "4 Premium   61.26467 58.74610 4584.258\n",
       "5 Ideal     61.70940 55.95167 3457.542"
      ]
     },
     "metadata": {},
     "output_type": "display_data"
    }
   ],
   "source": [
    "#分组聚合并计算描述性统计量：\n",
    "aggregate(.~cut,data=diamonds[,c(\"depth\",\"table\",\"price\",\"cut\")],FUN=mean)"
   ]
  },
  {
   "cell_type": "code",
   "execution_count": 19,
   "metadata": {},
   "outputs": [
    {
     "data": {
      "text/plain": [
       "diamonds$cut: Fair\n",
       "               depth       table       price\n",
       "n        1610.000000 1610.000000 1610.000000\n",
       "mean       64.041677   59.053789 4358.757764\n",
       "stdev       3.643428    3.946261 3560.386612\n",
       "skew       -1.170819    1.340626    1.780213\n",
       "kurtosis    2.202072    4.831753    3.067175\n",
       "------------------------------------------------------------ \n",
       "diamonds$cut: Good\n",
       "                depth        table       price\n",
       "n        4906.0000000 4906.0000000 4906.000000\n",
       "mean       62.3658785   58.6946392 3928.864452\n",
       "stdev       2.1693739    2.8512997 3681.589584\n",
       "skew       -1.1961212    0.3054851    1.721943\n",
       "kurtosis    0.1724617   -0.6444365    3.042550\n",
       "------------------------------------------------------------ \n",
       "diamonds$cut: Very Good\n",
       "                 depth        table        price\n",
       "n        12082.0000000 1.208200e+04 12082.000000\n",
       "mean        61.8182751 5.795615e+01  3981.759891\n",
       "stdev        1.3786308 2.121448e+00  3935.862161\n",
       "skew        -0.7075131 2.769068e-01     1.595341\n",
       "kurtosis    -0.3014142 3.623741e-02     2.235873\n",
       "------------------------------------------------------------ \n",
       "diamonds$cut: Premium\n",
       "                 depth         table        price\n",
       "n        13791.0000000 13791.0000000 13791.000000\n",
       "mean        61.2646726    58.7460953  4584.257704\n",
       "stdev        1.1588149     1.4785733  4349.204961\n",
       "skew        -0.6108386    -0.3669732     1.333358\n",
       "kurtosis    -0.3698431     1.3348994     1.072295\n",
       "------------------------------------------------------------ \n",
       "diamonds$cut: Ideal\n",
       "                 depth        table        price\n",
       "n        21551.0000000 2.155100e+04 21551.000000\n",
       "mean        61.7094010 5.595167e+01  3457.541970\n",
       "stdev        0.7185386 1.246423e+00  3808.401172\n",
       "skew        -1.4371123 2.018585e-01     1.835587\n",
       "kurtosis    22.3324590 1.701293e+00     2.977425"
      ]
     },
     "metadata": {},
     "output_type": "display_data"
    }
   ],
   "source": [
    "by(diamonds[myvars],diamonds$cut,function(x) sapply(x,mystats))"
   ]
  },
  {
   "cell_type": "code",
   "execution_count": 25,
   "metadata": {},
   "outputs": [
    {
     "data": {
      "text/plain": [
       "\n",
       " Descriptive statistics by group \n",
       ": Fair\n",
       "      vars    n    mean      sd median trimmed     mad min   max range  skew\n",
       "depth    1 1610   64.04    3.64     65   64.48    1.33  43    79    36 -1.17\n",
       "table    2 1610   59.05    3.95     58   58.64    2.97  49    95    46  1.34\n",
       "price    3 1610 4358.76 3560.39   3282 3695.65 2183.13 337 18574 18237  1.78\n",
       "      kurtosis    se\n",
       "depth     2.20  0.09\n",
       "table     4.83  0.10\n",
       "price     3.07 88.73\n",
       "------------------------------------------------------------ \n",
       ": Good\n",
       "      vars    n    mean      sd median trimmed     mad   min   max   range\n",
       "depth    1 4906   62.37    2.17   63.4   62.70    0.74  54.3    67    12.7\n",
       "table    2 4906   58.69    2.85   58.0   58.57    2.97  51.0    66    15.0\n",
       "price    3 4906 3928.86 3681.59 3050.5 3251.51 2853.26 327.0 18788 18461.0\n",
       "       skew kurtosis    se\n",
       "depth -1.20     0.17  0.03\n",
       "table  0.31    -0.64  0.04\n",
       "price  1.72     3.04 52.56\n",
       "------------------------------------------------------------ \n",
       ": Very Good\n",
       "      vars     n    mean      sd median trimmed     mad   min     max   range\n",
       "depth    1 12082   61.82    1.38   62.1   61.95    1.48  56.8    64.9     8.1\n",
       "table    2 12082   57.96    2.12   58.0   57.88    1.48  44.0    66.0    22.0\n",
       "price    3 12082 3981.76 3935.86 2648.0 3243.22 2855.49 336.0 18818.0 18482.0\n",
       "       skew kurtosis    se\n",
       "depth -0.71    -0.30  0.01\n",
       "table  0.28     0.04  0.02\n",
       "price  1.60     2.24 35.81\n",
       "------------------------------------------------------------ \n",
       ": Premium\n",
       "      vars     n    mean      sd median trimmed     mad min   max range  skew\n",
       "depth    1 13791   61.26    1.16   61.4   61.36    1.19  58    63     5 -0.61\n",
       "table    2 13791   58.75    1.48   59.0   58.77    1.48  51    62    11 -0.37\n",
       "price    3 13791 4584.26 4349.20 3185.0 3822.23 3371.43 326 18823 18497  1.33\n",
       "      kurtosis    se\n",
       "depth    -0.37  0.01\n",
       "table     1.33  0.01\n",
       "price     1.07 37.03\n",
       "------------------------------------------------------------ \n",
       ": Ideal\n",
       "      vars     n    mean      sd median trimmed     mad min     max   range\n",
       "depth    1 21551   61.71    0.72   61.8   61.76    0.59  43    66.7    23.7\n",
       "table    2 21551   55.95    1.25   56.0   55.97    1.48  43    63.0    20.0\n",
       "price    3 21551 3457.54 3808.40 1810.0 2656.14 1630.86 326 18806.0 18480.0\n",
       "       skew kurtosis    se\n",
       "depth -1.44    22.33  0.00\n",
       "table  0.20     1.70  0.01\n",
       "price  1.84     2.98 25.94"
      ]
     },
     "metadata": {},
     "output_type": "display_data"
    }
   ],
   "source": [
    "# library(doBy)\n",
    "# library(psych)\n",
    "\n",
    "# summaryBy(mpg+hp+wt~am,data=mtcars,FUN=mystats)\n",
    "\n",
    "#相比summaryBy，describeBy不允许指定任意函数\n",
    "describeBy(diamonds[myvars],list(diamonds$cut))"
   ]
  },
  {
   "cell_type": "markdown",
   "metadata": {},
   "source": [
    "### 列联表统计：针对类别型变量\n",
    "- table():简单的频数统计表，输出列联表矩阵，等同于count函数\n",
    "- xtabs():公式法输入，输出列联表\n",
    "- prop.table():份数表示的列联表\n",
    "- margin.table():添加边际和\n",
    "- addmargins():将边际和放入表中\n",
    "- ftable():创建紧凑型列联表"
   ]
  },
  {
   "cell_type": "code",
   "execution_count": 28,
   "metadata": {},
   "outputs": [
    {
     "data": {
      "text/plain": [
       "cut\n",
       "     Fair      Good Very Good   Premium     Ideal \n",
       "     1610      4906     12082     13791     21551 "
      ]
     },
     "metadata": {},
     "output_type": "display_data"
    }
   ],
   "source": [
    "#一维列联表\n",
    "mytable<-with(diamonds,table(cut))\n",
    "mytable"
   ]
  },
  {
   "cell_type": "code",
   "execution_count": 30,
   "metadata": {},
   "outputs": [
    {
     "data": {
      "text/plain": [
       "cut\n",
       "      Fair       Good  Very Good    Premium      Ideal \n",
       "0.02984798 0.09095291 0.22398962 0.25567297 0.39953652 "
      ]
     },
     "metadata": {},
     "output_type": "display_data"
    }
   ],
   "source": [
    "prop.table(mytable)"
   ]
  },
  {
   "cell_type": "code",
   "execution_count": 31,
   "metadata": {},
   "outputs": [
    {
     "data": {
      "text/plain": [
       "           color\n",
       "cut            D    E    F    G    H    I    J\n",
       "  Fair       163  224  312  314  303  175  119\n",
       "  Good       662  933  909  871  702  522  307\n",
       "  Very Good 1513 2400 2164 2299 1824 1204  678\n",
       "  Premium   1603 2337 2331 2924 2360 1428  808\n",
       "  Ideal     2834 3903 3826 4884 3115 2093  896"
      ]
     },
     "metadata": {},
     "output_type": "display_data"
    }
   ],
   "source": [
    "#二维列联表\n",
    "mytable<-with(diamonds,table(cut,color))\n",
    "mytable"
   ]
  },
  {
   "cell_type": "code",
   "execution_count": 33,
   "metadata": {},
   "outputs": [
    {
     "data": {
      "text/plain": [
       "           color\n",
       "cut            D    E    F    G    H    I    J\n",
       "  Fair       163  224  312  314  303  175  119\n",
       "  Good       662  933  909  871  702  522  307\n",
       "  Very Good 1513 2400 2164 2299 1824 1204  678\n",
       "  Premium   1603 2337 2331 2924 2360 1428  808\n",
       "  Ideal     2834 3903 3826 4884 3115 2093  896"
      ]
     },
     "metadata": {},
     "output_type": "display_data"
    }
   ],
   "source": [
    "mytable<-xtabs(~cut+color,diamonds)\n",
    "mytable"
   ]
  },
  {
   "cell_type": "code",
   "execution_count": 35,
   "metadata": {},
   "outputs": [
    {
     "data": {
      "text/plain": [
       "cut\n",
       "     Fair      Good Very Good   Premium     Ideal \n",
       "     1610      4906     12082     13791     21551 "
      ]
     },
     "metadata": {},
     "output_type": "display_data"
    },
    {
     "data": {
      "text/plain": [
       "color\n",
       "    D     E     F     G     H     I     J \n",
       " 6775  9797  9542 11292  8304  5422  2808 "
      ]
     },
     "metadata": {},
     "output_type": "display_data"
    }
   ],
   "source": [
    "margin.table(mytable,1)#生成行边际频数\n",
    "\n",
    "margin.table(mytable,2)#生成列边际频数"
   ]
  },
  {
   "cell_type": "code",
   "execution_count": 38,
   "metadata": {},
   "outputs": [
    {
     "data": {
      "text/plain": [
       "           color\n",
       "cut                  D          E          F          G          H          I\n",
       "  Fair      0.10124224 0.13913043 0.19378882 0.19503106 0.18819876 0.10869565\n",
       "  Good      0.13493681 0.19017530 0.18528333 0.17753771 0.14309009 0.10640033\n",
       "  Very Good 0.12522761 0.19864261 0.17910942 0.19028307 0.15096838 0.09965238\n",
       "  Premium   0.11623523 0.16945834 0.16902328 0.21202233 0.17112610 0.10354579\n",
       "  Ideal     0.13150202 0.18110529 0.17753237 0.22662521 0.14454086 0.09711846\n",
       "           color\n",
       "cut                  J\n",
       "  Fair      0.07391304\n",
       "  Good      0.06257644\n",
       "  Very Good 0.05611654\n",
       "  Premium   0.05858893\n",
       "  Ideal     0.04157580"
      ]
     },
     "metadata": {},
     "output_type": "display_data"
    },
    {
     "data": {
      "text/plain": [
       "           color\n",
       "cut                  D          E          F          G          H          I\n",
       "  Fair      0.02405904 0.02286414 0.03269755 0.02780730 0.03648844 0.03227591\n",
       "  Good      0.09771218 0.09523323 0.09526305 0.07713425 0.08453757 0.09627444\n",
       "  Very Good 0.22332103 0.24497295 0.22678684 0.20359547 0.21965318 0.22205828\n",
       "  Premium   0.23660517 0.23854241 0.24428841 0.25894439 0.28420039 0.26337145\n",
       "  Ideal     0.41830258 0.39838726 0.40096416 0.43251860 0.37512042 0.38601992\n",
       "           color\n",
       "cut                  J\n",
       "  Fair      0.04237892\n",
       "  Good      0.10933048\n",
       "  Very Good 0.24145299\n",
       "  Premium   0.28774929\n",
       "  Ideal     0.31908832"
      ]
     },
     "metadata": {},
     "output_type": "display_data"
    }
   ],
   "source": [
    "prop.table(mytable,1)#生成行边际比例\n",
    "\n",
    "prop.table(mytable,2)#生成列边际比例"
   ]
  },
  {
   "cell_type": "code",
   "execution_count": 40,
   "metadata": {},
   "outputs": [
    {
     "data": {
      "text/html": [
       "<table>\n",
       "<thead><tr><th></th><th scope=col>D</th><th scope=col>E</th><th scope=col>F</th><th scope=col>G</th><th scope=col>H</th><th scope=col>I</th><th scope=col>J</th><th scope=col>Sum</th></tr></thead>\n",
       "<tbody>\n",
       "\t<tr><th scope=row>Fair</th><td> 163 </td><td> 224 </td><td> 312 </td><td>  314</td><td> 303 </td><td> 175 </td><td> 119 </td><td> 1610</td></tr>\n",
       "\t<tr><th scope=row>Good</th><td> 662 </td><td> 933 </td><td> 909 </td><td>  871</td><td> 702 </td><td> 522 </td><td> 307 </td><td> 4906</td></tr>\n",
       "\t<tr><th scope=row>Very Good</th><td>1513 </td><td>2400 </td><td>2164 </td><td> 2299</td><td>1824 </td><td>1204 </td><td> 678 </td><td>12082</td></tr>\n",
       "\t<tr><th scope=row>Premium</th><td>1603 </td><td>2337 </td><td>2331 </td><td> 2924</td><td>2360 </td><td>1428 </td><td> 808 </td><td>13791</td></tr>\n",
       "\t<tr><th scope=row>Ideal</th><td>2834 </td><td>3903 </td><td>3826 </td><td> 4884</td><td>3115 </td><td>2093 </td><td> 896 </td><td>21551</td></tr>\n",
       "\t<tr><th scope=row>Sum</th><td>6775 </td><td>9797 </td><td>9542 </td><td>11292</td><td>8304 </td><td>5422 </td><td>2808 </td><td>53940</td></tr>\n",
       "</tbody>\n",
       "</table>\n"
      ],
      "text/latex": [
       "\\begin{tabular}{r|llllllll}\n",
       "  & D & E & F & G & H & I & J & Sum\\\\\n",
       "\\hline\n",
       "\tFair &  163  &  224  &  312  &   314 &  303  &  175  &  119  &  1610\\\\\n",
       "\tGood &  662  &  933  &  909  &   871 &  702  &  522  &  307  &  4906\\\\\n",
       "\tVery Good & 1513  & 2400  & 2164  &  2299 & 1824  & 1204  &  678  & 12082\\\\\n",
       "\tPremium & 1603  & 2337  & 2331  &  2924 & 2360  & 1428  &  808  & 13791\\\\\n",
       "\tIdeal & 2834  & 3903  & 3826  &  4884 & 3115  & 2093  &  896  & 21551\\\\\n",
       "\tSum & 6775  & 9797  & 9542  & 11292 & 8304  & 5422  & 2808  & 53940\\\\\n",
       "\\end{tabular}\n"
      ],
      "text/markdown": [
       "\n",
       "| <!--/--> | D | E | F | G | H | I | J | Sum | \n",
       "|---|---|---|---|---|---|\n",
       "| Fair |  163  |  224  |  312  |   314 |  303  |  175  |  119  |  1610 | \n",
       "| Good |  662  |  933  |  909  |   871 |  702  |  522  |  307  |  4906 | \n",
       "| Very Good | 1513  | 2400  | 2164  |  2299 | 1824  | 1204  |  678  | 12082 | \n",
       "| Premium | 1603  | 2337  | 2331  |  2924 | 2360  | 1428  |  808  | 13791 | \n",
       "| Ideal | 2834  | 3903  | 3826  |  4884 | 3115  | 2093  |  896  | 21551 | \n",
       "| Sum | 6775  | 9797  | 9542  | 11292 | 8304  | 5422  | 2808  | 53940 | \n",
       "\n",
       "\n"
      ],
      "text/plain": [
       "           color\n",
       "cut         D    E    F    G     H    I    J    Sum  \n",
       "  Fair       163  224  312   314  303  175  119  1610\n",
       "  Good       662  933  909   871  702  522  307  4906\n",
       "  Very Good 1513 2400 2164  2299 1824 1204  678 12082\n",
       "  Premium   1603 2337 2331  2924 2360 1428  808 13791\n",
       "  Ideal     2834 3903 3826  4884 3115 2093  896 21551\n",
       "  Sum       6775 9797 9542 11292 8304 5422 2808 53940"
      ]
     },
     "metadata": {},
     "output_type": "display_data"
    }
   ],
   "source": [
    "addmargins(mytable)#为表格添加边际和"
   ]
  },
  {
   "cell_type": "code",
   "execution_count": 42,
   "metadata": {
    "scrolled": false
   },
   "outputs": [
    {
     "data": {
      "text/html": [
       "<table>\n",
       "<thead><tr><th></th><th scope=col>D</th><th scope=col>E</th><th scope=col>F</th><th scope=col>G</th><th scope=col>H</th><th scope=col>I</th><th scope=col>J</th><th scope=col>Sum</th></tr></thead>\n",
       "<tbody>\n",
       "\t<tr><th scope=row>Fair</th><td>0.1012422 </td><td>0.1391304 </td><td>0.1937888 </td><td>0.1950311 </td><td>0.1881988 </td><td>0.10869565</td><td>0.07391304</td><td>1         </td></tr>\n",
       "\t<tr><th scope=row>Good</th><td>0.1349368 </td><td>0.1901753 </td><td>0.1852833 </td><td>0.1775377 </td><td>0.1430901 </td><td>0.10640033</td><td>0.06257644</td><td>1         </td></tr>\n",
       "\t<tr><th scope=row>Very Good</th><td>0.1252276 </td><td>0.1986426 </td><td>0.1791094 </td><td>0.1902831 </td><td>0.1509684 </td><td>0.09965238</td><td>0.05611654</td><td>1         </td></tr>\n",
       "\t<tr><th scope=row>Premium</th><td>0.1162352 </td><td>0.1694583 </td><td>0.1690233 </td><td>0.2120223 </td><td>0.1711261 </td><td>0.10354579</td><td>0.05858893</td><td>1         </td></tr>\n",
       "\t<tr><th scope=row>Ideal</th><td>0.1315020 </td><td>0.1811053 </td><td>0.1775324 </td><td>0.2266252 </td><td>0.1445409 </td><td>0.09711846</td><td>0.04157580</td><td>1         </td></tr>\n",
       "</tbody>\n",
       "</table>\n"
      ],
      "text/latex": [
       "\\begin{tabular}{r|llllllll}\n",
       "  & D & E & F & G & H & I & J & Sum\\\\\n",
       "\\hline\n",
       "\tFair & 0.1012422  & 0.1391304  & 0.1937888  & 0.1950311  & 0.1881988  & 0.10869565 & 0.07391304 & 1         \\\\\n",
       "\tGood & 0.1349368  & 0.1901753  & 0.1852833  & 0.1775377  & 0.1430901  & 0.10640033 & 0.06257644 & 1         \\\\\n",
       "\tVery Good & 0.1252276  & 0.1986426  & 0.1791094  & 0.1902831  & 0.1509684  & 0.09965238 & 0.05611654 & 1         \\\\\n",
       "\tPremium & 0.1162352  & 0.1694583  & 0.1690233  & 0.2120223  & 0.1711261  & 0.10354579 & 0.05858893 & 1         \\\\\n",
       "\tIdeal & 0.1315020  & 0.1811053  & 0.1775324  & 0.2266252  & 0.1445409  & 0.09711846 & 0.04157580 & 1         \\\\\n",
       "\\end{tabular}\n"
      ],
      "text/markdown": [
       "\n",
       "| <!--/--> | D | E | F | G | H | I | J | Sum | \n",
       "|---|---|---|---|---|\n",
       "| Fair | 0.1012422  | 0.1391304  | 0.1937888  | 0.1950311  | 0.1881988  | 0.10869565 | 0.07391304 | 1          | \n",
       "| Good | 0.1349368  | 0.1901753  | 0.1852833  | 0.1775377  | 0.1430901  | 0.10640033 | 0.06257644 | 1          | \n",
       "| Very Good | 0.1252276  | 0.1986426  | 0.1791094  | 0.1902831  | 0.1509684  | 0.09965238 | 0.05611654 | 1          | \n",
       "| Premium | 0.1162352  | 0.1694583  | 0.1690233  | 0.2120223  | 0.1711261  | 0.10354579 | 0.05858893 | 1          | \n",
       "| Ideal | 0.1315020  | 0.1811053  | 0.1775324  | 0.2266252  | 0.1445409  | 0.09711846 | 0.04157580 | 1          | \n",
       "\n",
       "\n"
      ],
      "text/plain": [
       "           color\n",
       "cut         D         E         F         G         H         I         \n",
       "  Fair      0.1012422 0.1391304 0.1937888 0.1950311 0.1881988 0.10869565\n",
       "  Good      0.1349368 0.1901753 0.1852833 0.1775377 0.1430901 0.10640033\n",
       "  Very Good 0.1252276 0.1986426 0.1791094 0.1902831 0.1509684 0.09965238\n",
       "  Premium   0.1162352 0.1694583 0.1690233 0.2120223 0.1711261 0.10354579\n",
       "  Ideal     0.1315020 0.1811053 0.1775324 0.2266252 0.1445409 0.09711846\n",
       "           color\n",
       "cut         J          Sum\n",
       "  Fair      0.07391304 1  \n",
       "  Good      0.06257644 1  \n",
       "  Very Good 0.05611654 1  \n",
       "  Premium   0.05858893 1  \n",
       "  Ideal     0.04157580 1  "
      ]
     },
     "metadata": {},
     "output_type": "display_data"
    },
    {
     "data": {
      "text/html": [
       "<table>\n",
       "<thead><tr><th></th><th scope=col>D</th><th scope=col>E</th><th scope=col>F</th><th scope=col>G</th><th scope=col>H</th><th scope=col>I</th><th scope=col>J</th></tr></thead>\n",
       "<tbody>\n",
       "\t<tr><th scope=row>Fair</th><td>0.02405904</td><td>0.02286414</td><td>0.03269755</td><td>0.02780730</td><td>0.03648844</td><td>0.03227591</td><td>0.04237892</td></tr>\n",
       "\t<tr><th scope=row>Good</th><td>0.09771218</td><td>0.09523323</td><td>0.09526305</td><td>0.07713425</td><td>0.08453757</td><td>0.09627444</td><td>0.10933048</td></tr>\n",
       "\t<tr><th scope=row>Very Good</th><td>0.22332103</td><td>0.24497295</td><td>0.22678684</td><td>0.20359547</td><td>0.21965318</td><td>0.22205828</td><td>0.24145299</td></tr>\n",
       "\t<tr><th scope=row>Premium</th><td>0.23660517</td><td>0.23854241</td><td>0.24428841</td><td>0.25894439</td><td>0.28420039</td><td>0.26337145</td><td>0.28774929</td></tr>\n",
       "\t<tr><th scope=row>Ideal</th><td>0.41830258</td><td>0.39838726</td><td>0.40096416</td><td>0.43251860</td><td>0.37512042</td><td>0.38601992</td><td>0.31908832</td></tr>\n",
       "\t<tr><th scope=row>Sum</th><td>1.00000000</td><td>1.00000000</td><td>1.00000000</td><td>1.00000000</td><td>1.00000000</td><td>1.00000000</td><td>1.00000000</td></tr>\n",
       "</tbody>\n",
       "</table>\n"
      ],
      "text/latex": [
       "\\begin{tabular}{r|lllllll}\n",
       "  & D & E & F & G & H & I & J\\\\\n",
       "\\hline\n",
       "\tFair & 0.02405904 & 0.02286414 & 0.03269755 & 0.02780730 & 0.03648844 & 0.03227591 & 0.04237892\\\\\n",
       "\tGood & 0.09771218 & 0.09523323 & 0.09526305 & 0.07713425 & 0.08453757 & 0.09627444 & 0.10933048\\\\\n",
       "\tVery Good & 0.22332103 & 0.24497295 & 0.22678684 & 0.20359547 & 0.21965318 & 0.22205828 & 0.24145299\\\\\n",
       "\tPremium & 0.23660517 & 0.23854241 & 0.24428841 & 0.25894439 & 0.28420039 & 0.26337145 & 0.28774929\\\\\n",
       "\tIdeal & 0.41830258 & 0.39838726 & 0.40096416 & 0.43251860 & 0.37512042 & 0.38601992 & 0.31908832\\\\\n",
       "\tSum & 1.00000000 & 1.00000000 & 1.00000000 & 1.00000000 & 1.00000000 & 1.00000000 & 1.00000000\\\\\n",
       "\\end{tabular}\n"
      ],
      "text/markdown": [
       "\n",
       "| <!--/--> | D | E | F | G | H | I | J | \n",
       "|---|---|---|---|---|---|\n",
       "| Fair | 0.02405904 | 0.02286414 | 0.03269755 | 0.02780730 | 0.03648844 | 0.03227591 | 0.04237892 | \n",
       "| Good | 0.09771218 | 0.09523323 | 0.09526305 | 0.07713425 | 0.08453757 | 0.09627444 | 0.10933048 | \n",
       "| Very Good | 0.22332103 | 0.24497295 | 0.22678684 | 0.20359547 | 0.21965318 | 0.22205828 | 0.24145299 | \n",
       "| Premium | 0.23660517 | 0.23854241 | 0.24428841 | 0.25894439 | 0.28420039 | 0.26337145 | 0.28774929 | \n",
       "| Ideal | 0.41830258 | 0.39838726 | 0.40096416 | 0.43251860 | 0.37512042 | 0.38601992 | 0.31908832 | \n",
       "| Sum | 1.00000000 | 1.00000000 | 1.00000000 | 1.00000000 | 1.00000000 | 1.00000000 | 1.00000000 | \n",
       "\n",
       "\n"
      ],
      "text/plain": [
       "           color\n",
       "cut         D          E          F          G          H          I         \n",
       "  Fair      0.02405904 0.02286414 0.03269755 0.02780730 0.03648844 0.03227591\n",
       "  Good      0.09771218 0.09523323 0.09526305 0.07713425 0.08453757 0.09627444\n",
       "  Very Good 0.22332103 0.24497295 0.22678684 0.20359547 0.21965318 0.22205828\n",
       "  Premium   0.23660517 0.23854241 0.24428841 0.25894439 0.28420039 0.26337145\n",
       "  Ideal     0.41830258 0.39838726 0.40096416 0.43251860 0.37512042 0.38601992\n",
       "  Sum       1.00000000 1.00000000 1.00000000 1.00000000 1.00000000 1.00000000\n",
       "           color\n",
       "cut         J         \n",
       "  Fair      0.04237892\n",
       "  Good      0.10933048\n",
       "  Very Good 0.24145299\n",
       "  Premium   0.28774929\n",
       "  Ideal     0.31908832\n",
       "  Sum       1.00000000"
      ]
     },
     "metadata": {},
     "output_type": "display_data"
    }
   ],
   "source": [
    "addmargins(prop.table(mytable,1),2)#为表格添加行边际和\n",
    "\n",
    "addmargins(prop.table(mytable,2),1)#为表格添加列边际和"
   ]
  },
  {
   "cell_type": "code",
   "execution_count": 44,
   "metadata": {},
   "outputs": [],
   "source": [
    "# library(gmodels)\n",
    "# with(diamonds,CrossTable(cut,color))"
   ]
  },
  {
   "cell_type": "code",
   "execution_count": 45,
   "metadata": {},
   "outputs": [
    {
     "data": {
      "text/plain": [
       ", , clarity = I1\n",
       "\n",
       "           color\n",
       "cut            D    E    F    G    H    I    J\n",
       "  Fair         4    9   35   53   52   34   23\n",
       "  Good         8   23   19   19   14    9    4\n",
       "  Very Good    5   22   13   16   12    8    8\n",
       "  Premium     12   30   34   46   46   24   13\n",
       "  Ideal       13   18   42   16   38   17    2\n",
       "\n",
       ", , clarity = SI2\n",
       "\n",
       "           color\n",
       "cut            D    E    F    G    H    I    J\n",
       "  Fair        56   78   89   80   91   45   27\n",
       "  Good       223  202  201  163  158   81   53\n",
       "  Very Good  314  445  343  327  343  200  128\n",
       "  Premium    421  519  523  492  521  312  161\n",
       "  Ideal      356  469  453  486  450  274  110\n",
       "\n",
       ", , clarity = SI1\n",
       "\n",
       "           color\n",
       "cut            D    E    F    G    H    I    J\n",
       "  Fair        58   65   83   69   75   30   28\n",
       "  Good       237  355  273  207  235  165   88\n",
       "  Very Good  494  626  559  474  547  358  182\n",
       "  Premium    556  614  608  566  655  367  209\n",
       "  Ideal      738  766  608  660  763  504  243\n",
       "\n",
       ", , clarity = VS2\n",
       "\n",
       "           color\n",
       "cut            D    E    F    G    H    I    J\n",
       "  Fair        25   42   53   45   41   32   23\n",
       "  Good       104  160  184  192  138  110   90\n",
       "  Very Good  309  503  466  479  376  274  184\n",
       "  Premium    339  629  619  721  532  315  202\n",
       "  Ideal      920 1136  879  910  556  438  232\n",
       "\n",
       ", , clarity = VS1\n",
       "\n",
       "           color\n",
       "cut            D    E    F    G    H    I    J\n",
       "  Fair         5   14   33   45   32   25   16\n",
       "  Good        43   89  132  152   77  103   52\n",
       "  Very Good  175  293  293  432  257  205  120\n",
       "  Premium    131  292  290  566  336  221  153\n",
       "  Ideal      351  593  616  953  467  408  201\n",
       "\n",
       ", , clarity = VVS2\n",
       "\n",
       "           color\n",
       "cut            D    E    F    G    H    I    J\n",
       "  Fair         9   13   10   17   11    8    1\n",
       "  Good        25   52   50   75   45   26   13\n",
       "  Very Good  141  298  249  302  145   71   29\n",
       "  Premium     94  121  146  275  118   82   34\n",
       "  Ideal      284  507  520  774  289  178   54\n",
       "\n",
       ", , clarity = VVS1\n",
       "\n",
       "           color\n",
       "cut            D    E    F    G    H    I    J\n",
       "  Fair         3    3    5    3    1    1    1\n",
       "  Good        13   43   35   41   31   22    1\n",
       "  Very Good   52  170  174  190  115   69   19\n",
       "  Premium     40  105   80  171  112   84   24\n",
       "  Ideal      144  335  440  594  326  179   29\n",
       "\n",
       ", , clarity = IF\n",
       "\n",
       "           color\n",
       "cut            D    E    F    G    H    I    J\n",
       "  Fair         3    0    4    2    0    0    0\n",
       "  Good         9    9   15   22    4    6    6\n",
       "  Very Good   23   43   67   79   29   19    8\n",
       "  Premium     10   27   31   87   40   23   12\n",
       "  Ideal       28   79  268  491  226   95   25\n"
      ]
     },
     "metadata": {},
     "output_type": "display_data"
    }
   ],
   "source": [
    "#三维列联表\n",
    "mytable<-xtabs(~cut+color+clarity,data=diamonds)\n",
    "mytable"
   ]
  },
  {
   "cell_type": "code",
   "execution_count": 47,
   "metadata": {},
   "outputs": [
    {
     "data": {
      "text/plain": [
       "                clarity   I1  SI2  SI1  VS2  VS1 VVS2 VVS1   IF\n",
       "cut       color                                                \n",
       "Fair      D                4   56   58   25    5    9    3    3\n",
       "          E                9   78   65   42   14   13    3    0\n",
       "          F               35   89   83   53   33   10    5    4\n",
       "          G               53   80   69   45   45   17    3    2\n",
       "          H               52   91   75   41   32   11    1    0\n",
       "          I               34   45   30   32   25    8    1    0\n",
       "          J               23   27   28   23   16    1    1    0\n",
       "Good      D                8  223  237  104   43   25   13    9\n",
       "          E               23  202  355  160   89   52   43    9\n",
       "          F               19  201  273  184  132   50   35   15\n",
       "          G               19  163  207  192  152   75   41   22\n",
       "          H               14  158  235  138   77   45   31    4\n",
       "          I                9   81  165  110  103   26   22    6\n",
       "          J                4   53   88   90   52   13    1    6\n",
       "Very Good D                5  314  494  309  175  141   52   23\n",
       "          E               22  445  626  503  293  298  170   43\n",
       "          F               13  343  559  466  293  249  174   67\n",
       "          G               16  327  474  479  432  302  190   79\n",
       "          H               12  343  547  376  257  145  115   29\n",
       "          I                8  200  358  274  205   71   69   19\n",
       "          J                8  128  182  184  120   29   19    8\n",
       "Premium   D               12  421  556  339  131   94   40   10\n",
       "          E               30  519  614  629  292  121  105   27\n",
       "          F               34  523  608  619  290  146   80   31\n",
       "          G               46  492  566  721  566  275  171   87\n",
       "          H               46  521  655  532  336  118  112   40\n",
       "          I               24  312  367  315  221   82   84   23\n",
       "          J               13  161  209  202  153   34   24   12\n",
       "Ideal     D               13  356  738  920  351  284  144   28\n",
       "          E               18  469  766 1136  593  507  335   79\n",
       "          F               42  453  608  879  616  520  440  268\n",
       "          G               16  486  660  910  953  774  594  491\n",
       "          H               38  450  763  556  467  289  326  226\n",
       "          I               17  274  504  438  408  178  179   95\n",
       "          J                2  110  243  232  201   54   29   25"
      ]
     },
     "metadata": {},
     "output_type": "display_data"
    }
   ],
   "source": [
    "ftable(mytable) #使用ftable将三维列联表进行矩阵化"
   ]
  }
 ],
 "metadata": {
  "kernelspec": {
   "display_name": "R",
   "language": "R",
   "name": "ir"
  },
  "language_info": {
   "codemirror_mode": "r",
   "file_extension": ".r",
   "mimetype": "text/x-r-source",
   "name": "R",
   "pygments_lexer": "r",
   "version": "3.4.1"
  }
 },
 "nbformat": 4,
 "nbformat_minor": 2
}
