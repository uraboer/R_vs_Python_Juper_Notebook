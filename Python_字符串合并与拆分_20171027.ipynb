{
 "cells": [
  {
   "cell_type": "markdown",
   "metadata": {},
   "source": [
    "- 字符串连接符：\"+\"\n",
    "- 字符串合并函数：join\n",
    "\n",
    "\n",
    "- 字符串拆分：split"
   ]
  },
  {
   "cell_type": "code",
   "execution_count": 5,
   "metadata": {},
   "outputs": [
    {
     "data": {
      "text/plain": [
       "['03', '26', '12', '09', '08', '30', '10', '23', '07', '04']"
      ]
     },
     "execution_count": 5,
     "metadata": {},
     "output_type": "execute_result"
    }
   ],
   "source": [
    "import random\n",
    "import pandas as pd\n",
    "\n",
    "myyear=random.sample(list(range(2000,2017)),10)\n",
    "myyear\n",
    "\n",
    "mymonth=[\"%02d\" % i for i in random.sample(list(range(1,12)),10)]\n",
    "mymonth\n",
    "\n",
    "myday=[\"%02d\" % i for i in random.sample(list(range(1,31)),10)]\n",
    "myday"
   ]
  },
  {
   "cell_type": "code",
   "execution_count": 6,
   "metadata": {},
   "outputs": [
    {
     "data": {
      "text/plain": [
       "['2012-03-03',\n",
       " '2004-08-26',\n",
       " '2000-09-12',\n",
       " '2011-04-09',\n",
       " '2002-11-08',\n",
       " '2001-07-30',\n",
       " '2007-02-10',\n",
       " '2016-01-23',\n",
       " '2014-05-07',\n",
       " '2003-06-04']"
      ]
     },
     "execution_count": 6,
     "metadata": {},
     "output_type": "execute_result"
    }
   ],
   "source": [
    "mydate=[str(i)+\"-\"+j+\"-\"+k for i,j,k in zip(myyear,mymonth,myday)]\n",
    "mydate"
   ]
  },
  {
   "cell_type": "code",
   "execution_count": 7,
   "metadata": {},
   "outputs": [
    {
     "data": {
      "text/plain": [
       "['2012-03-03',\n",
       " '2004-08-26',\n",
       " '2000-09-12',\n",
       " '2011-04-09',\n",
       " '2002-11-08',\n",
       " '2001-07-30',\n",
       " '2007-02-10',\n",
       " '2016-01-23',\n",
       " '2014-05-07',\n",
       " '2003-06-04']"
      ]
     },
     "execution_count": 7,
     "metadata": {},
     "output_type": "execute_result"
    }
   ],
   "source": [
    "mydate=[\"-\".join([str(i),j,k]) for i,j,k in zip(myyear,mymonth,myday)]\n",
    "mydate"
   ]
  },
  {
   "cell_type": "code",
   "execution_count": 14,
   "metadata": {},
   "outputs": [
    {
     "data": {
      "text/plain": [
       "['03', '26', '12', '09', '08', '30', '10', '23', '07', '04']"
      ]
     },
     "execution_count": 14,
     "metadata": {},
     "output_type": "execute_result"
    }
   ],
   "source": [
    "#字符串拆分：\n",
    "#方法一：列表推导式\n",
    "myyear1=[i.split(\"-\")[0] for i in mydate]\n",
    "myyear1\n",
    "\n",
    "mymonth1=[i.split(\"-\")[1] for i in mydate]\n",
    "mymonth1\n",
    "\n",
    "myday1=[i.split(\"-\")[2] for i in mydate]\n",
    "myday1"
   ]
  },
  {
   "cell_type": "code",
   "execution_count": 17,
   "metadata": {},
   "outputs": [
    {
     "data": {
      "text/html": [
       "<div>\n",
       "<style>\n",
       "    .dataframe thead tr:only-child th {\n",
       "        text-align: right;\n",
       "    }\n",
       "\n",
       "    .dataframe thead th {\n",
       "        text-align: left;\n",
       "    }\n",
       "\n",
       "    .dataframe tbody tr th {\n",
       "        vertical-align: top;\n",
       "    }\n",
       "</style>\n",
       "<table border=\"1\" class=\"dataframe\">\n",
       "  <thead>\n",
       "    <tr style=\"text-align: right;\">\n",
       "      <th></th>\n",
       "      <th>0</th>\n",
       "      <th>1</th>\n",
       "      <th>2</th>\n",
       "    </tr>\n",
       "  </thead>\n",
       "  <tbody>\n",
       "    <tr>\n",
       "      <th>0</th>\n",
       "      <td>2012</td>\n",
       "      <td>03</td>\n",
       "      <td>03</td>\n",
       "    </tr>\n",
       "    <tr>\n",
       "      <th>1</th>\n",
       "      <td>2004</td>\n",
       "      <td>08</td>\n",
       "      <td>26</td>\n",
       "    </tr>\n",
       "    <tr>\n",
       "      <th>2</th>\n",
       "      <td>2000</td>\n",
       "      <td>09</td>\n",
       "      <td>12</td>\n",
       "    </tr>\n",
       "    <tr>\n",
       "      <th>3</th>\n",
       "      <td>2011</td>\n",
       "      <td>04</td>\n",
       "      <td>09</td>\n",
       "    </tr>\n",
       "    <tr>\n",
       "      <th>4</th>\n",
       "      <td>2002</td>\n",
       "      <td>11</td>\n",
       "      <td>08</td>\n",
       "    </tr>\n",
       "    <tr>\n",
       "      <th>5</th>\n",
       "      <td>2001</td>\n",
       "      <td>07</td>\n",
       "      <td>30</td>\n",
       "    </tr>\n",
       "    <tr>\n",
       "      <th>6</th>\n",
       "      <td>2007</td>\n",
       "      <td>02</td>\n",
       "      <td>10</td>\n",
       "    </tr>\n",
       "    <tr>\n",
       "      <th>7</th>\n",
       "      <td>2016</td>\n",
       "      <td>01</td>\n",
       "      <td>23</td>\n",
       "    </tr>\n",
       "    <tr>\n",
       "      <th>8</th>\n",
       "      <td>2014</td>\n",
       "      <td>05</td>\n",
       "      <td>07</td>\n",
       "    </tr>\n",
       "    <tr>\n",
       "      <th>9</th>\n",
       "      <td>2003</td>\n",
       "      <td>06</td>\n",
       "      <td>04</td>\n",
       "    </tr>\n",
       "  </tbody>\n",
       "</table>\n",
       "</div>"
      ],
      "text/plain": [
       "      0   1   2\n",
       "0  2012  03  03\n",
       "1  2004  08  26\n",
       "2  2000  09  12\n",
       "3  2011  04  09\n",
       "4  2002  11  08\n",
       "5  2001  07  30\n",
       "6  2007  02  10\n",
       "7  2016  01  23\n",
       "8  2014  05  07\n",
       "9  2003  06  04"
      ]
     },
     "execution_count": 17,
     "metadata": {},
     "output_type": "execute_result"
    }
   ],
   "source": [
    "#方法二：使用字典\n",
    "mydata=pd.DataFrame({\"date\":mydate})\n",
    "mydata\n",
    "\n",
    "mydata[\"date\"].str.split(\"-\",expand=True)"
   ]
  },
  {
   "cell_type": "code",
   "execution_count": 21,
   "metadata": {},
   "outputs": [
    {
     "name": "stdout",
     "output_type": "stream",
     "text": [
      "0    2012\n",
      "1    2004\n",
      "2    2000\n",
      "3    2011\n",
      "4    2002\n",
      "5    2001\n",
      "6    2007\n",
      "7    2016\n",
      "8    2014\n",
      "9    2003\n",
      "Name: 0, dtype: object\n",
      "0    03\n",
      "1    08\n",
      "2    09\n",
      "3    04\n",
      "4    11\n",
      "5    07\n",
      "6    02\n",
      "7    01\n",
      "8    05\n",
      "9    06\n",
      "Name: 1, dtype: object\n",
      "0    03\n",
      "1    26\n",
      "2    12\n",
      "3    09\n",
      "4    08\n",
      "5    30\n",
      "6    10\n",
      "7    23\n",
      "8    07\n",
      "9    04\n",
      "Name: 2, dtype: object\n"
     ]
    }
   ],
   "source": [
    "myyear2=mydata[\"date\"].str.split(\"-\",expand=True)[0]\n",
    "print(myyear2)\n",
    "\n",
    "mymonth2=mydata[\"date\"].str.split(\"-\",expand=True)[1]\n",
    "print(mymonth2)\n",
    "\n",
    "myday2=mydata[\"date\"].str.split(\"-\",expand=True)[2]\n",
    "print(myday2)"
   ]
  }
 ],
 "metadata": {
  "kernelspec": {
   "display_name": "Python 3",
   "language": "python",
   "name": "python3"
  },
  "language_info": {
   "codemirror_mode": {
    "name": "ipython",
    "version": 3
   },
   "file_extension": ".py",
   "mimetype": "text/x-python",
   "name": "python",
   "nbconvert_exporter": "python",
   "pygments_lexer": "ipython3",
   "version": "3.6.1"
  }
 },
 "nbformat": 4,
 "nbformat_minor": 2
}
