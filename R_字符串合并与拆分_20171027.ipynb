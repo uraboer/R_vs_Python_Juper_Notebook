{
 "cells": [
  {
   "cell_type": "markdown",
   "metadata": {},
   "source": [
    "- strsplit：针对字符串向量拆分\n",
    "- str_split：针对字符串向量拆分，stringr包内函数\n",
    "- paste：针对向量合并\n",
    "\n",
    "- unite：合并数据框中的某几列\n",
    "- separate：将数据框中某一列按照某种模式拆分成几列"
   ]
  },
  {
   "cell_type": "code",
   "execution_count": 3,
   "metadata": {},
   "outputs": [
    {
     "data": {
      "text/html": [
       "<ol class=list-inline>\n",
       "\t<li>'2017'</li>\n",
       "\t<li>'2000'</li>\n",
       "\t<li>'2012'</li>\n",
       "\t<li>'2011'</li>\n",
       "\t<li>'2009'</li>\n",
       "\t<li>'2013'</li>\n",
       "\t<li>'2007'</li>\n",
       "\t<li>'2014'</li>\n",
       "\t<li>'2015'</li>\n",
       "\t<li>'2004'</li>\n",
       "</ol>\n"
      ],
      "text/latex": [
       "\\begin{enumerate*}\n",
       "\\item '2017'\n",
       "\\item '2000'\n",
       "\\item '2012'\n",
       "\\item '2011'\n",
       "\\item '2009'\n",
       "\\item '2013'\n",
       "\\item '2007'\n",
       "\\item '2014'\n",
       "\\item '2015'\n",
       "\\item '2004'\n",
       "\\end{enumerate*}\n"
      ],
      "text/markdown": [
       "1. '2017'\n",
       "2. '2000'\n",
       "3. '2012'\n",
       "4. '2011'\n",
       "5. '2009'\n",
       "6. '2013'\n",
       "7. '2007'\n",
       "8. '2014'\n",
       "9. '2015'\n",
       "10. '2004'\n",
       "\n",
       "\n"
      ],
      "text/plain": [
       " [1] \"2017\" \"2000\" \"2012\" \"2011\" \"2009\" \"2013\" \"2007\" \"2014\" \"2015\" \"2004\""
      ]
     },
     "metadata": {},
     "output_type": "display_data"
    },
    {
     "data": {
      "text/html": [
       "<ol class=list-inline>\n",
       "\t<li>'06'</li>\n",
       "\t<li>'03'</li>\n",
       "\t<li>'01'</li>\n",
       "\t<li>'05'</li>\n",
       "\t<li>'11'</li>\n",
       "\t<li>'10'</li>\n",
       "\t<li>'04'</li>\n",
       "\t<li>'02'</li>\n",
       "\t<li>'08'</li>\n",
       "\t<li>'07'</li>\n",
       "</ol>\n"
      ],
      "text/latex": [
       "\\begin{enumerate*}\n",
       "\\item '06'\n",
       "\\item '03'\n",
       "\\item '01'\n",
       "\\item '05'\n",
       "\\item '11'\n",
       "\\item '10'\n",
       "\\item '04'\n",
       "\\item '02'\n",
       "\\item '08'\n",
       "\\item '07'\n",
       "\\end{enumerate*}\n"
      ],
      "text/markdown": [
       "1. '06'\n",
       "2. '03'\n",
       "3. '01'\n",
       "4. '05'\n",
       "5. '11'\n",
       "6. '10'\n",
       "7. '04'\n",
       "8. '02'\n",
       "9. '08'\n",
       "10. '07'\n",
       "\n",
       "\n"
      ],
      "text/plain": [
       " [1] \"06\" \"03\" \"01\" \"05\" \"11\" \"10\" \"04\" \"02\" \"08\" \"07\""
      ]
     },
     "metadata": {},
     "output_type": "display_data"
    },
    {
     "data": {
      "text/html": [
       "<ol class=list-inline>\n",
       "\t<li>'13'</li>\n",
       "\t<li>'00'</li>\n",
       "\t<li>'27'</li>\n",
       "\t<li>'21'</li>\n",
       "\t<li>'10'</li>\n",
       "\t<li>'19'</li>\n",
       "\t<li>'14'</li>\n",
       "\t<li>'08'</li>\n",
       "\t<li>'24'</li>\n",
       "\t<li>'22'</li>\n",
       "</ol>\n"
      ],
      "text/latex": [
       "\\begin{enumerate*}\n",
       "\\item '13'\n",
       "\\item '00'\n",
       "\\item '27'\n",
       "\\item '21'\n",
       "\\item '10'\n",
       "\\item '19'\n",
       "\\item '14'\n",
       "\\item '08'\n",
       "\\item '24'\n",
       "\\item '22'\n",
       "\\end{enumerate*}\n"
      ],
      "text/markdown": [
       "1. '13'\n",
       "2. '00'\n",
       "3. '27'\n",
       "4. '21'\n",
       "5. '10'\n",
       "6. '19'\n",
       "7. '14'\n",
       "8. '08'\n",
       "9. '24'\n",
       "10. '22'\n",
       "\n",
       "\n"
      ],
      "text/plain": [
       " [1] \"13\" \"00\" \"27\" \"21\" \"10\" \"19\" \"14\" \"08\" \"24\" \"22\""
      ]
     },
     "metadata": {},
     "output_type": "display_data"
    }
   ],
   "source": [
    "library(dplyr)\n",
    "library(stringr)\n",
    "library(tidyr)\n",
    "\n",
    "myyear<-sprintf(\"20%02d\",sample(0:17,10))\n",
    "myyear\n",
    "\n",
    "mymonth<-sprintf(\"%02d\",sample(0:12,10))\n",
    "mymonth\n",
    "\n",
    "myday<-sprintf(\"%02d\",sample(0:31,10))\n",
    "myday"
   ]
  },
  {
   "cell_type": "code",
   "execution_count": 5,
   "metadata": {},
   "outputs": [
    {
     "data": {
      "text/html": [
       "<ol class=list-inline>\n",
       "\t<li>'2017-06-13'</li>\n",
       "\t<li>'2000-03-00'</li>\n",
       "\t<li>'2012-01-27'</li>\n",
       "\t<li>'2011-05-21'</li>\n",
       "\t<li>'2009-11-10'</li>\n",
       "\t<li>'2013-10-19'</li>\n",
       "\t<li>'2007-04-14'</li>\n",
       "\t<li>'2014-02-08'</li>\n",
       "\t<li>'2015-08-24'</li>\n",
       "\t<li>'2004-07-22'</li>\n",
       "</ol>\n"
      ],
      "text/latex": [
       "\\begin{enumerate*}\n",
       "\\item '2017-06-13'\n",
       "\\item '2000-03-00'\n",
       "\\item '2012-01-27'\n",
       "\\item '2011-05-21'\n",
       "\\item '2009-11-10'\n",
       "\\item '2013-10-19'\n",
       "\\item '2007-04-14'\n",
       "\\item '2014-02-08'\n",
       "\\item '2015-08-24'\n",
       "\\item '2004-07-22'\n",
       "\\end{enumerate*}\n"
      ],
      "text/markdown": [
       "1. '2017-06-13'\n",
       "2. '2000-03-00'\n",
       "3. '2012-01-27'\n",
       "4. '2011-05-21'\n",
       "5. '2009-11-10'\n",
       "6. '2013-10-19'\n",
       "7. '2007-04-14'\n",
       "8. '2014-02-08'\n",
       "9. '2015-08-24'\n",
       "10. '2004-07-22'\n",
       "\n",
       "\n"
      ],
      "text/plain": [
       " [1] \"2017-06-13\" \"2000-03-00\" \"2012-01-27\" \"2011-05-21\" \"2009-11-10\"\n",
       " [6] \"2013-10-19\" \"2007-04-14\" \"2014-02-08\" \"2015-08-24\" \"2004-07-22\""
      ]
     },
     "metadata": {},
     "output_type": "display_data"
    }
   ],
   "source": [
    "full<-paste(myyear,mymonth,myday,sep=\"-\")\n",
    "full"
   ]
  },
  {
   "cell_type": "code",
   "execution_count": 8,
   "metadata": {},
   "outputs": [
    {
     "data": {
      "text/html": [
       "<ol class=list-inline>\n",
       "\t<li>'2017'</li>\n",
       "\t<li>'2000'</li>\n",
       "\t<li>'2012'</li>\n",
       "\t<li>'2011'</li>\n",
       "\t<li>'2009'</li>\n",
       "\t<li>'2013'</li>\n",
       "\t<li>'2007'</li>\n",
       "\t<li>'2014'</li>\n",
       "\t<li>'2015'</li>\n",
       "\t<li>'2004'</li>\n",
       "</ol>\n"
      ],
      "text/latex": [
       "\\begin{enumerate*}\n",
       "\\item '2017'\n",
       "\\item '2000'\n",
       "\\item '2012'\n",
       "\\item '2011'\n",
       "\\item '2009'\n",
       "\\item '2013'\n",
       "\\item '2007'\n",
       "\\item '2014'\n",
       "\\item '2015'\n",
       "\\item '2004'\n",
       "\\end{enumerate*}\n"
      ],
      "text/markdown": [
       "1. '2017'\n",
       "2. '2000'\n",
       "3. '2012'\n",
       "4. '2011'\n",
       "5. '2009'\n",
       "6. '2013'\n",
       "7. '2007'\n",
       "8. '2014'\n",
       "9. '2015'\n",
       "10. '2004'\n",
       "\n",
       "\n"
      ],
      "text/plain": [
       " [1] \"2017\" \"2000\" \"2012\" \"2011\" \"2009\" \"2013\" \"2007\" \"2014\" \"2015\" \"2004\""
      ]
     },
     "metadata": {},
     "output_type": "display_data"
    },
    {
     "data": {
      "text/html": [
       "<ol class=list-inline>\n",
       "\t<li>'06'</li>\n",
       "\t<li>'03'</li>\n",
       "\t<li>'01'</li>\n",
       "\t<li>'05'</li>\n",
       "\t<li>'11'</li>\n",
       "\t<li>'10'</li>\n",
       "\t<li>'04'</li>\n",
       "\t<li>'02'</li>\n",
       "\t<li>'08'</li>\n",
       "\t<li>'07'</li>\n",
       "</ol>\n"
      ],
      "text/latex": [
       "\\begin{enumerate*}\n",
       "\\item '06'\n",
       "\\item '03'\n",
       "\\item '01'\n",
       "\\item '05'\n",
       "\\item '11'\n",
       "\\item '10'\n",
       "\\item '04'\n",
       "\\item '02'\n",
       "\\item '08'\n",
       "\\item '07'\n",
       "\\end{enumerate*}\n"
      ],
      "text/markdown": [
       "1. '06'\n",
       "2. '03'\n",
       "3. '01'\n",
       "4. '05'\n",
       "5. '11'\n",
       "6. '10'\n",
       "7. '04'\n",
       "8. '02'\n",
       "9. '08'\n",
       "10. '07'\n",
       "\n",
       "\n"
      ],
      "text/plain": [
       " [1] \"06\" \"03\" \"01\" \"05\" \"11\" \"10\" \"04\" \"02\" \"08\" \"07\""
      ]
     },
     "metadata": {},
     "output_type": "display_data"
    },
    {
     "data": {
      "text/html": [
       "<ol class=list-inline>\n",
       "\t<li>'13'</li>\n",
       "\t<li>'00'</li>\n",
       "\t<li>'27'</li>\n",
       "\t<li>'21'</li>\n",
       "\t<li>'10'</li>\n",
       "\t<li>'19'</li>\n",
       "\t<li>'14'</li>\n",
       "\t<li>'08'</li>\n",
       "\t<li>'24'</li>\n",
       "\t<li>'22'</li>\n",
       "</ol>\n"
      ],
      "text/latex": [
       "\\begin{enumerate*}\n",
       "\\item '13'\n",
       "\\item '00'\n",
       "\\item '27'\n",
       "\\item '21'\n",
       "\\item '10'\n",
       "\\item '19'\n",
       "\\item '14'\n",
       "\\item '08'\n",
       "\\item '24'\n",
       "\\item '22'\n",
       "\\end{enumerate*}\n"
      ],
      "text/markdown": [
       "1. '13'\n",
       "2. '00'\n",
       "3. '27'\n",
       "4. '21'\n",
       "5. '10'\n",
       "6. '19'\n",
       "7. '14'\n",
       "8. '08'\n",
       "9. '24'\n",
       "10. '22'\n",
       "\n",
       "\n"
      ],
      "text/plain": [
       " [1] \"13\" \"00\" \"27\" \"21\" \"10\" \"19\" \"14\" \"08\" \"24\" \"22\""
      ]
     },
     "metadata": {},
     "output_type": "display_data"
    }
   ],
   "source": [
    "myyear1=mymonth1=myday1=NULL\n",
    "\n",
    "for(i in 1:length(full)){\n",
    "    myyear1[i]<-strsplit(full[i],\"-\")[[1]][1]\n",
    "    mymonth1[i]<-strsplit(full[i],\"-\")[[1]][2]\n",
    "    myday1[i]<-strsplit(full[i],\"-\")[[1]][3]\n",
    "}\n",
    "\n",
    "myyear1\n",
    "mymonth1\n",
    "myday1"
   ]
  },
  {
   "cell_type": "code",
   "execution_count": 9,
   "metadata": {},
   "outputs": [
    {
     "data": {
      "text/html": [
       "<ol class=list-inline>\n",
       "\t<li>'2017'</li>\n",
       "\t<li>'2000'</li>\n",
       "\t<li>'2012'</li>\n",
       "\t<li>'2011'</li>\n",
       "\t<li>'2009'</li>\n",
       "\t<li>'2013'</li>\n",
       "\t<li>'2007'</li>\n",
       "\t<li>'2014'</li>\n",
       "\t<li>'2015'</li>\n",
       "\t<li>'2004'</li>\n",
       "</ol>\n"
      ],
      "text/latex": [
       "\\begin{enumerate*}\n",
       "\\item '2017'\n",
       "\\item '2000'\n",
       "\\item '2012'\n",
       "\\item '2011'\n",
       "\\item '2009'\n",
       "\\item '2013'\n",
       "\\item '2007'\n",
       "\\item '2014'\n",
       "\\item '2015'\n",
       "\\item '2004'\n",
       "\\end{enumerate*}\n"
      ],
      "text/markdown": [
       "1. '2017'\n",
       "2. '2000'\n",
       "3. '2012'\n",
       "4. '2011'\n",
       "5. '2009'\n",
       "6. '2013'\n",
       "7. '2007'\n",
       "8. '2014'\n",
       "9. '2015'\n",
       "10. '2004'\n",
       "\n",
       "\n"
      ],
      "text/plain": [
       " [1] \"2017\" \"2000\" \"2012\" \"2011\" \"2009\" \"2013\" \"2007\" \"2014\" \"2015\" \"2004\""
      ]
     },
     "metadata": {},
     "output_type": "display_data"
    },
    {
     "data": {
      "text/html": [
       "<ol class=list-inline>\n",
       "\t<li>'06'</li>\n",
       "\t<li>'03'</li>\n",
       "\t<li>'01'</li>\n",
       "\t<li>'05'</li>\n",
       "\t<li>'11'</li>\n",
       "\t<li>'10'</li>\n",
       "\t<li>'04'</li>\n",
       "\t<li>'02'</li>\n",
       "\t<li>'08'</li>\n",
       "\t<li>'07'</li>\n",
       "</ol>\n"
      ],
      "text/latex": [
       "\\begin{enumerate*}\n",
       "\\item '06'\n",
       "\\item '03'\n",
       "\\item '01'\n",
       "\\item '05'\n",
       "\\item '11'\n",
       "\\item '10'\n",
       "\\item '04'\n",
       "\\item '02'\n",
       "\\item '08'\n",
       "\\item '07'\n",
       "\\end{enumerate*}\n"
      ],
      "text/markdown": [
       "1. '06'\n",
       "2. '03'\n",
       "3. '01'\n",
       "4. '05'\n",
       "5. '11'\n",
       "6. '10'\n",
       "7. '04'\n",
       "8. '02'\n",
       "9. '08'\n",
       "10. '07'\n",
       "\n",
       "\n"
      ],
      "text/plain": [
       " [1] \"06\" \"03\" \"01\" \"05\" \"11\" \"10\" \"04\" \"02\" \"08\" \"07\""
      ]
     },
     "metadata": {},
     "output_type": "display_data"
    },
    {
     "data": {
      "text/html": [
       "<ol class=list-inline>\n",
       "\t<li>'13'</li>\n",
       "\t<li>'00'</li>\n",
       "\t<li>'27'</li>\n",
       "\t<li>'21'</li>\n",
       "\t<li>'10'</li>\n",
       "\t<li>'19'</li>\n",
       "\t<li>'14'</li>\n",
       "\t<li>'08'</li>\n",
       "\t<li>'24'</li>\n",
       "\t<li>'22'</li>\n",
       "</ol>\n"
      ],
      "text/latex": [
       "\\begin{enumerate*}\n",
       "\\item '13'\n",
       "\\item '00'\n",
       "\\item '27'\n",
       "\\item '21'\n",
       "\\item '10'\n",
       "\\item '19'\n",
       "\\item '14'\n",
       "\\item '08'\n",
       "\\item '24'\n",
       "\\item '22'\n",
       "\\end{enumerate*}\n"
      ],
      "text/markdown": [
       "1. '13'\n",
       "2. '00'\n",
       "3. '27'\n",
       "4. '21'\n",
       "5. '10'\n",
       "6. '19'\n",
       "7. '14'\n",
       "8. '08'\n",
       "9. '24'\n",
       "10. '22'\n",
       "\n",
       "\n"
      ],
      "text/plain": [
       " [1] \"13\" \"00\" \"27\" \"21\" \"10\" \"19\" \"14\" \"08\" \"24\" \"22\""
      ]
     },
     "metadata": {},
     "output_type": "display_data"
    }
   ],
   "source": [
    "#str_split用法相同\n",
    "myyear1=mymonth1=myday1=NULL\n",
    "\n",
    "for(i in 1:length(full)){\n",
    "    myyear1[i]<-str_split(full[i],\"-\")[[1]][1]\n",
    "    mymonth1[i]<-str_split(full[i],\"-\")[[1]][2]\n",
    "    myday1[i]<-str_split(full[i],\"-\")[[1]][3]\n",
    "}\n",
    "\n",
    "myyear1\n",
    "mymonth1\n",
    "myday1"
   ]
  },
  {
   "cell_type": "code",
   "execution_count": 11,
   "metadata": {},
   "outputs": [
    {
     "data": {
      "text/html": [
       "<table>\n",
       "<thead><tr><th scope=col>myyear</th><th scope=col>mymonth</th><th scope=col>myday</th></tr></thead>\n",
       "<tbody>\n",
       "\t<tr><td>2017</td><td>06  </td><td>13  </td></tr>\n",
       "\t<tr><td>2000</td><td>03  </td><td>00  </td></tr>\n",
       "\t<tr><td>2012</td><td>01  </td><td>27  </td></tr>\n",
       "\t<tr><td>2011</td><td>05  </td><td>21  </td></tr>\n",
       "\t<tr><td>2009</td><td>11  </td><td>10  </td></tr>\n",
       "\t<tr><td>2013</td><td>10  </td><td>19  </td></tr>\n",
       "\t<tr><td>2007</td><td>04  </td><td>14  </td></tr>\n",
       "\t<tr><td>2014</td><td>02  </td><td>08  </td></tr>\n",
       "\t<tr><td>2015</td><td>08  </td><td>24  </td></tr>\n",
       "\t<tr><td>2004</td><td>07  </td><td>22  </td></tr>\n",
       "</tbody>\n",
       "</table>\n"
      ],
      "text/latex": [
       "\\begin{tabular}{r|lll}\n",
       " myyear & mymonth & myday\\\\\n",
       "\\hline\n",
       "\t 2017 & 06   & 13  \\\\\n",
       "\t 2000 & 03   & 00  \\\\\n",
       "\t 2012 & 01   & 27  \\\\\n",
       "\t 2011 & 05   & 21  \\\\\n",
       "\t 2009 & 11   & 10  \\\\\n",
       "\t 2013 & 10   & 19  \\\\\n",
       "\t 2007 & 04   & 14  \\\\\n",
       "\t 2014 & 02   & 08  \\\\\n",
       "\t 2015 & 08   & 24  \\\\\n",
       "\t 2004 & 07   & 22  \\\\\n",
       "\\end{tabular}\n"
      ],
      "text/markdown": [
       "\n",
       "myyear | mymonth | myday | \n",
       "|---|---|---|---|---|---|---|---|---|---|\n",
       "| 2017 | 06   | 13   | \n",
       "| 2000 | 03   | 00   | \n",
       "| 2012 | 01   | 27   | \n",
       "| 2011 | 05   | 21   | \n",
       "| 2009 | 11   | 10   | \n",
       "| 2013 | 10   | 19   | \n",
       "| 2007 | 04   | 14   | \n",
       "| 2014 | 02   | 08   | \n",
       "| 2015 | 08   | 24   | \n",
       "| 2004 | 07   | 22   | \n",
       "\n",
       "\n"
      ],
      "text/plain": [
       "   myyear mymonth myday\n",
       "1  2017   06      13   \n",
       "2  2000   03      00   \n",
       "3  2012   01      27   \n",
       "4  2011   05      21   \n",
       "5  2009   11      10   \n",
       "6  2013   10      19   \n",
       "7  2007   04      14   \n",
       "8  2014   02      08   \n",
       "9  2015   08      24   \n",
       "10 2004   07      22   "
      ]
     },
     "metadata": {},
     "output_type": "display_data"
    }
   ],
   "source": [
    "mydata<-data.frame(myyear,mymonth,myday)\n",
    "mydata"
   ]
  },
  {
   "cell_type": "markdown",
   "metadata": {},
   "source": [
    "### unit和separate函数是配对函数，\n",
    "第一个参数是要操作的数据框名称，\n",
    "\n",
    "第二个参数是合并后的新列名（或待拆分的列名），\n",
    "\n",
    "第三个是待合并的列名向量（拆分后的新增列名），\n",
    "\n",
    "sep是拆分（合并）依据，\n",
    "\n",
    "remove则控制输出的数据框是否包含原始向量"
   ]
  },
  {
   "cell_type": "code",
   "execution_count": 13,
   "metadata": {},
   "outputs": [
    {
     "data": {
      "text/html": [
       "<table>\n",
       "<thead><tr><th scope=col>datetime</th><th scope=col>myyear</th><th scope=col>mymonth</th><th scope=col>myday</th></tr></thead>\n",
       "<tbody>\n",
       "\t<tr><td>2017-06-13</td><td>2017      </td><td>06        </td><td>13        </td></tr>\n",
       "\t<tr><td>2000-03-00</td><td>2000      </td><td>03        </td><td>00        </td></tr>\n",
       "\t<tr><td>2012-01-27</td><td>2012      </td><td>01        </td><td>27        </td></tr>\n",
       "\t<tr><td>2011-05-21</td><td>2011      </td><td>05        </td><td>21        </td></tr>\n",
       "\t<tr><td>2009-11-10</td><td>2009      </td><td>11        </td><td>10        </td></tr>\n",
       "\t<tr><td>2013-10-19</td><td>2013      </td><td>10        </td><td>19        </td></tr>\n",
       "\t<tr><td>2007-04-14</td><td>2007      </td><td>04        </td><td>14        </td></tr>\n",
       "\t<tr><td>2014-02-08</td><td>2014      </td><td>02        </td><td>08        </td></tr>\n",
       "\t<tr><td>2015-08-24</td><td>2015      </td><td>08        </td><td>24        </td></tr>\n",
       "\t<tr><td>2004-07-22</td><td>2004      </td><td>07        </td><td>22        </td></tr>\n",
       "</tbody>\n",
       "</table>\n"
      ],
      "text/latex": [
       "\\begin{tabular}{r|llll}\n",
       " datetime & myyear & mymonth & myday\\\\\n",
       "\\hline\n",
       "\t 2017-06-13 & 2017       & 06         & 13        \\\\\n",
       "\t 2000-03-00 & 2000       & 03         & 00        \\\\\n",
       "\t 2012-01-27 & 2012       & 01         & 27        \\\\\n",
       "\t 2011-05-21 & 2011       & 05         & 21        \\\\\n",
       "\t 2009-11-10 & 2009       & 11         & 10        \\\\\n",
       "\t 2013-10-19 & 2013       & 10         & 19        \\\\\n",
       "\t 2007-04-14 & 2007       & 04         & 14        \\\\\n",
       "\t 2014-02-08 & 2014       & 02         & 08        \\\\\n",
       "\t 2015-08-24 & 2015       & 08         & 24        \\\\\n",
       "\t 2004-07-22 & 2004       & 07         & 22        \\\\\n",
       "\\end{tabular}\n"
      ],
      "text/markdown": [
       "\n",
       "datetime | myyear | mymonth | myday | \n",
       "|---|---|---|---|---|---|---|---|---|---|\n",
       "| 2017-06-13 | 2017       | 06         | 13         | \n",
       "| 2000-03-00 | 2000       | 03         | 00         | \n",
       "| 2012-01-27 | 2012       | 01         | 27         | \n",
       "| 2011-05-21 | 2011       | 05         | 21         | \n",
       "| 2009-11-10 | 2009       | 11         | 10         | \n",
       "| 2013-10-19 | 2013       | 10         | 19         | \n",
       "| 2007-04-14 | 2007       | 04         | 14         | \n",
       "| 2014-02-08 | 2014       | 02         | 08         | \n",
       "| 2015-08-24 | 2015       | 08         | 24         | \n",
       "| 2004-07-22 | 2004       | 07         | 22         | \n",
       "\n",
       "\n"
      ],
      "text/plain": [
       "   datetime   myyear mymonth myday\n",
       "1  2017-06-13 2017   06      13   \n",
       "2  2000-03-00 2000   03      00   \n",
       "3  2012-01-27 2012   01      27   \n",
       "4  2011-05-21 2011   05      21   \n",
       "5  2009-11-10 2009   11      10   \n",
       "6  2013-10-19 2013   10      19   \n",
       "7  2007-04-14 2007   04      14   \n",
       "8  2014-02-08 2014   02      08   \n",
       "9  2015-08-24 2015   08      24   \n",
       "10 2004-07-22 2004   07      22   "
      ]
     },
     "metadata": {},
     "output_type": "display_data"
    }
   ],
   "source": [
    "mydata1<-unite(mydata,col=\"datetime\",c(\"myyear\",\"mymonth\",\"myday\"),sep=\"-\",remove=FALSE)\n",
    "mydata1"
   ]
  },
  {
   "cell_type": "code",
   "execution_count": 16,
   "metadata": {},
   "outputs": [
    {
     "data": {
      "text/html": [
       "<table>\n",
       "<thead><tr><th scope=col>datetime</th><th scope=col>myyear1</th><th scope=col>mymonth1</th><th scope=col>myday</th><th scope=col>myyear</th><th scope=col>mymonth</th><th scope=col>myday</th></tr></thead>\n",
       "<tbody>\n",
       "\t<tr><td>2017-06-13</td><td>2017      </td><td>06        </td><td>13        </td><td>2017      </td><td>06        </td><td>13        </td></tr>\n",
       "\t<tr><td>2000-03-00</td><td>2000      </td><td>03        </td><td>00        </td><td>2000      </td><td>03        </td><td>00        </td></tr>\n",
       "\t<tr><td>2012-01-27</td><td>2012      </td><td>01        </td><td>27        </td><td>2012      </td><td>01        </td><td>27        </td></tr>\n",
       "\t<tr><td>2011-05-21</td><td>2011      </td><td>05        </td><td>21        </td><td>2011      </td><td>05        </td><td>21        </td></tr>\n",
       "\t<tr><td>2009-11-10</td><td>2009      </td><td>11        </td><td>10        </td><td>2009      </td><td>11        </td><td>10        </td></tr>\n",
       "\t<tr><td>2013-10-19</td><td>2013      </td><td>10        </td><td>19        </td><td>2013      </td><td>10        </td><td>19        </td></tr>\n",
       "\t<tr><td>2007-04-14</td><td>2007      </td><td>04        </td><td>14        </td><td>2007      </td><td>04        </td><td>14        </td></tr>\n",
       "\t<tr><td>2014-02-08</td><td>2014      </td><td>02        </td><td>08        </td><td>2014      </td><td>02        </td><td>08        </td></tr>\n",
       "\t<tr><td>2015-08-24</td><td>2015      </td><td>08        </td><td>24        </td><td>2015      </td><td>08        </td><td>24        </td></tr>\n",
       "\t<tr><td>2004-07-22</td><td>2004      </td><td>07        </td><td>22        </td><td>2004      </td><td>07        </td><td>22        </td></tr>\n",
       "</tbody>\n",
       "</table>\n"
      ],
      "text/latex": [
       "\\begin{tabular}{r|lllllll}\n",
       " datetime & myyear1 & mymonth1 & myday & myyear & mymonth & myday\\\\\n",
       "\\hline\n",
       "\t 2017-06-13 & 2017       & 06         & 13         & 2017       & 06         & 13        \\\\\n",
       "\t 2000-03-00 & 2000       & 03         & 00         & 2000       & 03         & 00        \\\\\n",
       "\t 2012-01-27 & 2012       & 01         & 27         & 2012       & 01         & 27        \\\\\n",
       "\t 2011-05-21 & 2011       & 05         & 21         & 2011       & 05         & 21        \\\\\n",
       "\t 2009-11-10 & 2009       & 11         & 10         & 2009       & 11         & 10        \\\\\n",
       "\t 2013-10-19 & 2013       & 10         & 19         & 2013       & 10         & 19        \\\\\n",
       "\t 2007-04-14 & 2007       & 04         & 14         & 2007       & 04         & 14        \\\\\n",
       "\t 2014-02-08 & 2014       & 02         & 08         & 2014       & 02         & 08        \\\\\n",
       "\t 2015-08-24 & 2015       & 08         & 24         & 2015       & 08         & 24        \\\\\n",
       "\t 2004-07-22 & 2004       & 07         & 22         & 2004       & 07         & 22        \\\\\n",
       "\\end{tabular}\n"
      ],
      "text/markdown": [
       "\n",
       "datetime | myyear1 | mymonth1 | myday | myyear | mymonth | myday | \n",
       "|---|---|---|---|---|---|---|---|---|---|\n",
       "| 2017-06-13 | 2017       | 06         | 13         | 2017       | 06         | 13         | \n",
       "| 2000-03-00 | 2000       | 03         | 00         | 2000       | 03         | 00         | \n",
       "| 2012-01-27 | 2012       | 01         | 27         | 2012       | 01         | 27         | \n",
       "| 2011-05-21 | 2011       | 05         | 21         | 2011       | 05         | 21         | \n",
       "| 2009-11-10 | 2009       | 11         | 10         | 2009       | 11         | 10         | \n",
       "| 2013-10-19 | 2013       | 10         | 19         | 2013       | 10         | 19         | \n",
       "| 2007-04-14 | 2007       | 04         | 14         | 2007       | 04         | 14         | \n",
       "| 2014-02-08 | 2014       | 02         | 08         | 2014       | 02         | 08         | \n",
       "| 2015-08-24 | 2015       | 08         | 24         | 2015       | 08         | 24         | \n",
       "| 2004-07-22 | 2004       | 07         | 22         | 2004       | 07         | 22         | \n",
       "\n",
       "\n"
      ],
      "text/plain": [
       "   datetime   myyear1 mymonth1 myday myyear mymonth myday\n",
       "1  2017-06-13 2017    06       13    2017   06      13   \n",
       "2  2000-03-00 2000    03       00    2000   03      00   \n",
       "3  2012-01-27 2012    01       27    2012   01      27   \n",
       "4  2011-05-21 2011    05       21    2011   05      21   \n",
       "5  2009-11-10 2009    11       10    2009   11      10   \n",
       "6  2013-10-19 2013    10       19    2013   10      19   \n",
       "7  2007-04-14 2007    04       14    2007   04      14   \n",
       "8  2014-02-08 2014    02       08    2014   02      08   \n",
       "9  2015-08-24 2015    08       24    2015   08      24   \n",
       "10 2004-07-22 2004    07       22    2004   07      22   "
      ]
     },
     "metadata": {},
     "output_type": "display_data"
    }
   ],
   "source": [
    "mydata2<-separate(mydata1,col=\"datetime\",c(\"myyear1\",\"mymonth1\",\"myday\"),sep=\"-\",remove=FALSE)\n",
    "mydata2"
   ]
  }
 ],
 "metadata": {
  "kernelspec": {
   "display_name": "R",
   "language": "R",
   "name": "ir"
  },
  "language_info": {
   "codemirror_mode": "r",
   "file_extension": ".r",
   "mimetype": "text/x-r-source",
   "name": "R",
   "pygments_lexer": "r",
   "version": "3.4.1"
  }
 },
 "nbformat": 4,
 "nbformat_minor": 2
}
