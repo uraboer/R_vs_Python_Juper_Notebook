{
 "cells": [
  {
   "cell_type": "markdown",
   "metadata": {},
   "source": [
    "### 针对向量\n",
    "- sort\n",
    "- order\n",
    "- rank\n",
    "\n",
    "### 针对数据框\n",
    "- arrange"
   ]
  },
  {
   "cell_type": "code",
   "execution_count": 3,
   "metadata": {},
   "outputs": [
    {
     "data": {
      "text/html": [
       "<ol class=list-inline>\n",
       "\t<li>32</li>\n",
       "\t<li>67</li>\n",
       "\t<li>74</li>\n",
       "\t<li>85</li>\n",
       "\t<li>93</li>\n",
       "\t<li>97</li>\n",
       "\t<li>99</li>\n",
       "\t<li>100</li>\n",
       "</ol>\n"
      ],
      "text/latex": [
       "\\begin{enumerate*}\n",
       "\\item 32\n",
       "\\item 67\n",
       "\\item 74\n",
       "\\item 85\n",
       "\\item 93\n",
       "\\item 97\n",
       "\\item 99\n",
       "\\item 100\n",
       "\\end{enumerate*}\n"
      ],
      "text/markdown": [
       "1. 32\n",
       "2. 67\n",
       "3. 74\n",
       "4. 85\n",
       "5. 93\n",
       "6. 97\n",
       "7. 99\n",
       "8. 100\n",
       "\n",
       "\n"
      ],
      "text/plain": [
       "[1]  32  67  74  85  93  97  99 100"
      ]
     },
     "metadata": {},
     "output_type": "display_data"
    },
    {
     "data": {
      "text/html": [
       "<ol class=list-inline>\n",
       "\t<li>100</li>\n",
       "\t<li>99</li>\n",
       "\t<li>97</li>\n",
       "\t<li>93</li>\n",
       "\t<li>85</li>\n",
       "\t<li>74</li>\n",
       "\t<li>67</li>\n",
       "\t<li>32</li>\n",
       "</ol>\n"
      ],
      "text/latex": [
       "\\begin{enumerate*}\n",
       "\\item 100\n",
       "\\item 99\n",
       "\\item 97\n",
       "\\item 93\n",
       "\\item 85\n",
       "\\item 74\n",
       "\\item 67\n",
       "\\item 32\n",
       "\\end{enumerate*}\n"
      ],
      "text/markdown": [
       "1. 100\n",
       "2. 99\n",
       "3. 97\n",
       "4. 93\n",
       "5. 85\n",
       "6. 74\n",
       "7. 67\n",
       "8. 32\n",
       "\n",
       "\n"
      ],
      "text/plain": [
       "[1] 100  99  97  93  85  74  67  32"
      ]
     },
     "metadata": {},
     "output_type": "display_data"
    }
   ],
   "source": [
    "x<-c(97,93,85,74,32,100,99,67)\n",
    "\n",
    "sort(x,decreasing=F) #默认是升序，decreasing=FALSE\n",
    "\n",
    "sort(x,decreasing=T)"
   ]
  },
  {
   "cell_type": "code",
   "execution_count": 5,
   "metadata": {},
   "outputs": [
    {
     "data": {
      "text/html": [
       "<ol class=list-inline>\n",
       "\t<li>5</li>\n",
       "\t<li>8</li>\n",
       "\t<li>4</li>\n",
       "\t<li>3</li>\n",
       "\t<li>2</li>\n",
       "\t<li>1</li>\n",
       "\t<li>7</li>\n",
       "\t<li>6</li>\n",
       "</ol>\n"
      ],
      "text/latex": [
       "\\begin{enumerate*}\n",
       "\\item 5\n",
       "\\item 8\n",
       "\\item 4\n",
       "\\item 3\n",
       "\\item 2\n",
       "\\item 1\n",
       "\\item 7\n",
       "\\item 6\n",
       "\\end{enumerate*}\n"
      ],
      "text/markdown": [
       "1. 5\n",
       "2. 8\n",
       "3. 4\n",
       "4. 3\n",
       "5. 2\n",
       "6. 1\n",
       "7. 7\n",
       "8. 6\n",
       "\n",
       "\n"
      ],
      "text/plain": [
       "[1] 5 8 4 3 2 1 7 6"
      ]
     },
     "metadata": {},
     "output_type": "display_data"
    },
    {
     "data": {
      "text/html": [
       "<ol class=list-inline>\n",
       "\t<li>6</li>\n",
       "\t<li>7</li>\n",
       "\t<li>1</li>\n",
       "\t<li>2</li>\n",
       "\t<li>3</li>\n",
       "\t<li>4</li>\n",
       "\t<li>8</li>\n",
       "\t<li>5</li>\n",
       "</ol>\n"
      ],
      "text/latex": [
       "\\begin{enumerate*}\n",
       "\\item 6\n",
       "\\item 7\n",
       "\\item 1\n",
       "\\item 2\n",
       "\\item 3\n",
       "\\item 4\n",
       "\\item 8\n",
       "\\item 5\n",
       "\\end{enumerate*}\n"
      ],
      "text/markdown": [
       "1. 6\n",
       "2. 7\n",
       "3. 1\n",
       "4. 2\n",
       "5. 3\n",
       "6. 4\n",
       "7. 8\n",
       "8. 5\n",
       "\n",
       "\n"
      ],
      "text/plain": [
       "[1] 6 7 1 2 3 4 8 5"
      ]
     },
     "metadata": {},
     "output_type": "display_data"
    }
   ],
   "source": [
    "order(x,decreasing=F) #（排好后），变量由小到大在原始数据中的位次（默认升序）\n",
    "\n",
    "order(x,decreasing=T)"
   ]
  },
  {
   "cell_type": "code",
   "execution_count": 6,
   "metadata": {},
   "outputs": [
    {
     "data": {
      "text/html": [
       "<ol class=list-inline>\n",
       "\t<li>6</li>\n",
       "\t<li>5</li>\n",
       "\t<li>4</li>\n",
       "\t<li>3</li>\n",
       "\t<li>1</li>\n",
       "\t<li>8</li>\n",
       "\t<li>7</li>\n",
       "\t<li>2</li>\n",
       "</ol>\n"
      ],
      "text/latex": [
       "\\begin{enumerate*}\n",
       "\\item 6\n",
       "\\item 5\n",
       "\\item 4\n",
       "\\item 3\n",
       "\\item 1\n",
       "\\item 8\n",
       "\\item 7\n",
       "\\item 2\n",
       "\\end{enumerate*}\n"
      ],
      "text/markdown": [
       "1. 6\n",
       "2. 5\n",
       "3. 4\n",
       "4. 3\n",
       "5. 1\n",
       "6. 8\n",
       "7. 7\n",
       "8. 2\n",
       "\n",
       "\n"
      ],
      "text/plain": [
       "[1] 6 5 4 3 1 8 7 2"
      ]
     },
     "metadata": {},
     "output_type": "display_data"
    }
   ],
   "source": [
    "rank(x) #（不排序），返回向量的秩，即对应元素在原始向量中的排名"
   ]
  },
  {
   "cell_type": "code",
   "execution_count": 8,
   "metadata": {},
   "outputs": [
    {
     "data": {
      "text/html": [
       "<table>\n",
       "<thead><tr><th scope=col>name</th><th scope=col>class</th><th scope=col>value</th></tr></thead>\n",
       "<tbody>\n",
       "\t<tr><td>A        </td><td>b        </td><td>4.5294334</td></tr>\n",
       "\t<tr><td>B        </td><td>d        </td><td>1.2457679</td></tr>\n",
       "\t<tr><td>C        </td><td>a        </td><td>2.3161248</td></tr>\n",
       "\t<tr><td>D        </td><td>c        </td><td>0.6448024</td></tr>\n",
       "\t<tr><td>E        </td><td>b        </td><td>4.9784493</td></tr>\n",
       "\t<tr><td>F        </td><td>c        </td><td>4.4243614</td></tr>\n",
       "\t<tr><td>G        </td><td>d        </td><td>2.9567734</td></tr>\n",
       "\t<tr><td>H        </td><td>a        </td><td>2.1306743</td></tr>\n",
       "\t<tr><td>I        </td><td>b        </td><td>1.1427236</td></tr>\n",
       "\t<tr><td>J        </td><td>b        </td><td>4.6067167</td></tr>\n",
       "</tbody>\n",
       "</table>\n"
      ],
      "text/latex": [
       "\\begin{tabular}{r|lll}\n",
       " name & class & value\\\\\n",
       "\\hline\n",
       "\t A         & b         & 4.5294334\\\\\n",
       "\t B         & d         & 1.2457679\\\\\n",
       "\t C         & a         & 2.3161248\\\\\n",
       "\t D         & c         & 0.6448024\\\\\n",
       "\t E         & b         & 4.9784493\\\\\n",
       "\t F         & c         & 4.4243614\\\\\n",
       "\t G         & d         & 2.9567734\\\\\n",
       "\t H         & a         & 2.1306743\\\\\n",
       "\t I         & b         & 1.1427236\\\\\n",
       "\t J         & b         & 4.6067167\\\\\n",
       "\\end{tabular}\n"
      ],
      "text/markdown": [
       "\n",
       "name | class | value | \n",
       "|---|---|---|---|---|---|---|---|---|---|\n",
       "| A         | b         | 4.5294334 | \n",
       "| B         | d         | 1.2457679 | \n",
       "| C         | a         | 2.3161248 | \n",
       "| D         | c         | 0.6448024 | \n",
       "| E         | b         | 4.9784493 | \n",
       "| F         | c         | 4.4243614 | \n",
       "| G         | d         | 2.9567734 | \n",
       "| H         | a         | 2.1306743 | \n",
       "| I         | b         | 1.1427236 | \n",
       "| J         | b         | 4.6067167 | \n",
       "\n",
       "\n"
      ],
      "text/plain": [
       "   name class value    \n",
       "1  A    b     4.5294334\n",
       "2  B    d     1.2457679\n",
       "3  C    a     2.3161248\n",
       "4  D    c     0.6448024\n",
       "5  E    b     4.9784493\n",
       "6  F    c     4.4243614\n",
       "7  G    d     2.9567734\n",
       "8  H    a     2.1306743\n",
       "9  I    b     1.1427236\n",
       "10 J    b     4.6067167"
      ]
     },
     "metadata": {},
     "output_type": "display_data"
    }
   ],
   "source": [
    "(mydata<-data.frame(name=LETTERS[1:10],class=sample(letters[1:4],10,\n",
    "    replace=TRUE),value=runif(10,0,5)))"
   ]
  },
  {
   "cell_type": "code",
   "execution_count": 10,
   "metadata": {},
   "outputs": [
    {
     "data": {
      "text/html": [
       "<table>\n",
       "<thead><tr><th></th><th scope=col>name</th><th scope=col>class</th><th scope=col>value</th></tr></thead>\n",
       "<tbody>\n",
       "\t<tr><th scope=row>4</th><td>D        </td><td>c        </td><td>0.6448024</td></tr>\n",
       "\t<tr><th scope=row>9</th><td>I        </td><td>b        </td><td>1.1427236</td></tr>\n",
       "\t<tr><th scope=row>2</th><td>B        </td><td>d        </td><td>1.2457679</td></tr>\n",
       "\t<tr><th scope=row>8</th><td>H        </td><td>a        </td><td>2.1306743</td></tr>\n",
       "\t<tr><th scope=row>3</th><td>C        </td><td>a        </td><td>2.3161248</td></tr>\n",
       "\t<tr><th scope=row>7</th><td>G        </td><td>d        </td><td>2.9567734</td></tr>\n",
       "\t<tr><th scope=row>6</th><td>F        </td><td>c        </td><td>4.4243614</td></tr>\n",
       "\t<tr><th scope=row>1</th><td>A        </td><td>b        </td><td>4.5294334</td></tr>\n",
       "\t<tr><th scope=row>10</th><td>J        </td><td>b        </td><td>4.6067167</td></tr>\n",
       "\t<tr><th scope=row>5</th><td>E        </td><td>b        </td><td>4.9784493</td></tr>\n",
       "</tbody>\n",
       "</table>\n"
      ],
      "text/latex": [
       "\\begin{tabular}{r|lll}\n",
       "  & name & class & value\\\\\n",
       "\\hline\n",
       "\t4 & D         & c         & 0.6448024\\\\\n",
       "\t9 & I         & b         & 1.1427236\\\\\n",
       "\t2 & B         & d         & 1.2457679\\\\\n",
       "\t8 & H         & a         & 2.1306743\\\\\n",
       "\t3 & C         & a         & 2.3161248\\\\\n",
       "\t7 & G         & d         & 2.9567734\\\\\n",
       "\t6 & F         & c         & 4.4243614\\\\\n",
       "\t1 & A         & b         & 4.5294334\\\\\n",
       "\t10 & J         & b         & 4.6067167\\\\\n",
       "\t5 & E         & b         & 4.9784493\\\\\n",
       "\\end{tabular}\n"
      ],
      "text/markdown": [
       "\n",
       "| <!--/--> | name | class | value | \n",
       "|---|---|---|---|---|---|---|---|---|---|\n",
       "| 4 | D         | c         | 0.6448024 | \n",
       "| 9 | I         | b         | 1.1427236 | \n",
       "| 2 | B         | d         | 1.2457679 | \n",
       "| 8 | H         | a         | 2.1306743 | \n",
       "| 3 | C         | a         | 2.3161248 | \n",
       "| 7 | G         | d         | 2.9567734 | \n",
       "| 6 | F         | c         | 4.4243614 | \n",
       "| 1 | A         | b         | 4.5294334 | \n",
       "| 10 | J         | b         | 4.6067167 | \n",
       "| 5 | E         | b         | 4.9784493 | \n",
       "\n",
       "\n"
      ],
      "text/plain": [
       "   name class value    \n",
       "4  D    c     0.6448024\n",
       "9  I    b     1.1427236\n",
       "2  B    d     1.2457679\n",
       "8  H    a     2.1306743\n",
       "3  C    a     2.3161248\n",
       "7  G    d     2.9567734\n",
       "6  F    c     4.4243614\n",
       "1  A    b     4.5294334\n",
       "10 J    b     4.6067167\n",
       "5  E    b     4.9784493"
      ]
     },
     "metadata": {},
     "output_type": "display_data"
    },
    {
     "data": {
      "text/html": [
       "<table>\n",
       "<thead><tr><th></th><th scope=col>name</th><th scope=col>class</th><th scope=col>value</th></tr></thead>\n",
       "<tbody>\n",
       "\t<tr><th scope=row>5</th><td>E        </td><td>b        </td><td>4.9784493</td></tr>\n",
       "\t<tr><th scope=row>10</th><td>J        </td><td>b        </td><td>4.6067167</td></tr>\n",
       "\t<tr><th scope=row>1</th><td>A        </td><td>b        </td><td>4.5294334</td></tr>\n",
       "\t<tr><th scope=row>6</th><td>F        </td><td>c        </td><td>4.4243614</td></tr>\n",
       "\t<tr><th scope=row>7</th><td>G        </td><td>d        </td><td>2.9567734</td></tr>\n",
       "\t<tr><th scope=row>3</th><td>C        </td><td>a        </td><td>2.3161248</td></tr>\n",
       "\t<tr><th scope=row>8</th><td>H        </td><td>a        </td><td>2.1306743</td></tr>\n",
       "\t<tr><th scope=row>2</th><td>B        </td><td>d        </td><td>1.2457679</td></tr>\n",
       "\t<tr><th scope=row>9</th><td>I        </td><td>b        </td><td>1.1427236</td></tr>\n",
       "\t<tr><th scope=row>4</th><td>D        </td><td>c        </td><td>0.6448024</td></tr>\n",
       "</tbody>\n",
       "</table>\n"
      ],
      "text/latex": [
       "\\begin{tabular}{r|lll}\n",
       "  & name & class & value\\\\\n",
       "\\hline\n",
       "\t5 & E         & b         & 4.9784493\\\\\n",
       "\t10 & J         & b         & 4.6067167\\\\\n",
       "\t1 & A         & b         & 4.5294334\\\\\n",
       "\t6 & F         & c         & 4.4243614\\\\\n",
       "\t7 & G         & d         & 2.9567734\\\\\n",
       "\t3 & C         & a         & 2.3161248\\\\\n",
       "\t8 & H         & a         & 2.1306743\\\\\n",
       "\t2 & B         & d         & 1.2457679\\\\\n",
       "\t9 & I         & b         & 1.1427236\\\\\n",
       "\t4 & D         & c         & 0.6448024\\\\\n",
       "\\end{tabular}\n"
      ],
      "text/markdown": [
       "\n",
       "| <!--/--> | name | class | value | \n",
       "|---|---|---|---|---|---|---|---|---|---|\n",
       "| 5 | E         | b         | 4.9784493 | \n",
       "| 10 | J         | b         | 4.6067167 | \n",
       "| 1 | A         | b         | 4.5294334 | \n",
       "| 6 | F         | c         | 4.4243614 | \n",
       "| 7 | G         | d         | 2.9567734 | \n",
       "| 3 | C         | a         | 2.3161248 | \n",
       "| 8 | H         | a         | 2.1306743 | \n",
       "| 2 | B         | d         | 1.2457679 | \n",
       "| 9 | I         | b         | 1.1427236 | \n",
       "| 4 | D         | c         | 0.6448024 | \n",
       "\n",
       "\n"
      ],
      "text/plain": [
       "   name class value    \n",
       "5  E    b     4.9784493\n",
       "10 J    b     4.6067167\n",
       "1  A    b     4.5294334\n",
       "6  F    c     4.4243614\n",
       "7  G    d     2.9567734\n",
       "3  C    a     2.3161248\n",
       "8  H    a     2.1306743\n",
       "2  B    d     1.2457679\n",
       "9  I    b     1.1427236\n",
       "4  D    c     0.6448024"
      ]
     },
     "metadata": {},
     "output_type": "display_data"
    }
   ],
   "source": [
    "mydata[order(mydata$value),]\n",
    "\n",
    "mydata[order(mydata$value,decreasing=T),]\n",
    "\n",
    "#以上这种能够方式通过基于数据框自身的规则，完成了排序工作（实际上是一种\n",
    "#布尔索引），但是不够优雅，谢了繁琐的变量名，而且只能根据一个字段来排序"
   ]
  },
  {
   "cell_type": "code",
   "execution_count": 14,
   "metadata": {},
   "outputs": [
    {
     "data": {
      "text/html": [
       "<table>\n",
       "<thead><tr><th scope=col>name</th><th scope=col>class</th><th scope=col>value</th></tr></thead>\n",
       "<tbody>\n",
       "\t<tr><td>H        </td><td>a        </td><td>2.1306743</td></tr>\n",
       "\t<tr><td>C        </td><td>a        </td><td>2.3161248</td></tr>\n",
       "\t<tr><td>I        </td><td>b        </td><td>1.1427236</td></tr>\n",
       "\t<tr><td>A        </td><td>b        </td><td>4.5294334</td></tr>\n",
       "\t<tr><td>J        </td><td>b        </td><td>4.6067167</td></tr>\n",
       "\t<tr><td>E        </td><td>b        </td><td>4.9784493</td></tr>\n",
       "\t<tr><td>D        </td><td>c        </td><td>0.6448024</td></tr>\n",
       "\t<tr><td>F        </td><td>c        </td><td>4.4243614</td></tr>\n",
       "\t<tr><td>B        </td><td>d        </td><td>1.2457679</td></tr>\n",
       "\t<tr><td>G        </td><td>d        </td><td>2.9567734</td></tr>\n",
       "</tbody>\n",
       "</table>\n"
      ],
      "text/latex": [
       "\\begin{tabular}{r|lll}\n",
       " name & class & value\\\\\n",
       "\\hline\n",
       "\t H         & a         & 2.1306743\\\\\n",
       "\t C         & a         & 2.3161248\\\\\n",
       "\t I         & b         & 1.1427236\\\\\n",
       "\t A         & b         & 4.5294334\\\\\n",
       "\t J         & b         & 4.6067167\\\\\n",
       "\t E         & b         & 4.9784493\\\\\n",
       "\t D         & c         & 0.6448024\\\\\n",
       "\t F         & c         & 4.4243614\\\\\n",
       "\t B         & d         & 1.2457679\\\\\n",
       "\t G         & d         & 2.9567734\\\\\n",
       "\\end{tabular}\n"
      ],
      "text/markdown": [
       "\n",
       "name | class | value | \n",
       "|---|---|---|---|---|---|---|---|---|---|\n",
       "| H         | a         | 2.1306743 | \n",
       "| C         | a         | 2.3161248 | \n",
       "| I         | b         | 1.1427236 | \n",
       "| A         | b         | 4.5294334 | \n",
       "| J         | b         | 4.6067167 | \n",
       "| E         | b         | 4.9784493 | \n",
       "| D         | c         | 0.6448024 | \n",
       "| F         | c         | 4.4243614 | \n",
       "| B         | d         | 1.2457679 | \n",
       "| G         | d         | 2.9567734 | \n",
       "\n",
       "\n"
      ],
      "text/plain": [
       "   name class value    \n",
       "1  H    a     2.1306743\n",
       "2  C    a     2.3161248\n",
       "3  I    b     1.1427236\n",
       "4  A    b     4.5294334\n",
       "5  J    b     4.6067167\n",
       "6  E    b     4.9784493\n",
       "7  D    c     0.6448024\n",
       "8  F    c     4.4243614\n",
       "9  B    d     1.2457679\n",
       "10 G    d     2.9567734"
      ]
     },
     "metadata": {},
     "output_type": "display_data"
    },
    {
     "data": {
      "text/html": [
       "<table>\n",
       "<thead><tr><th scope=col>name</th><th scope=col>class</th><th scope=col>value</th></tr></thead>\n",
       "<tbody>\n",
       "\t<tr><td>C        </td><td>a        </td><td>2.3161248</td></tr>\n",
       "\t<tr><td>H        </td><td>a        </td><td>2.1306743</td></tr>\n",
       "\t<tr><td>E        </td><td>b        </td><td>4.9784493</td></tr>\n",
       "\t<tr><td>J        </td><td>b        </td><td>4.6067167</td></tr>\n",
       "\t<tr><td>A        </td><td>b        </td><td>4.5294334</td></tr>\n",
       "\t<tr><td>I        </td><td>b        </td><td>1.1427236</td></tr>\n",
       "\t<tr><td>F        </td><td>c        </td><td>4.4243614</td></tr>\n",
       "\t<tr><td>D        </td><td>c        </td><td>0.6448024</td></tr>\n",
       "\t<tr><td>G        </td><td>d        </td><td>2.9567734</td></tr>\n",
       "\t<tr><td>B        </td><td>d        </td><td>1.2457679</td></tr>\n",
       "</tbody>\n",
       "</table>\n"
      ],
      "text/latex": [
       "\\begin{tabular}{r|lll}\n",
       " name & class & value\\\\\n",
       "\\hline\n",
       "\t C         & a         & 2.3161248\\\\\n",
       "\t H         & a         & 2.1306743\\\\\n",
       "\t E         & b         & 4.9784493\\\\\n",
       "\t J         & b         & 4.6067167\\\\\n",
       "\t A         & b         & 4.5294334\\\\\n",
       "\t I         & b         & 1.1427236\\\\\n",
       "\t F         & c         & 4.4243614\\\\\n",
       "\t D         & c         & 0.6448024\\\\\n",
       "\t G         & d         & 2.9567734\\\\\n",
       "\t B         & d         & 1.2457679\\\\\n",
       "\\end{tabular}\n"
      ],
      "text/markdown": [
       "\n",
       "name | class | value | \n",
       "|---|---|---|---|---|---|---|---|---|---|\n",
       "| C         | a         | 2.3161248 | \n",
       "| H         | a         | 2.1306743 | \n",
       "| E         | b         | 4.9784493 | \n",
       "| J         | b         | 4.6067167 | \n",
       "| A         | b         | 4.5294334 | \n",
       "| I         | b         | 1.1427236 | \n",
       "| F         | c         | 4.4243614 | \n",
       "| D         | c         | 0.6448024 | \n",
       "| G         | d         | 2.9567734 | \n",
       "| B         | d         | 1.2457679 | \n",
       "\n",
       "\n"
      ],
      "text/plain": [
       "   name class value    \n",
       "1  C    a     2.3161248\n",
       "2  H    a     2.1306743\n",
       "3  E    b     4.9784493\n",
       "4  J    b     4.6067167\n",
       "5  A    b     4.5294334\n",
       "6  I    b     1.1427236\n",
       "7  F    c     4.4243614\n",
       "8  D    c     0.6448024\n",
       "9  G    d     2.9567734\n",
       "10 B    d     1.2457679"
      ]
     },
     "metadata": {},
     "output_type": "display_data"
    }
   ],
   "source": [
    "library(dplyr)\n",
    "\n",
    "mydata %>% plyr::arrange(class,value)\n",
    "\n",
    "mydata %>% plyr::arrange(class,-value) #相同class时，按value倒序\n",
    "\n",
    "#arrange函数不仅可以实现多变量规则排序，而且可以仅以负号指定降序，\n",
    "#语法简洁，功能强大，其中多变量时，一般是分类变量在前，连续变量在后，\n",
    "#粒度粗的维度排在最前面，分类变量排序粒度依次递减，最后是连续变量"
   ]
  }
 ],
 "metadata": {
  "kernelspec": {
   "display_name": "R",
   "language": "R",
   "name": "ir"
  },
  "language_info": {
   "codemirror_mode": "r",
   "file_extension": ".r",
   "mimetype": "text/x-r-source",
   "name": "R",
   "pygments_lexer": "r",
   "version": "3.4.1"
  }
 },
 "nbformat": 4,
 "nbformat_minor": 2
}
