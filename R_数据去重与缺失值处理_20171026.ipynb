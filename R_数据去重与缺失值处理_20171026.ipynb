{
 "cells": [
  {
   "cell_type": "markdown",
   "metadata": {},
   "source": [
    "- unique\n",
    "- distinct\n",
    "- intersect\n",
    "- union\n",
    "- duplicated #布尔判断\n",
    "\n",
    "- is.na()/!is.na() #缺/非缺失值\n",
    "- na.rm=TRUE/FALSE #移除缺失值\n",
    "- na.omit(lc) #忽略缺失值\n",
    "- complete.cases() #完整值"
   ]
  },
  {
   "cell_type": "code",
   "execution_count": 2,
   "metadata": {},
   "outputs": [
    {
     "data": {
      "text/html": [
       "<table>\n",
       "<thead><tr><th scope=col>A</th><th scope=col>B</th></tr></thead>\n",
       "<tbody>\n",
       "\t<tr><td>48.964430</td><td>C        </td></tr>\n",
       "\t<tr><td>96.458661</td><td>E        </td></tr>\n",
       "\t<tr><td>33.056063</td><td>E        </td></tr>\n",
       "\t<tr><td>85.430767</td><td>E        </td></tr>\n",
       "\t<tr><td>10.718386</td><td>B        </td></tr>\n",
       "\t<tr><td>70.003469</td><td>C        </td></tr>\n",
       "\t<tr><td>69.906842</td><td>B        </td></tr>\n",
       "\t<tr><td>89.673138</td><td>E        </td></tr>\n",
       "\t<tr><td>87.181279</td><td>D        </td></tr>\n",
       "\t<tr><td>56.746370</td><td>A        </td></tr>\n",
       "\t<tr><td>51.649783</td><td>E        </td></tr>\n",
       "\t<tr><td>23.894648</td><td>C        </td></tr>\n",
       "\t<tr><td>21.168706</td><td>A        </td></tr>\n",
       "\t<tr><td> 5.523194</td><td>E        </td></tr>\n",
       "\t<tr><td>98.769229</td><td>C        </td></tr>\n",
       "\t<tr><td>52.563539</td><td>B        </td></tr>\n",
       "\t<tr><td>87.668533</td><td>B        </td></tr>\n",
       "\t<tr><td>32.412403</td><td>B        </td></tr>\n",
       "\t<tr><td>44.865965</td><td>D        </td></tr>\n",
       "\t<tr><td>76.307705</td><td>E        </td></tr>\n",
       "</tbody>\n",
       "</table>\n"
      ],
      "text/latex": [
       "\\begin{tabular}{r|ll}\n",
       " A & B\\\\\n",
       "\\hline\n",
       "\t 48.964430 & C        \\\\\n",
       "\t 96.458661 & E        \\\\\n",
       "\t 33.056063 & E        \\\\\n",
       "\t 85.430767 & E        \\\\\n",
       "\t 10.718386 & B        \\\\\n",
       "\t 70.003469 & C        \\\\\n",
       "\t 69.906842 & B        \\\\\n",
       "\t 89.673138 & E        \\\\\n",
       "\t 87.181279 & D        \\\\\n",
       "\t 56.746370 & A        \\\\\n",
       "\t 51.649783 & E        \\\\\n",
       "\t 23.894648 & C        \\\\\n",
       "\t 21.168706 & A        \\\\\n",
       "\t  5.523194 & E        \\\\\n",
       "\t 98.769229 & C        \\\\\n",
       "\t 52.563539 & B        \\\\\n",
       "\t 87.668533 & B        \\\\\n",
       "\t 32.412403 & B        \\\\\n",
       "\t 44.865965 & D        \\\\\n",
       "\t 76.307705 & E        \\\\\n",
       "\\end{tabular}\n"
      ],
      "text/markdown": [
       "\n",
       "A | B | \n",
       "|---|---|---|---|---|---|---|---|---|---|---|---|---|---|---|---|---|---|---|---|\n",
       "| 48.964430 | C         | \n",
       "| 96.458661 | E         | \n",
       "| 33.056063 | E         | \n",
       "| 85.430767 | E         | \n",
       "| 10.718386 | B         | \n",
       "| 70.003469 | C         | \n",
       "| 69.906842 | B         | \n",
       "| 89.673138 | E         | \n",
       "| 87.181279 | D         | \n",
       "| 56.746370 | A         | \n",
       "| 51.649783 | E         | \n",
       "| 23.894648 | C         | \n",
       "| 21.168706 | A         | \n",
       "|  5.523194 | E         | \n",
       "| 98.769229 | C         | \n",
       "| 52.563539 | B         | \n",
       "| 87.668533 | B         | \n",
       "| 32.412403 | B         | \n",
       "| 44.865965 | D         | \n",
       "| 76.307705 | E         | \n",
       "\n",
       "\n"
      ],
      "text/plain": [
       "   A         B\n",
       "1  48.964430 C\n",
       "2  96.458661 E\n",
       "3  33.056063 E\n",
       "4  85.430767 E\n",
       "5  10.718386 B\n",
       "6  70.003469 C\n",
       "7  69.906842 B\n",
       "8  89.673138 E\n",
       "9  87.181279 D\n",
       "10 56.746370 A\n",
       "11 51.649783 E\n",
       "12 23.894648 C\n",
       "13 21.168706 A\n",
       "14  5.523194 E\n",
       "15 98.769229 C\n",
       "16 52.563539 B\n",
       "17 87.668533 B\n",
       "18 32.412403 B\n",
       "19 44.865965 D\n",
       "20 76.307705 E"
      ]
     },
     "metadata": {},
     "output_type": "display_data"
    }
   ],
   "source": [
    "mydata<-data.frame(A=runif(20,0,100),B=sample(LETTERS[1:5],20,replace=TRUE))\n",
    "mydata"
   ]
  },
  {
   "cell_type": "code",
   "execution_count": 4,
   "metadata": {},
   "outputs": [
    {
     "data": {
      "text/html": [
       "<table>\n",
       "<thead><tr><th scope=col>A</th><th scope=col>B</th></tr></thead>\n",
       "<tbody>\n",
       "\t<tr><td>48.964430</td><td>C        </td></tr>\n",
       "\t<tr><td>       NA</td><td>E        </td></tr>\n",
       "\t<tr><td>33.056063</td><td>E        </td></tr>\n",
       "\t<tr><td>85.430767</td><td>E        </td></tr>\n",
       "\t<tr><td>       NA</td><td>B        </td></tr>\n",
       "\t<tr><td>       NA</td><td>C        </td></tr>\n",
       "\t<tr><td>69.906842</td><td>B        </td></tr>\n",
       "\t<tr><td>       NA</td><td>E        </td></tr>\n",
       "\t<tr><td>       NA</td><td>D        </td></tr>\n",
       "\t<tr><td>56.746370</td><td>A        </td></tr>\n",
       "\t<tr><td>       NA</td><td>E        </td></tr>\n",
       "\t<tr><td>23.894648</td><td>C        </td></tr>\n",
       "\t<tr><td>21.168706</td><td>A        </td></tr>\n",
       "\t<tr><td> 5.523194</td><td>E        </td></tr>\n",
       "\t<tr><td>98.769229</td><td>C        </td></tr>\n",
       "\t<tr><td>52.563539</td><td>B        </td></tr>\n",
       "\t<tr><td>       NA</td><td>B        </td></tr>\n",
       "\t<tr><td>32.412403</td><td>B        </td></tr>\n",
       "\t<tr><td>44.865965</td><td>D        </td></tr>\n",
       "\t<tr><td>       NA</td><td>E        </td></tr>\n",
       "</tbody>\n",
       "</table>\n"
      ],
      "text/latex": [
       "\\begin{tabular}{r|ll}\n",
       " A & B\\\\\n",
       "\\hline\n",
       "\t 48.964430 & C        \\\\\n",
       "\t        NA & E        \\\\\n",
       "\t 33.056063 & E        \\\\\n",
       "\t 85.430767 & E        \\\\\n",
       "\t        NA & B        \\\\\n",
       "\t        NA & C        \\\\\n",
       "\t 69.906842 & B        \\\\\n",
       "\t        NA & E        \\\\\n",
       "\t        NA & D        \\\\\n",
       "\t 56.746370 & A        \\\\\n",
       "\t        NA & E        \\\\\n",
       "\t 23.894648 & C        \\\\\n",
       "\t 21.168706 & A        \\\\\n",
       "\t  5.523194 & E        \\\\\n",
       "\t 98.769229 & C        \\\\\n",
       "\t 52.563539 & B        \\\\\n",
       "\t        NA & B        \\\\\n",
       "\t 32.412403 & B        \\\\\n",
       "\t 44.865965 & D        \\\\\n",
       "\t        NA & E        \\\\\n",
       "\\end{tabular}\n"
      ],
      "text/markdown": [
       "\n",
       "A | B | \n",
       "|---|---|---|---|---|---|---|---|---|---|---|---|---|---|---|---|---|---|---|---|\n",
       "| 48.964430 | C         | \n",
       "|        NA | E         | \n",
       "| 33.056063 | E         | \n",
       "| 85.430767 | E         | \n",
       "|        NA | B         | \n",
       "|        NA | C         | \n",
       "| 69.906842 | B         | \n",
       "|        NA | E         | \n",
       "|        NA | D         | \n",
       "| 56.746370 | A         | \n",
       "|        NA | E         | \n",
       "| 23.894648 | C         | \n",
       "| 21.168706 | A         | \n",
       "|  5.523194 | E         | \n",
       "| 98.769229 | C         | \n",
       "| 52.563539 | B         | \n",
       "|        NA | B         | \n",
       "| 32.412403 | B         | \n",
       "| 44.865965 | D         | \n",
       "|        NA | E         | \n",
       "\n",
       "\n"
      ],
      "text/plain": [
       "   A         B\n",
       "1  48.964430 C\n",
       "2         NA E\n",
       "3  33.056063 E\n",
       "4  85.430767 E\n",
       "5         NA B\n",
       "6         NA C\n",
       "7  69.906842 B\n",
       "8         NA E\n",
       "9         NA D\n",
       "10 56.746370 A\n",
       "11        NA E\n",
       "12 23.894648 C\n",
       "13 21.168706 A\n",
       "14  5.523194 E\n",
       "15 98.769229 C\n",
       "16 52.563539 B\n",
       "17        NA B\n",
       "18 32.412403 B\n",
       "19 44.865965 D\n",
       "20        NA E"
      ]
     },
     "metadata": {},
     "output_type": "display_data"
    }
   ],
   "source": [
    "mydata[sample(1:20,5,replace=FALSE),\"A\"]<-NA #人为构造5个缺失值\n",
    "mydata"
   ]
  },
  {
   "cell_type": "code",
   "execution_count": 5,
   "metadata": {},
   "outputs": [
    {
     "data": {
      "text/html": [
       "<ol class=list-inline>\n",
       "\t<li>C</li>\n",
       "\t<li>E</li>\n",
       "\t<li>B</li>\n",
       "\t<li>D</li>\n",
       "\t<li>A</li>\n",
       "</ol>\n"
      ],
      "text/latex": [
       "\\begin{enumerate*}\n",
       "\\item C\n",
       "\\item E\n",
       "\\item B\n",
       "\\item D\n",
       "\\item A\n",
       "\\end{enumerate*}\n"
      ],
      "text/markdown": [
       "1. C\n",
       "2. E\n",
       "3. B\n",
       "4. D\n",
       "5. A\n",
       "\n",
       "\n"
      ],
      "text/plain": [
       "[1] C E B D A\n",
       "Levels: A B C D E"
      ]
     },
     "metadata": {},
     "output_type": "display_data"
    }
   ],
   "source": [
    "#对含有重复值的向量进行去重\n",
    "unique(mydata$B) "
   ]
  },
  {
   "cell_type": "code",
   "execution_count": 6,
   "metadata": {},
   "outputs": [
    {
     "data": {
      "text/html": [
       "<table>\n",
       "<thead><tr><th scope=col>B</th></tr></thead>\n",
       "<tbody>\n",
       "\t<tr><td>C</td></tr>\n",
       "\t<tr><td>E</td></tr>\n",
       "\t<tr><td>B</td></tr>\n",
       "\t<tr><td>D</td></tr>\n",
       "\t<tr><td>A</td></tr>\n",
       "</tbody>\n",
       "</table>\n"
      ],
      "text/latex": [
       "\\begin{tabular}{r|l}\n",
       " B\\\\\n",
       "\\hline\n",
       "\t C\\\\\n",
       "\t E\\\\\n",
       "\t B\\\\\n",
       "\t D\\\\\n",
       "\t A\\\\\n",
       "\\end{tabular}\n"
      ],
      "text/markdown": [
       "\n",
       "B | \n",
       "|---|---|---|---|---|\n",
       "| C | \n",
       "| E | \n",
       "| B | \n",
       "| D | \n",
       "| A | \n",
       "\n",
       "\n"
      ],
      "text/plain": [
       "  B\n",
       "1 C\n",
       "2 E\n",
       "3 B\n",
       "4 D\n",
       "5 A"
      ]
     },
     "metadata": {},
     "output_type": "display_data"
    }
   ],
   "source": [
    "#对含有重复值字段的数据框去重\n",
    "dplyr::distinct(mydata,B)"
   ]
  },
  {
   "cell_type": "code",
   "execution_count": 7,
   "metadata": {},
   "outputs": [
    {
     "data": {
      "text/html": [
       "<ol class=list-inline>\n",
       "\t<li>FALSE</li>\n",
       "\t<li>FALSE</li>\n",
       "\t<li>TRUE</li>\n",
       "\t<li>TRUE</li>\n",
       "\t<li>FALSE</li>\n",
       "\t<li>TRUE</li>\n",
       "\t<li>TRUE</li>\n",
       "\t<li>TRUE</li>\n",
       "\t<li>FALSE</li>\n",
       "\t<li>FALSE</li>\n",
       "\t<li>TRUE</li>\n",
       "\t<li>TRUE</li>\n",
       "\t<li>TRUE</li>\n",
       "\t<li>TRUE</li>\n",
       "\t<li>TRUE</li>\n",
       "\t<li>TRUE</li>\n",
       "\t<li>TRUE</li>\n",
       "\t<li>TRUE</li>\n",
       "\t<li>TRUE</li>\n",
       "\t<li>TRUE</li>\n",
       "</ol>\n"
      ],
      "text/latex": [
       "\\begin{enumerate*}\n",
       "\\item FALSE\n",
       "\\item FALSE\n",
       "\\item TRUE\n",
       "\\item TRUE\n",
       "\\item FALSE\n",
       "\\item TRUE\n",
       "\\item TRUE\n",
       "\\item TRUE\n",
       "\\item FALSE\n",
       "\\item FALSE\n",
       "\\item TRUE\n",
       "\\item TRUE\n",
       "\\item TRUE\n",
       "\\item TRUE\n",
       "\\item TRUE\n",
       "\\item TRUE\n",
       "\\item TRUE\n",
       "\\item TRUE\n",
       "\\item TRUE\n",
       "\\item TRUE\n",
       "\\end{enumerate*}\n"
      ],
      "text/markdown": [
       "1. FALSE\n",
       "2. FALSE\n",
       "3. TRUE\n",
       "4. TRUE\n",
       "5. FALSE\n",
       "6. TRUE\n",
       "7. TRUE\n",
       "8. TRUE\n",
       "9. FALSE\n",
       "10. FALSE\n",
       "11. TRUE\n",
       "12. TRUE\n",
       "13. TRUE\n",
       "14. TRUE\n",
       "15. TRUE\n",
       "16. TRUE\n",
       "17. TRUE\n",
       "18. TRUE\n",
       "19. TRUE\n",
       "20. TRUE\n",
       "\n",
       "\n"
      ],
      "text/plain": [
       " [1] FALSE FALSE  TRUE  TRUE FALSE  TRUE  TRUE  TRUE FALSE FALSE  TRUE  TRUE\n",
       "[13]  TRUE  TRUE  TRUE  TRUE  TRUE  TRUE  TRUE  TRUE"
      ]
     },
     "metadata": {},
     "output_type": "display_data"
    }
   ],
   "source": [
    "#返回重复对象的布尔值\n",
    "duplicated(mydata$B)"
   ]
  },
  {
   "cell_type": "code",
   "execution_count": 8,
   "metadata": {},
   "outputs": [
    {
     "data": {
      "text/html": [
       "<table>\n",
       "<thead><tr><th></th><th scope=col>A</th><th scope=col>B</th></tr></thead>\n",
       "<tbody>\n",
       "\t<tr><th scope=row>1</th><td>48.96443</td><td>C       </td></tr>\n",
       "\t<tr><th scope=row>2</th><td>      NA</td><td>E       </td></tr>\n",
       "\t<tr><th scope=row>5</th><td>      NA</td><td>B       </td></tr>\n",
       "\t<tr><th scope=row>9</th><td>      NA</td><td>D       </td></tr>\n",
       "\t<tr><th scope=row>10</th><td>56.74637</td><td>A       </td></tr>\n",
       "</tbody>\n",
       "</table>\n"
      ],
      "text/latex": [
       "\\begin{tabular}{r|ll}\n",
       "  & A & B\\\\\n",
       "\\hline\n",
       "\t1 & 48.96443 & C       \\\\\n",
       "\t2 &       NA & E       \\\\\n",
       "\t5 &       NA & B       \\\\\n",
       "\t9 &       NA & D       \\\\\n",
       "\t10 & 56.74637 & A       \\\\\n",
       "\\end{tabular}\n"
      ],
      "text/markdown": [
       "\n",
       "| <!--/--> | A | B | \n",
       "|---|---|---|---|---|\n",
       "| 1 | 48.96443 | C        | \n",
       "| 2 |       NA | E        | \n",
       "| 5 |       NA | B        | \n",
       "| 9 |       NA | D        | \n",
       "| 10 | 56.74637 | A        | \n",
       "\n",
       "\n"
      ],
      "text/plain": [
       "   A        B\n",
       "1  48.96443 C\n",
       "2        NA E\n",
       "5        NA B\n",
       "9        NA D\n",
       "10 56.74637 A"
      ]
     },
     "metadata": {},
     "output_type": "display_data"
    }
   ],
   "source": [
    "#剔除重复值，仅保留唯一值\n",
    "mydata[!duplicated(mydata$B),]"
   ]
  },
  {
   "cell_type": "code",
   "execution_count": 13,
   "metadata": {},
   "outputs": [
    {
     "data": {
      "text/html": [
       "<ol class=list-inline>\n",
       "\t<li>'A'</li>\n",
       "\t<li>'B'</li>\n",
       "\t<li>'C'</li>\n",
       "\t<li>'D'</li>\n",
       "\t<li>'E'</li>\n",
       "\t<li>'F'</li>\n",
       "\t<li>'G'</li>\n",
       "\t<li>'H'</li>\n",
       "\t<li>'I'</li>\n",
       "\t<li>'J'</li>\n",
       "</ol>\n"
      ],
      "text/latex": [
       "\\begin{enumerate*}\n",
       "\\item 'A'\n",
       "\\item 'B'\n",
       "\\item 'C'\n",
       "\\item 'D'\n",
       "\\item 'E'\n",
       "\\item 'F'\n",
       "\\item 'G'\n",
       "\\item 'H'\n",
       "\\item 'I'\n",
       "\\item 'J'\n",
       "\\end{enumerate*}\n"
      ],
      "text/markdown": [
       "1. 'A'\n",
       "2. 'B'\n",
       "3. 'C'\n",
       "4. 'D'\n",
       "5. 'E'\n",
       "6. 'F'\n",
       "7. 'G'\n",
       "8. 'H'\n",
       "9. 'I'\n",
       "10. 'J'\n",
       "\n",
       "\n"
      ],
      "text/plain": [
       " [1] \"A\" \"B\" \"C\" \"D\" \"E\" \"F\" \"G\" \"H\" \"I\" \"J\""
      ]
     },
     "metadata": {},
     "output_type": "display_data"
    },
    {
     "data": {
      "text/html": [
       "<ol class=list-inline>\n",
       "\t<li>'F'</li>\n",
       "\t<li>'G'</li>\n",
       "\t<li>'H'</li>\n",
       "\t<li>'I'</li>\n",
       "\t<li>'J'</li>\n",
       "\t<li>'K'</li>\n",
       "\t<li>'L'</li>\n",
       "\t<li>'M'</li>\n",
       "\t<li>'N'</li>\n",
       "\t<li>'O'</li>\n",
       "</ol>\n"
      ],
      "text/latex": [
       "\\begin{enumerate*}\n",
       "\\item 'F'\n",
       "\\item 'G'\n",
       "\\item 'H'\n",
       "\\item 'I'\n",
       "\\item 'J'\n",
       "\\item 'K'\n",
       "\\item 'L'\n",
       "\\item 'M'\n",
       "\\item 'N'\n",
       "\\item 'O'\n",
       "\\end{enumerate*}\n"
      ],
      "text/markdown": [
       "1. 'F'\n",
       "2. 'G'\n",
       "3. 'H'\n",
       "4. 'I'\n",
       "5. 'J'\n",
       "6. 'K'\n",
       "7. 'L'\n",
       "8. 'M'\n",
       "9. 'N'\n",
       "10. 'O'\n",
       "\n",
       "\n"
      ],
      "text/plain": [
       " [1] \"F\" \"G\" \"H\" \"I\" \"J\" \"K\" \"L\" \"M\" \"N\" \"O\""
      ]
     },
     "metadata": {},
     "output_type": "display_data"
    },
    {
     "data": {
      "text/html": [
       "<ol class=list-inline>\n",
       "\t<li>'F'</li>\n",
       "\t<li>'G'</li>\n",
       "\t<li>'H'</li>\n",
       "\t<li>'I'</li>\n",
       "\t<li>'J'</li>\n",
       "</ol>\n"
      ],
      "text/latex": [
       "\\begin{enumerate*}\n",
       "\\item 'F'\n",
       "\\item 'G'\n",
       "\\item 'H'\n",
       "\\item 'I'\n",
       "\\item 'J'\n",
       "\\end{enumerate*}\n"
      ],
      "text/markdown": [
       "1. 'F'\n",
       "2. 'G'\n",
       "3. 'H'\n",
       "4. 'I'\n",
       "5. 'J'\n",
       "\n",
       "\n"
      ],
      "text/plain": [
       "[1] \"F\" \"G\" \"H\" \"I\" \"J\""
      ]
     },
     "metadata": {},
     "output_type": "display_data"
    },
    {
     "data": {
      "text/html": [
       "<ol class=list-inline>\n",
       "\t<li>'A'</li>\n",
       "\t<li>'B'</li>\n",
       "\t<li>'C'</li>\n",
       "\t<li>'D'</li>\n",
       "\t<li>'E'</li>\n",
       "\t<li>'F'</li>\n",
       "\t<li>'G'</li>\n",
       "\t<li>'H'</li>\n",
       "\t<li>'I'</li>\n",
       "\t<li>'J'</li>\n",
       "</ol>\n"
      ],
      "text/latex": [
       "\\begin{enumerate*}\n",
       "\\item 'A'\n",
       "\\item 'B'\n",
       "\\item 'C'\n",
       "\\item 'D'\n",
       "\\item 'E'\n",
       "\\item 'F'\n",
       "\\item 'G'\n",
       "\\item 'H'\n",
       "\\item 'I'\n",
       "\\item 'J'\n",
       "\\end{enumerate*}\n"
      ],
      "text/markdown": [
       "1. 'A'\n",
       "2. 'B'\n",
       "3. 'C'\n",
       "4. 'D'\n",
       "5. 'E'\n",
       "6. 'F'\n",
       "7. 'G'\n",
       "8. 'H'\n",
       "9. 'I'\n",
       "10. 'J'\n",
       "\n",
       "\n"
      ],
      "text/plain": [
       " [1] \"A\" \"B\" \"C\" \"D\" \"E\" \"F\" \"G\" \"H\" \"I\" \"J\""
      ]
     },
     "metadata": {},
     "output_type": "display_data"
    }
   ],
   "source": [
    "A=LETTERS[1:10]\n",
    "B=LETTERS[6:15]\n",
    "A\n",
    "B\n",
    "\n",
    "#交集\n",
    "intersect(A,B)\n",
    "\n",
    "#补集\n",
    "unique(A,B)"
   ]
  },
  {
   "cell_type": "code",
   "execution_count": 16,
   "metadata": {},
   "outputs": [
    {
     "data": {
      "text/html": [
       "<table>\n",
       "<thead><tr><th scope=col>A</th><th scope=col>B</th></tr></thead>\n",
       "<tbody>\n",
       "\t<tr><td>FALSE</td><td>FALSE</td></tr>\n",
       "\t<tr><td> TRUE</td><td>FALSE</td></tr>\n",
       "\t<tr><td>FALSE</td><td>FALSE</td></tr>\n",
       "\t<tr><td>FALSE</td><td>FALSE</td></tr>\n",
       "\t<tr><td> TRUE</td><td>FALSE</td></tr>\n",
       "\t<tr><td> TRUE</td><td>FALSE</td></tr>\n",
       "\t<tr><td>FALSE</td><td>FALSE</td></tr>\n",
       "\t<tr><td> TRUE</td><td>FALSE</td></tr>\n",
       "\t<tr><td> TRUE</td><td>FALSE</td></tr>\n",
       "\t<tr><td>FALSE</td><td>FALSE</td></tr>\n",
       "\t<tr><td> TRUE</td><td>FALSE</td></tr>\n",
       "\t<tr><td>FALSE</td><td>FALSE</td></tr>\n",
       "\t<tr><td>FALSE</td><td>FALSE</td></tr>\n",
       "\t<tr><td>FALSE</td><td>FALSE</td></tr>\n",
       "\t<tr><td>FALSE</td><td>FALSE</td></tr>\n",
       "\t<tr><td>FALSE</td><td>FALSE</td></tr>\n",
       "\t<tr><td> TRUE</td><td>FALSE</td></tr>\n",
       "\t<tr><td>FALSE</td><td>FALSE</td></tr>\n",
       "\t<tr><td>FALSE</td><td>FALSE</td></tr>\n",
       "\t<tr><td> TRUE</td><td>FALSE</td></tr>\n",
       "</tbody>\n",
       "</table>\n"
      ],
      "text/latex": [
       "\\begin{tabular}{ll}\n",
       " A & B\\\\\n",
       "\\hline\n",
       "\t FALSE & FALSE\\\\\n",
       "\t  TRUE & FALSE\\\\\n",
       "\t FALSE & FALSE\\\\\n",
       "\t FALSE & FALSE\\\\\n",
       "\t  TRUE & FALSE\\\\\n",
       "\t  TRUE & FALSE\\\\\n",
       "\t FALSE & FALSE\\\\\n",
       "\t  TRUE & FALSE\\\\\n",
       "\t  TRUE & FALSE\\\\\n",
       "\t FALSE & FALSE\\\\\n",
       "\t  TRUE & FALSE\\\\\n",
       "\t FALSE & FALSE\\\\\n",
       "\t FALSE & FALSE\\\\\n",
       "\t FALSE & FALSE\\\\\n",
       "\t FALSE & FALSE\\\\\n",
       "\t FALSE & FALSE\\\\\n",
       "\t  TRUE & FALSE\\\\\n",
       "\t FALSE & FALSE\\\\\n",
       "\t FALSE & FALSE\\\\\n",
       "\t  TRUE & FALSE\\\\\n",
       "\\end{tabular}\n"
      ],
      "text/markdown": [
       "\n",
       "A | B | \n",
       "|---|---|---|---|---|---|---|---|---|---|---|---|---|---|---|---|---|---|---|---|\n",
       "| FALSE | FALSE | \n",
       "|  TRUE | FALSE | \n",
       "| FALSE | FALSE | \n",
       "| FALSE | FALSE | \n",
       "|  TRUE | FALSE | \n",
       "|  TRUE | FALSE | \n",
       "| FALSE | FALSE | \n",
       "|  TRUE | FALSE | \n",
       "|  TRUE | FALSE | \n",
       "| FALSE | FALSE | \n",
       "|  TRUE | FALSE | \n",
       "| FALSE | FALSE | \n",
       "| FALSE | FALSE | \n",
       "| FALSE | FALSE | \n",
       "| FALSE | FALSE | \n",
       "| FALSE | FALSE | \n",
       "|  TRUE | FALSE | \n",
       "| FALSE | FALSE | \n",
       "| FALSE | FALSE | \n",
       "|  TRUE | FALSE | \n",
       "\n",
       "\n"
      ],
      "text/plain": [
       "      A     B    \n",
       " [1,] FALSE FALSE\n",
       " [2,]  TRUE FALSE\n",
       " [3,] FALSE FALSE\n",
       " [4,] FALSE FALSE\n",
       " [5,]  TRUE FALSE\n",
       " [6,]  TRUE FALSE\n",
       " [7,] FALSE FALSE\n",
       " [8,]  TRUE FALSE\n",
       " [9,]  TRUE FALSE\n",
       "[10,] FALSE FALSE\n",
       "[11,]  TRUE FALSE\n",
       "[12,] FALSE FALSE\n",
       "[13,] FALSE FALSE\n",
       "[14,] FALSE FALSE\n",
       "[15,] FALSE FALSE\n",
       "[16,] FALSE FALSE\n",
       "[17,]  TRUE FALSE\n",
       "[18,] FALSE FALSE\n",
       "[19,] FALSE FALSE\n",
       "[20,]  TRUE FALSE"
      ]
     },
     "metadata": {},
     "output_type": "display_data"
    },
    {
     "data": {
      "text/html": [
       "<table>\n",
       "<thead><tr><th scope=col>A</th><th scope=col>B</th></tr></thead>\n",
       "<tbody>\n",
       "\t<tr><td> TRUE</td><td>TRUE </td></tr>\n",
       "\t<tr><td>FALSE</td><td>TRUE </td></tr>\n",
       "\t<tr><td> TRUE</td><td>TRUE </td></tr>\n",
       "\t<tr><td> TRUE</td><td>TRUE </td></tr>\n",
       "\t<tr><td>FALSE</td><td>TRUE </td></tr>\n",
       "\t<tr><td>FALSE</td><td>TRUE </td></tr>\n",
       "\t<tr><td> TRUE</td><td>TRUE </td></tr>\n",
       "\t<tr><td>FALSE</td><td>TRUE </td></tr>\n",
       "\t<tr><td>FALSE</td><td>TRUE </td></tr>\n",
       "\t<tr><td> TRUE</td><td>TRUE </td></tr>\n",
       "\t<tr><td>FALSE</td><td>TRUE </td></tr>\n",
       "\t<tr><td> TRUE</td><td>TRUE </td></tr>\n",
       "\t<tr><td> TRUE</td><td>TRUE </td></tr>\n",
       "\t<tr><td> TRUE</td><td>TRUE </td></tr>\n",
       "\t<tr><td> TRUE</td><td>TRUE </td></tr>\n",
       "\t<tr><td> TRUE</td><td>TRUE </td></tr>\n",
       "\t<tr><td>FALSE</td><td>TRUE </td></tr>\n",
       "\t<tr><td> TRUE</td><td>TRUE </td></tr>\n",
       "\t<tr><td> TRUE</td><td>TRUE </td></tr>\n",
       "\t<tr><td>FALSE</td><td>TRUE </td></tr>\n",
       "</tbody>\n",
       "</table>\n"
      ],
      "text/latex": [
       "\\begin{tabular}{ll}\n",
       " A & B\\\\\n",
       "\\hline\n",
       "\t  TRUE & TRUE \\\\\n",
       "\t FALSE & TRUE \\\\\n",
       "\t  TRUE & TRUE \\\\\n",
       "\t  TRUE & TRUE \\\\\n",
       "\t FALSE & TRUE \\\\\n",
       "\t FALSE & TRUE \\\\\n",
       "\t  TRUE & TRUE \\\\\n",
       "\t FALSE & TRUE \\\\\n",
       "\t FALSE & TRUE \\\\\n",
       "\t  TRUE & TRUE \\\\\n",
       "\t FALSE & TRUE \\\\\n",
       "\t  TRUE & TRUE \\\\\n",
       "\t  TRUE & TRUE \\\\\n",
       "\t  TRUE & TRUE \\\\\n",
       "\t  TRUE & TRUE \\\\\n",
       "\t  TRUE & TRUE \\\\\n",
       "\t FALSE & TRUE \\\\\n",
       "\t  TRUE & TRUE \\\\\n",
       "\t  TRUE & TRUE \\\\\n",
       "\t FALSE & TRUE \\\\\n",
       "\\end{tabular}\n"
      ],
      "text/markdown": [
       "\n",
       "A | B | \n",
       "|---|---|---|---|---|---|---|---|---|---|---|---|---|---|---|---|---|---|---|---|\n",
       "|  TRUE | TRUE  | \n",
       "| FALSE | TRUE  | \n",
       "|  TRUE | TRUE  | \n",
       "|  TRUE | TRUE  | \n",
       "| FALSE | TRUE  | \n",
       "| FALSE | TRUE  | \n",
       "|  TRUE | TRUE  | \n",
       "| FALSE | TRUE  | \n",
       "| FALSE | TRUE  | \n",
       "|  TRUE | TRUE  | \n",
       "| FALSE | TRUE  | \n",
       "|  TRUE | TRUE  | \n",
       "|  TRUE | TRUE  | \n",
       "|  TRUE | TRUE  | \n",
       "|  TRUE | TRUE  | \n",
       "|  TRUE | TRUE  | \n",
       "| FALSE | TRUE  | \n",
       "|  TRUE | TRUE  | \n",
       "|  TRUE | TRUE  | \n",
       "| FALSE | TRUE  | \n",
       "\n",
       "\n"
      ],
      "text/plain": [
       "      A     B   \n",
       " [1,]  TRUE TRUE\n",
       " [2,] FALSE TRUE\n",
       " [3,]  TRUE TRUE\n",
       " [4,]  TRUE TRUE\n",
       " [5,] FALSE TRUE\n",
       " [6,] FALSE TRUE\n",
       " [7,]  TRUE TRUE\n",
       " [8,] FALSE TRUE\n",
       " [9,] FALSE TRUE\n",
       "[10,]  TRUE TRUE\n",
       "[11,] FALSE TRUE\n",
       "[12,]  TRUE TRUE\n",
       "[13,]  TRUE TRUE\n",
       "[14,]  TRUE TRUE\n",
       "[15,]  TRUE TRUE\n",
       "[16,]  TRUE TRUE\n",
       "[17,] FALSE TRUE\n",
       "[18,]  TRUE TRUE\n",
       "[19,]  TRUE TRUE\n",
       "[20,] FALSE TRUE"
      ]
     },
     "metadata": {},
     "output_type": "display_data"
    }
   ],
   "source": [
    "is.na(mydata)\n",
    "\n",
    "!is.na(mydata)"
   ]
  },
  {
   "cell_type": "code",
   "execution_count": 18,
   "metadata": {},
   "outputs": [
    {
     "data": {
      "text/html": [
       "47.7751796017401"
      ],
      "text/latex": [
       "47.7751796017401"
      ],
      "text/markdown": [
       "47.7751796017401"
      ],
      "text/plain": [
       "[1] 47.77518"
      ]
     },
     "metadata": {},
     "output_type": "display_data"
    },
    {
     "data": {
      "text/html": [
       "573.302155220881"
      ],
      "text/latex": [
       "573.302155220881"
      ],
      "text/markdown": [
       "573.302155220881"
      ],
      "text/plain": [
       "[1] 573.3022"
      ]
     },
     "metadata": {},
     "output_type": "display_data"
    }
   ],
   "source": [
    "mean(mydata$A,na.rm=TRUE)\n",
    "\n",
    "sum(mydata$A,na.rm=TRUE)"
   ]
  },
  {
   "cell_type": "code",
   "execution_count": 19,
   "metadata": {},
   "outputs": [
    {
     "data": {
      "text/html": [
       "<table>\n",
       "<thead><tr><th></th><th scope=col>A</th><th scope=col>B</th></tr></thead>\n",
       "<tbody>\n",
       "\t<tr><th scope=row>1</th><td>48.964430</td><td>C        </td></tr>\n",
       "\t<tr><th scope=row>3</th><td>33.056063</td><td>E        </td></tr>\n",
       "\t<tr><th scope=row>4</th><td>85.430767</td><td>E        </td></tr>\n",
       "\t<tr><th scope=row>7</th><td>69.906842</td><td>B        </td></tr>\n",
       "\t<tr><th scope=row>10</th><td>56.746370</td><td>A        </td></tr>\n",
       "\t<tr><th scope=row>12</th><td>23.894648</td><td>C        </td></tr>\n",
       "\t<tr><th scope=row>13</th><td>21.168706</td><td>A        </td></tr>\n",
       "\t<tr><th scope=row>14</th><td> 5.523194</td><td>E        </td></tr>\n",
       "\t<tr><th scope=row>15</th><td>98.769229</td><td>C        </td></tr>\n",
       "\t<tr><th scope=row>16</th><td>52.563539</td><td>B        </td></tr>\n",
       "\t<tr><th scope=row>18</th><td>32.412403</td><td>B        </td></tr>\n",
       "\t<tr><th scope=row>19</th><td>44.865965</td><td>D        </td></tr>\n",
       "</tbody>\n",
       "</table>\n"
      ],
      "text/latex": [
       "\\begin{tabular}{r|ll}\n",
       "  & A & B\\\\\n",
       "\\hline\n",
       "\t1 & 48.964430 & C        \\\\\n",
       "\t3 & 33.056063 & E        \\\\\n",
       "\t4 & 85.430767 & E        \\\\\n",
       "\t7 & 69.906842 & B        \\\\\n",
       "\t10 & 56.746370 & A        \\\\\n",
       "\t12 & 23.894648 & C        \\\\\n",
       "\t13 & 21.168706 & A        \\\\\n",
       "\t14 &  5.523194 & E        \\\\\n",
       "\t15 & 98.769229 & C        \\\\\n",
       "\t16 & 52.563539 & B        \\\\\n",
       "\t18 & 32.412403 & B        \\\\\n",
       "\t19 & 44.865965 & D        \\\\\n",
       "\\end{tabular}\n"
      ],
      "text/markdown": [
       "\n",
       "| <!--/--> | A | B | \n",
       "|---|---|---|---|---|---|---|---|---|---|---|---|\n",
       "| 1 | 48.964430 | C         | \n",
       "| 3 | 33.056063 | E         | \n",
       "| 4 | 85.430767 | E         | \n",
       "| 7 | 69.906842 | B         | \n",
       "| 10 | 56.746370 | A         | \n",
       "| 12 | 23.894648 | C         | \n",
       "| 13 | 21.168706 | A         | \n",
       "| 14 |  5.523194 | E         | \n",
       "| 15 | 98.769229 | C         | \n",
       "| 16 | 52.563539 | B         | \n",
       "| 18 | 32.412403 | B         | \n",
       "| 19 | 44.865965 | D         | \n",
       "\n",
       "\n"
      ],
      "text/plain": [
       "   A         B\n",
       "1  48.964430 C\n",
       "3  33.056063 E\n",
       "4  85.430767 E\n",
       "7  69.906842 B\n",
       "10 56.746370 A\n",
       "12 23.894648 C\n",
       "13 21.168706 A\n",
       "14  5.523194 E\n",
       "15 98.769229 C\n",
       "16 52.563539 B\n",
       "18 32.412403 B\n",
       "19 44.865965 D"
      ]
     },
     "metadata": {},
     "output_type": "display_data"
    }
   ],
   "source": [
    "#忽略缺失值所在行\n",
    "na.omit(mydata) "
   ]
  },
  {
   "cell_type": "code",
   "execution_count": 20,
   "metadata": {},
   "outputs": [
    {
     "data": {
      "text/html": [
       "<ol class=list-inline>\n",
       "\t<li>TRUE</li>\n",
       "\t<li>FALSE</li>\n",
       "\t<li>TRUE</li>\n",
       "\t<li>TRUE</li>\n",
       "\t<li>FALSE</li>\n",
       "\t<li>FALSE</li>\n",
       "\t<li>TRUE</li>\n",
       "\t<li>FALSE</li>\n",
       "\t<li>FALSE</li>\n",
       "\t<li>TRUE</li>\n",
       "\t<li>FALSE</li>\n",
       "\t<li>TRUE</li>\n",
       "\t<li>TRUE</li>\n",
       "\t<li>TRUE</li>\n",
       "\t<li>TRUE</li>\n",
       "\t<li>TRUE</li>\n",
       "\t<li>FALSE</li>\n",
       "\t<li>TRUE</li>\n",
       "\t<li>TRUE</li>\n",
       "\t<li>FALSE</li>\n",
       "</ol>\n"
      ],
      "text/latex": [
       "\\begin{enumerate*}\n",
       "\\item TRUE\n",
       "\\item FALSE\n",
       "\\item TRUE\n",
       "\\item TRUE\n",
       "\\item FALSE\n",
       "\\item FALSE\n",
       "\\item TRUE\n",
       "\\item FALSE\n",
       "\\item FALSE\n",
       "\\item TRUE\n",
       "\\item FALSE\n",
       "\\item TRUE\n",
       "\\item TRUE\n",
       "\\item TRUE\n",
       "\\item TRUE\n",
       "\\item TRUE\n",
       "\\item FALSE\n",
       "\\item TRUE\n",
       "\\item TRUE\n",
       "\\item FALSE\n",
       "\\end{enumerate*}\n"
      ],
      "text/markdown": [
       "1. TRUE\n",
       "2. FALSE\n",
       "3. TRUE\n",
       "4. TRUE\n",
       "5. FALSE\n",
       "6. FALSE\n",
       "7. TRUE\n",
       "8. FALSE\n",
       "9. FALSE\n",
       "10. TRUE\n",
       "11. FALSE\n",
       "12. TRUE\n",
       "13. TRUE\n",
       "14. TRUE\n",
       "15. TRUE\n",
       "16. TRUE\n",
       "17. FALSE\n",
       "18. TRUE\n",
       "19. TRUE\n",
       "20. FALSE\n",
       "\n",
       "\n"
      ],
      "text/plain": [
       " [1]  TRUE FALSE  TRUE  TRUE FALSE FALSE  TRUE FALSE FALSE  TRUE FALSE  TRUE\n",
       "[13]  TRUE  TRUE  TRUE  TRUE FALSE  TRUE  TRUE FALSE"
      ]
     },
     "metadata": {},
     "output_type": "display_data"
    }
   ],
   "source": [
    "complete.cases(mydata) #完整值（返回布尔结果）"
   ]
  },
  {
   "cell_type": "code",
   "execution_count": 21,
   "metadata": {},
   "outputs": [
    {
     "data": {
      "text/html": [
       "<table>\n",
       "<thead><tr><th></th><th scope=col>A</th><th scope=col>B</th></tr></thead>\n",
       "<tbody>\n",
       "\t<tr><th scope=row>2</th><td>NA</td><td>E </td></tr>\n",
       "\t<tr><th scope=row>5</th><td>NA</td><td>B </td></tr>\n",
       "\t<tr><th scope=row>6</th><td>NA</td><td>C </td></tr>\n",
       "\t<tr><th scope=row>8</th><td>NA</td><td>E </td></tr>\n",
       "\t<tr><th scope=row>9</th><td>NA</td><td>D </td></tr>\n",
       "\t<tr><th scope=row>11</th><td>NA</td><td>E </td></tr>\n",
       "\t<tr><th scope=row>17</th><td>NA</td><td>B </td></tr>\n",
       "\t<tr><th scope=row>20</th><td>NA</td><td>E </td></tr>\n",
       "</tbody>\n",
       "</table>\n"
      ],
      "text/latex": [
       "\\begin{tabular}{r|ll}\n",
       "  & A & B\\\\\n",
       "\\hline\n",
       "\t2 & NA & E \\\\\n",
       "\t5 & NA & B \\\\\n",
       "\t6 & NA & C \\\\\n",
       "\t8 & NA & E \\\\\n",
       "\t9 & NA & D \\\\\n",
       "\t11 & NA & E \\\\\n",
       "\t17 & NA & B \\\\\n",
       "\t20 & NA & E \\\\\n",
       "\\end{tabular}\n"
      ],
      "text/markdown": [
       "\n",
       "| <!--/--> | A | B | \n",
       "|---|---|---|---|---|---|---|---|\n",
       "| 2 | NA | E  | \n",
       "| 5 | NA | B  | \n",
       "| 6 | NA | C  | \n",
       "| 8 | NA | E  | \n",
       "| 9 | NA | D  | \n",
       "| 11 | NA | E  | \n",
       "| 17 | NA | B  | \n",
       "| 20 | NA | E  | \n",
       "\n",
       "\n"
      ],
      "text/plain": [
       "   A  B\n",
       "2  NA E\n",
       "5  NA B\n",
       "6  NA C\n",
       "8  NA E\n",
       "9  NA D\n",
       "11 NA E\n",
       "17 NA B\n",
       "20 NA E"
      ]
     },
     "metadata": {},
     "output_type": "display_data"
    }
   ],
   "source": [
    "mydata[!complete.cases(mydata$A),] #使用该函数的布尔索引确定缺失值或排除缺失值"
   ]
  }
 ],
 "metadata": {
  "kernelspec": {
   "display_name": "R",
   "language": "R",
   "name": "ir"
  },
  "language_info": {
   "codemirror_mode": "r",
   "file_extension": ".r",
   "mimetype": "text/x-r-source",
   "name": "R",
   "pygments_lexer": "r",
   "version": "3.4.1"
  }
 },
 "nbformat": 4,
 "nbformat_minor": 2
}
