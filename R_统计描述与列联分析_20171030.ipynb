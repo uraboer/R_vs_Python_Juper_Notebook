{
 "cells": [
  {
   "cell_type": "code",
   "execution_count": 1,
   "metadata": {},
   "outputs": [
    {
     "data": {
      "text/html": [
       "<ol class=list-inline>\n",
       "\t<li>'depth'</li>\n",
       "\t<li>'table'</li>\n",
       "\t<li>'price'</li>\n",
       "</ol>\n"
      ],
      "text/latex": [
       "\\begin{enumerate*}\n",
       "\\item 'depth'\n",
       "\\item 'table'\n",
       "\\item 'price'\n",
       "\\end{enumerate*}\n"
      ],
      "text/markdown": [
       "1. 'depth'\n",
       "2. 'table'\n",
       "3. 'price'\n",
       "\n",
       "\n"
      ],
      "text/plain": [
       "[1] \"depth\" \"table\" \"price\""
      ]
     },
     "metadata": {},
     "output_type": "display_data"
    }
   ],
   "source": [
    "#描述性统计：针对数值型\n",
    "\n",
    "library(\"ggplot2\")\n",
    "\n",
    "myvars<-names(diamonds)[c(5,6,7)]\n",
    "myvars"
   ]
  },
  {
   "cell_type": "code",
   "execution_count": 2,
   "metadata": {},
   "outputs": [
    {
     "data": {
      "text/plain": [
       "     depth           table           price      \n",
       " Min.   :43.00   Min.   :43.00   Min.   :  326  \n",
       " 1st Qu.:61.00   1st Qu.:56.00   1st Qu.:  950  \n",
       " Median :61.80   Median :57.00   Median : 2401  \n",
       " Mean   :61.75   Mean   :57.46   Mean   : 3933  \n",
       " 3rd Qu.:62.50   3rd Qu.:59.00   3rd Qu.: 5324  \n",
       " Max.   :79.00   Max.   :95.00   Max.   :18823  "
      ]
     },
     "metadata": {},
     "output_type": "display_data"
    }
   ],
   "source": [
    "summary(diamonds[myvars])"
   ]
  },
  {
   "cell_type": "code",
   "execution_count": 3,
   "metadata": {},
   "outputs": [
    {
     "data": {
      "text/html": [
       "<table>\n",
       "<thead><tr><th></th><th scope=col>depth</th><th scope=col>table</th><th scope=col>price</th></tr></thead>\n",
       "<tbody>\n",
       "\t<tr><th scope=row>n</th><td> 5.394000e+04</td><td>5.394000e+04 </td><td>53940.000000 </td></tr>\n",
       "\t<tr><th scope=row>mean</th><td> 6.174940e+01</td><td>5.745718e+01 </td><td> 3932.799722 </td></tr>\n",
       "\t<tr><th scope=row>stdev</th><td> 1.432621e+00</td><td>2.234491e+00 </td><td> 3989.439738 </td></tr>\n",
       "\t<tr><th scope=row>skew</th><td>-8.228945e-02</td><td>7.968515e-01 </td><td>    1.618305 </td></tr>\n",
       "\t<tr><th scope=row>kurtosis</th><td> 5.738447e+00</td><td>2.801271e+00 </td><td>    2.177191 </td></tr>\n",
       "</tbody>\n",
       "</table>\n"
      ],
      "text/latex": [
       "\\begin{tabular}{r|lll}\n",
       "  & depth & table & price\\\\\n",
       "\\hline\n",
       "\tn &  5.394000e+04 & 5.394000e+04  & 53940.000000 \\\\\n",
       "\tmean &  6.174940e+01 & 5.745718e+01  &  3932.799722 \\\\\n",
       "\tstdev &  1.432621e+00 & 2.234491e+00  &  3989.439738 \\\\\n",
       "\tskew & -8.228945e-02 & 7.968515e-01  &     1.618305 \\\\\n",
       "\tkurtosis &  5.738447e+00 & 2.801271e+00  &     2.177191 \\\\\n",
       "\\end{tabular}\n"
      ],
      "text/markdown": [
       "\n",
       "| <!--/--> | depth | table | price | \n",
       "|---|---|---|---|---|\n",
       "| n |  5.394000e+04 | 5.394000e+04  | 53940.000000  | \n",
       "| mean |  6.174940e+01 | 5.745718e+01  |  3932.799722  | \n",
       "| stdev |  1.432621e+00 | 2.234491e+00  |  3989.439738  | \n",
       "| skew | -8.228945e-02 | 7.968515e-01  |     1.618305  | \n",
       "| kurtosis |  5.738447e+00 | 2.801271e+00  |     2.177191  | \n",
       "\n",
       "\n"
      ],
      "text/plain": [
       "         depth         table        price       \n",
       "n         5.394000e+04 5.394000e+04 53940.000000\n",
       "mean      6.174940e+01 5.745718e+01  3932.799722\n",
       "stdev     1.432621e+00 2.234491e+00  3989.439738\n",
       "skew     -8.228945e-02 7.968515e-01     1.618305\n",
       "kurtosis  5.738447e+00 2.801271e+00     2.177191"
      ]
     },
     "metadata": {},
     "output_type": "display_data"
    }
   ],
   "source": [
    "mystats<-function(x,na.omit=FALSE){\n",
    "    if(na.omit)\n",
    "        x<-x[!is.na(x)]\n",
    "    m<-mean(x)\n",
    "    n<-length(x)\n",
    "    s<-sd(x)\n",
    "    skew<-sum((x-m)^3/s^3)/n\n",
    "    kurt<-sum((x-m)^4/s^4)/n-3\n",
    "    return(c(n=n,mean=m,stdev=s,skew=skew,kurtosis=kurt))\n",
    "}\n",
    "    \n",
    "sapply(diamonds[myvars],mystats)"
   ]
  },
  {
   "cell_type": "code",
   "execution_count": 10,
   "metadata": {},
   "outputs": [
    {
     "data": {
      "text/plain": [
       "diamonds[myvars] \n",
       "\n",
       " 3  Variables      53940  Observations\n",
       "--------------------------------------------------------------------------------\n",
       "depth \n",
       "       n  missing distinct     Info     Mean      Gmd      .05      .10 \n",
       "   53940        0      184    0.999    61.75    1.515     59.3     60.0 \n",
       "     .25      .50      .75      .90      .95 \n",
       "    61.0     61.8     62.5     63.3     63.8 \n",
       "\n",
       "lowest : 43.0 44.0 50.8 51.0 52.2, highest: 72.2 72.9 73.6 78.2 79.0\n",
       "--------------------------------------------------------------------------------\n",
       "table \n",
       "       n  missing distinct     Info     Mean      Gmd      .05      .10 \n",
       "   53940        0      127     0.98    57.46    2.448       54       55 \n",
       "     .25      .50      .75      .90      .95 \n",
       "      56       57       59       60       61 \n",
       "\n",
       "lowest : 43.0 44.0 49.0 50.0 50.1, highest: 71.0 73.0 76.0 79.0 95.0\n",
       "--------------------------------------------------------------------------------\n",
       "price \n",
       "       n  missing distinct     Info     Mean      Gmd      .05      .10 \n",
       "   53940        0    11602        1     3933     4012      544      646 \n",
       "     .25      .50      .75      .90      .95 \n",
       "     950     2401     5324     9821    13107 \n",
       "\n",
       "lowest :   326   327   334   335   336, highest: 18803 18804 18806 18818 18823\n",
       "--------------------------------------------------------------------------------"
      ]
     },
     "metadata": {},
     "output_type": "display_data"
    }
   ],
   "source": [
    "#输出变量与观测值个数、缺失值与唯一值个数、均值与分位数、五个最大最小值\n",
    "Hmisc::describe(diamonds[myvars])"
   ]
  },
  {
   "cell_type": "code",
   "execution_count": 15,
   "metadata": {},
   "outputs": [],
   "source": [
    "#计算所有值、空值、缺失值数量，最大值、最小值、值域\n",
    "# install.packages(\"pastecs\")\n",
    "# library(pastecs)\n",
    "# stat.desc(diamonds[myvars])"
   ]
  },
  {
   "cell_type": "code",
   "execution_count": 17,
   "metadata": {},
   "outputs": [
    {
     "data": {
      "text/html": [
       "<table>\n",
       "<thead><tr><th></th><th scope=col>vars</th><th scope=col>n</th><th scope=col>mean</th><th scope=col>sd</th><th scope=col>median</th><th scope=col>trimmed</th><th scope=col>mad</th><th scope=col>min</th><th scope=col>max</th><th scope=col>range</th><th scope=col>skew</th><th scope=col>kurtosis</th><th scope=col>se</th></tr></thead>\n",
       "<tbody>\n",
       "\t<tr><th scope=row>depth</th><td>1           </td><td>53940       </td><td>  61.74940  </td><td>   1.432621 </td><td>  61.8      </td><td>  61.78461  </td><td>   1.03782  </td><td> 43         </td><td>   79       </td><td>   36       </td><td>-0.08228945 </td><td>5.738447    </td><td> 0.006168448</td></tr>\n",
       "\t<tr><th scope=row>table</th><td>2           </td><td>53940       </td><td>  57.45718  </td><td>   2.234491 </td><td>  57.0      </td><td>  57.31835  </td><td>   1.48260  </td><td> 43         </td><td>   95       </td><td>   52       </td><td> 0.79685153 </td><td>2.801271    </td><td> 0.009621063</td></tr>\n",
       "\t<tr><th scope=row>price</th><td>3           </td><td>53940       </td><td>3932.79972  </td><td>3989.439738 </td><td>2401.0      </td><td>3158.99235  </td><td>2475.94200  </td><td>326         </td><td>18823       </td><td>18497       </td><td> 1.61830527 </td><td>2.177191    </td><td>17.177360816</td></tr>\n",
       "</tbody>\n",
       "</table>\n"
      ],
      "text/latex": [
       "\\begin{tabular}{r|lllllllllllll}\n",
       "  & vars & n & mean & sd & median & trimmed & mad & min & max & range & skew & kurtosis & se\\\\\n",
       "\\hline\n",
       "\tdepth & 1            & 53940        &   61.74940   &    1.432621  &   61.8       &   61.78461   &    1.03782   &  43          &    79        &    36        & -0.08228945  & 5.738447     &  0.006168448\\\\\n",
       "\ttable & 2            & 53940        &   57.45718   &    2.234491  &   57.0       &   57.31835   &    1.48260   &  43          &    95        &    52        &  0.79685153  & 2.801271     &  0.009621063\\\\\n",
       "\tprice & 3            & 53940        & 3932.79972   & 3989.439738  & 2401.0       & 3158.99235   & 2475.94200   & 326          & 18823        & 18497        &  1.61830527  & 2.177191     & 17.177360816\\\\\n",
       "\\end{tabular}\n"
      ],
      "text/markdown": [
       "\n",
       "| <!--/--> | vars | n | mean | sd | median | trimmed | mad | min | max | range | skew | kurtosis | se | \n",
       "|---|---|---|\n",
       "| depth | 1            | 53940        |   61.74940   |    1.432621  |   61.8       |   61.78461   |    1.03782   |  43          |    79        |    36        | -0.08228945  | 5.738447     |  0.006168448 | \n",
       "| table | 2            | 53940        |   57.45718   |    2.234491  |   57.0       |   57.31835   |    1.48260   |  43          |    95        |    52        |  0.79685153  | 2.801271     |  0.009621063 | \n",
       "| price | 3            | 53940        | 3932.79972   | 3989.439738  | 2401.0       | 3158.99235   | 2475.94200   | 326          | 18823        | 18497        |  1.61830527  | 2.177191     | 17.177360816 | \n",
       "\n",
       "\n"
      ],
      "text/plain": [
       "      vars n     mean       sd          median trimmed    mad        min max  \n",
       "depth 1    53940   61.74940    1.432621   61.8   61.78461    1.03782  43    79\n",
       "table 2    53940   57.45718    2.234491   57.0   57.31835    1.48260  43    95\n",
       "price 3    53940 3932.79972 3989.439738 2401.0 3158.99235 2475.94200 326 18823\n",
       "      range skew        kurtosis se          \n",
       "depth    36 -0.08228945 5.738447  0.006168448\n",
       "table    52  0.79685153 2.801271  0.009621063\n",
       "price 18497  1.61830527 2.177191 17.177360816"
      ]
     },
     "metadata": {},
     "output_type": "display_data"
    }
   ],
   "source": [
    "#可以计算非缺失值的数量、平均值、标准差、中位数、截尾均值、绝对中位差、\n",
    "#最小值、最大值、值域、偏度、峰度、平均值的标准误差\n",
    "psych::describe(diamonds[myvars])"
   ]
  },
  {
   "cell_type": "code",
   "execution_count": 18,
   "metadata": {},
   "outputs": [
    {
     "data": {
      "text/html": [
       "<table>\n",
       "<thead><tr><th scope=col>cut</th><th scope=col>depth</th><th scope=col>table</th><th scope=col>price</th></tr></thead>\n",
       "<tbody>\n",
       "\t<tr><td>Fair     </td><td>64.04168 </td><td>59.05379 </td><td>4358.758 </td></tr>\n",
       "\t<tr><td>Good     </td><td>62.36588 </td><td>58.69464 </td><td>3928.864 </td></tr>\n",
       "\t<tr><td>Very Good</td><td>61.81828 </td><td>57.95615 </td><td>3981.760 </td></tr>\n",
       "\t<tr><td>Premium  </td><td>61.26467 </td><td>58.74610 </td><td>4584.258 </td></tr>\n",
       "\t<tr><td>Ideal    </td><td>61.70940 </td><td>55.95167 </td><td>3457.542 </td></tr>\n",
       "</tbody>\n",
       "</table>\n"
      ],
      "text/latex": [
       "\\begin{tabular}{r|llll}\n",
       " cut & depth & table & price\\\\\n",
       "\\hline\n",
       "\t Fair      & 64.04168  & 59.05379  & 4358.758 \\\\\n",
       "\t Good      & 62.36588  & 58.69464  & 3928.864 \\\\\n",
       "\t Very Good & 61.81828  & 57.95615  & 3981.760 \\\\\n",
       "\t Premium   & 61.26467  & 58.74610  & 4584.258 \\\\\n",
       "\t Ideal     & 61.70940  & 55.95167  & 3457.542 \\\\\n",
       "\\end{tabular}\n"
      ],
      "text/markdown": [
       "\n",
       "cut | depth | table | price | \n",
       "|---|---|---|---|---|\n",
       "| Fair      | 64.04168  | 59.05379  | 4358.758  | \n",
       "| Good      | 62.36588  | 58.69464  | 3928.864  | \n",
       "| Very Good | 61.81828  | 57.95615  | 3981.760  | \n",
       "| Premium   | 61.26467  | 58.74610  | 4584.258  | \n",
       "| Ideal     | 61.70940  | 55.95167  | 3457.542  | \n",
       "\n",
       "\n"
      ],
      "text/plain": [
       "  cut       depth    table    price   \n",
       "1 Fair      64.04168 59.05379 4358.758\n",
       "2 Good      62.36588 58.69464 3928.864\n",
       "3 Very Good 61.81828 57.95615 3981.760\n",
       "4 Premium   61.26467 58.74610 4584.258\n",
       "5 Ideal     61.70940 55.95167 3457.542"
      ]
     },
     "metadata": {},
     "output_type": "display_data"
    }
   ],
   "source": [
    "#分组聚合并计算描述性统计量：\n",
    "aggregate(.~cut,data=diamonds[,c(\"depth\",\"table\",\"price\",\"cut\")],FUN=mean)"
   ]
  },
  {
   "cell_type": "code",
   "execution_count": 19,
   "metadata": {},
   "outputs": [
    {
     "data": {
      "text/plain": [
       "diamonds$cut: Fair\n",
       "               depth       table       price\n",
       "n        1610.000000 1610.000000 1610.000000\n",
       "mean       64.041677   59.053789 4358.757764\n",
       "stdev       3.643428    3.946261 3560.386612\n",
       "skew       -1.170819    1.340626    1.780213\n",
       "kurtosis    2.202072    4.831753    3.067175\n",
       "------------------------------------------------------------ \n",
       "diamonds$cut: Good\n",
       "                depth        table       price\n",
       "n        4906.0000000 4906.0000000 4906.000000\n",
       "mean       62.3658785   58.6946392 3928.864452\n",
       "stdev       2.1693739    2.8512997 3681.589584\n",
       "skew       -1.1961212    0.3054851    1.721943\n",
       "kurtosis    0.1724617   -0.6444365    3.042550\n",
       "------------------------------------------------------------ \n",
       "diamonds$cut: Very Good\n",
       "                 depth        table        price\n",
       "n        12082.0000000 1.208200e+04 12082.000000\n",
       "mean        61.8182751 5.795615e+01  3981.759891\n",
       "stdev        1.3786308 2.121448e+00  3935.862161\n",
       "skew        -0.7075131 2.769068e-01     1.595341\n",
       "kurtosis    -0.3014142 3.623741e-02     2.235873\n",
       "------------------------------------------------------------ \n",
       "diamonds$cut: Premium\n",
       "                 depth         table        price\n",
       "n        13791.0000000 13791.0000000 13791.000000\n",
       "mean        61.2646726    58.7460953  4584.257704\n",
       "stdev        1.1588149     1.4785733  4349.204961\n",
       "skew        -0.6108386    -0.3669732     1.333358\n",
       "kurtosis    -0.3698431     1.3348994     1.072295\n",
       "------------------------------------------------------------ \n",
       "diamonds$cut: Ideal\n",
       "                 depth        table        price\n",
       "n        21551.0000000 2.155100e+04 21551.000000\n",
       "mean        61.7094010 5.595167e+01  3457.541970\n",
       "stdev        0.7185386 1.246423e+00  3808.401172\n",
       "skew        -1.4371123 2.018585e-01     1.835587\n",
       "kurtosis    22.3324590 1.701293e+00     2.977425"
      ]
     },
     "metadata": {},
     "output_type": "display_data"
    }
   ],
   "source": [
    "by(diamonds[myvars],diamonds$cut,function(x) sapply(x,mystats))"
   ]
  },
  {
   "cell_type": "code",
   "execution_count": 25,
   "metadata": {},
   "outputs": [
    {
     "data": {
      "text/plain": [
       "\n",
       " Descriptive statistics by group \n",
       ": Fair\n",
       "      vars    n    mean      sd median trimmed     mad min   max range  skew\n",
       "depth    1 1610   64.04    3.64     65   64.48    1.33  43    79    36 -1.17\n",
       "table    2 1610   59.05    3.95     58   58.64    2.97  49    95    46  1.34\n",
       "price    3 1610 4358.76 3560.39   3282 3695.65 2183.13 337 18574 18237  1.78\n",
       "      kurtosis    se\n",
       "depth     2.20  0.09\n",
       "table     4.83  0.10\n",
       "price     3.07 88.73\n",
       "------------------------------------------------------------ \n",
       ": Good\n",
       "      vars    n    mean      sd median trimmed     mad   min   max   range\n",
       "depth    1 4906   62.37    2.17   63.4   62.70    0.74  54.3    67    12.7\n",
       "table    2 4906   58.69    2.85   58.0   58.57    2.97  51.0    66    15.0\n",
       "price    3 4906 3928.86 3681.59 3050.5 3251.51 2853.26 327.0 18788 18461.0\n",
       "       skew kurtosis    se\n",
       "depth -1.20     0.17  0.03\n",
       "table  0.31    -0.64  0.04\n",
       "price  1.72     3.04 52.56\n",
       "------------------------------------------------------------ \n",
       ": Very Good\n",
       "      vars     n    mean      sd median trimmed     mad   min     max   range\n",
       "depth    1 12082   61.82    1.38   62.1   61.95    1.48  56.8    64.9     8.1\n",
       "table    2 12082   57.96    2.12   58.0   57.88    1.48  44.0    66.0    22.0\n",
       "price    3 12082 3981.76 3935.86 2648.0 3243.22 2855.49 336.0 18818.0 18482.0\n",
       "       skew kurtosis    se\n",
       "depth -0.71    -0.30  0.01\n",
       "table  0.28     0.04  0.02\n",
       "price  1.60     2.24 35.81\n",
       "------------------------------------------------------------ \n",
       ": Premium\n",
       "      vars     n    mean      sd median trimmed     mad min   max range  skew\n",
       "depth    1 13791   61.26    1.16   61.4   61.36    1.19  58    63     5 -0.61\n",
       "table    2 13791   58.75    1.48   59.0   58.77    1.48  51    62    11 -0.37\n",
       "price    3 13791 4584.26 4349.20 3185.0 3822.23 3371.43 326 18823 18497  1.33\n",
       "      kurtosis    se\n",
       "depth    -0.37  0.01\n",
       "table     1.33  0.01\n",
       "price     1.07 37.03\n",
       "------------------------------------------------------------ \n",
       ": Ideal\n",
       "      vars     n    mean      sd median trimmed     mad min     max   range\n",
       "depth    1 21551   61.71    0.72   61.8   61.76    0.59  43    66.7    23.7\n",
       "table    2 21551   55.95    1.25   56.0   55.97    1.48  43    63.0    20.0\n",
       "price    3 21551 3457.54 3808.40 1810.0 2656.14 1630.86 326 18806.0 18480.0\n",
       "       skew kurtosis    se\n",
       "depth -1.44    22.33  0.00\n",
       "table  0.20     1.70  0.01\n",
       "price  1.84     2.98 25.94"
      ]
     },
     "metadata": {},
     "output_type": "display_data"
    }
   ],
   "source": [
    "# library(doBy)\n",
    "# library(psych)\n",
    "\n",
    "# summaryBy(mpg+hp+wt~am,data=mtcars,FUN=mystats)\n",
    "\n",
    "#相比summaryBy，describeBy不允许指定任意函数\n",
    "describeBy(diamonds[myvars],list(diamonds$cut))"
   ]
  },
  {
   "cell_type": "markdown",
   "metadata": {},
   "source": [
    "### 列联表统计：针对类别型变量\n",
    "- table():简单的频数统计表，输出列联表矩阵，等同于count函数\n",
    "- xtabs():公式法输入，输出列联表\n",
    "- prop.table():份数表示的列联表\n",
    "- margin.table():添加边际和\n",
    "- addmargins():将边际和放入表中\n",
    "- ftable():创建紧凑型列联表"
   ]
  },
  {
   "cell_type": "code",
   "execution_count": 28,
   "metadata": {},
   "outputs": [
    {
     "data": {
      "text/plain": [
       "cut\n",
       "     Fair      Good Very Good   Premium     Ideal \n",
       "     1610      4906     12082     13791     21551 "
      ]
     },
     "metadata": {},
     "output_type": "display_data"
    }
   ],
   "source": [
    "#一维列联表\n",
    "mytable<-with(diamonds,table(cut))\n",
    "mytable"
   ]
  },
  {
   "cell_type": "code",
   "execution_count": 30,
   "metadata": {},
   "outputs": [
    {
     "data": {
      "text/plain": [
       "cut\n",
       "      Fair       Good  Very Good    Premium      Ideal \n",
       "0.02984798 0.09095291 0.22398962 0.25567297 0.39953652 "
      ]
     },
     "metadata": {},
     "output_type": "display_data"
    }
   ],
   "source": [
    "prop.table(mytable)"
   ]
  },
  {
   "cell_type": "code",
   "execution_count": null,
   "metadata": {
    "collapsed": true
   },
   "outputs": [],
   "source": []
  }
 ],
 "metadata": {
  "kernelspec": {
   "display_name": "R",
   "language": "R",
   "name": "ir"
  },
  "language_info": {
   "codemirror_mode": "r",
   "file_extension": ".r",
   "mimetype": "text/x-r-source",
   "name": "R",
   "pygments_lexer": "r",
   "version": "3.4.1"
  }
 },
 "nbformat": 4,
 "nbformat_minor": 2
}
