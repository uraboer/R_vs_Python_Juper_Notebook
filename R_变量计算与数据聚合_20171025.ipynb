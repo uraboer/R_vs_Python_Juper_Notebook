{
 "cells": [
  {
   "cell_type": "markdown",
   "metadata": {},
   "source": [
    "- transform\n",
    "- mutate\n",
    "\n",
    "- aggregate\n",
    "- group_by+summarize\n",
    "- ddply"
   ]
  },
  {
   "cell_type": "code",
   "execution_count": 1,
   "metadata": {},
   "outputs": [
    {
     "data": {
      "text/html": [
       "<table>\n",
       "<thead><tr><th scope=col>Sepal.Length</th><th scope=col>Sepal.Width</th><th scope=col>Petal.Length</th><th scope=col>Petal.Width</th><th scope=col>Species</th></tr></thead>\n",
       "<tbody>\n",
       "\t<tr><td>5.1   </td><td>3.5   </td><td>1.4   </td><td>0.2   </td><td>setosa</td></tr>\n",
       "\t<tr><td>4.9   </td><td>3.0   </td><td>1.4   </td><td>0.2   </td><td>setosa</td></tr>\n",
       "\t<tr><td>4.7   </td><td>3.2   </td><td>1.3   </td><td>0.2   </td><td>setosa</td></tr>\n",
       "\t<tr><td>4.6   </td><td>3.1   </td><td>1.5   </td><td>0.2   </td><td>setosa</td></tr>\n",
       "\t<tr><td>5.0   </td><td>3.6   </td><td>1.4   </td><td>0.2   </td><td>setosa</td></tr>\n",
       "\t<tr><td>5.4   </td><td>3.9   </td><td>1.7   </td><td>0.4   </td><td>setosa</td></tr>\n",
       "</tbody>\n",
       "</table>\n"
      ],
      "text/latex": [
       "\\begin{tabular}{r|lllll}\n",
       " Sepal.Length & Sepal.Width & Petal.Length & Petal.Width & Species\\\\\n",
       "\\hline\n",
       "\t 5.1    & 3.5    & 1.4    & 0.2    & setosa\\\\\n",
       "\t 4.9    & 3.0    & 1.4    & 0.2    & setosa\\\\\n",
       "\t 4.7    & 3.2    & 1.3    & 0.2    & setosa\\\\\n",
       "\t 4.6    & 3.1    & 1.5    & 0.2    & setosa\\\\\n",
       "\t 5.0    & 3.6    & 1.4    & 0.2    & setosa\\\\\n",
       "\t 5.4    & 3.9    & 1.7    & 0.4    & setosa\\\\\n",
       "\\end{tabular}\n"
      ],
      "text/markdown": [
       "\n",
       "Sepal.Length | Sepal.Width | Petal.Length | Petal.Width | Species | \n",
       "|---|---|---|---|---|---|\n",
       "| 5.1    | 3.5    | 1.4    | 0.2    | setosa | \n",
       "| 4.9    | 3.0    | 1.4    | 0.2    | setosa | \n",
       "| 4.7    | 3.2    | 1.3    | 0.2    | setosa | \n",
       "| 4.6    | 3.1    | 1.5    | 0.2    | setosa | \n",
       "| 5.0    | 3.6    | 1.4    | 0.2    | setosa | \n",
       "| 5.4    | 3.9    | 1.7    | 0.4    | setosa | \n",
       "\n",
       "\n"
      ],
      "text/plain": [
       "  Sepal.Length Sepal.Width Petal.Length Petal.Width Species\n",
       "1 5.1          3.5         1.4          0.2         setosa \n",
       "2 4.9          3.0         1.4          0.2         setosa \n",
       "3 4.7          3.2         1.3          0.2         setosa \n",
       "4 4.6          3.1         1.5          0.2         setosa \n",
       "5 5.0          3.6         1.4          0.2         setosa \n",
       "6 5.4          3.9         1.7          0.4         setosa "
      ]
     },
     "metadata": {},
     "output_type": "display_data"
    }
   ],
   "source": [
    "head(iris)"
   ]
  },
  {
   "cell_type": "code",
   "execution_count": 2,
   "metadata": {},
   "outputs": [
    {
     "name": "stdout",
     "output_type": "stream",
     "text": [
      "'data.frame':\t150 obs. of  5 variables:\n",
      " $ Sepal.Length: num  5.1 4.9 4.7 4.6 5 5.4 4.6 5 4.4 4.9 ...\n",
      " $ Sepal.Width : num  3.5 3 3.2 3.1 3.6 3.9 3.4 3.4 2.9 3.1 ...\n",
      " $ Petal.Length: num  1.4 1.4 1.3 1.5 1.4 1.7 1.4 1.5 1.4 1.5 ...\n",
      " $ Petal.Width : num  0.2 0.2 0.2 0.2 0.2 0.4 0.3 0.2 0.2 0.1 ...\n",
      " $ Species     : Factor w/ 3 levels \"setosa\",\"versicolor\",..: 1 1 1 1 1 1 1 1 1 1 ...\n"
     ]
    }
   ],
   "source": [
    "str(iris)"
   ]
  },
  {
   "cell_type": "code",
   "execution_count": 19,
   "metadata": {},
   "outputs": [
    {
     "data": {
      "text/html": [
       "<table>\n",
       "<thead><tr><th scope=col>Sepal.Length</th><th scope=col>Sepal.Width</th><th scope=col>Petal.Length</th><th scope=col>Petal.Width</th><th scope=col>Species</th><th scope=col>dek</th><th scope=col>jek</th></tr></thead>\n",
       "<tbody>\n",
       "\t<tr><td>5.1     </td><td>3.5     </td><td>1.4     </td><td>0.2     </td><td>setosa  </td><td> 8.6    </td><td>2.932576</td></tr>\n",
       "\t<tr><td>4.9     </td><td>3.0     </td><td>1.4     </td><td>0.2     </td><td>setosa  </td><td> 7.9    </td><td>2.810694</td></tr>\n",
       "\t<tr><td>4.7     </td><td>3.2     </td><td>1.3     </td><td>0.2     </td><td>setosa  </td><td> 7.9    </td><td>2.810694</td></tr>\n",
       "\t<tr><td>4.6     </td><td>3.1     </td><td>1.5     </td><td>0.2     </td><td>setosa  </td><td> 7.7    </td><td>2.774887</td></tr>\n",
       "\t<tr><td>5.0     </td><td>3.6     </td><td>1.4     </td><td>0.2     </td><td>setosa  </td><td> 8.6    </td><td>2.932576</td></tr>\n",
       "\t<tr><td>5.4     </td><td>3.9     </td><td>1.7     </td><td>0.4     </td><td>setosa  </td><td> 9.3    </td><td>3.049590</td></tr>\n",
       "\t<tr><td>4.6     </td><td>3.4     </td><td>1.4     </td><td>0.3     </td><td>setosa  </td><td> 8.0    </td><td>2.828427</td></tr>\n",
       "\t<tr><td>5.0     </td><td>3.4     </td><td>1.5     </td><td>0.2     </td><td>setosa  </td><td> 8.4    </td><td>2.898275</td></tr>\n",
       "\t<tr><td>4.4     </td><td>2.9     </td><td>1.4     </td><td>0.2     </td><td>setosa  </td><td> 7.3    </td><td>2.701851</td></tr>\n",
       "\t<tr><td>4.9     </td><td>3.1     </td><td>1.5     </td><td>0.1     </td><td>setosa  </td><td> 8.0    </td><td>2.828427</td></tr>\n",
       "\t<tr><td>5.4     </td><td>3.7     </td><td>1.5     </td><td>0.2     </td><td>setosa  </td><td> 9.1    </td><td>3.016621</td></tr>\n",
       "\t<tr><td>4.8     </td><td>3.4     </td><td>1.6     </td><td>0.2     </td><td>setosa  </td><td> 8.2    </td><td>2.863564</td></tr>\n",
       "\t<tr><td>4.8     </td><td>3.0     </td><td>1.4     </td><td>0.1     </td><td>setosa  </td><td> 7.8    </td><td>2.792848</td></tr>\n",
       "\t<tr><td>4.3     </td><td>3.0     </td><td>1.1     </td><td>0.1     </td><td>setosa  </td><td> 7.3    </td><td>2.701851</td></tr>\n",
       "\t<tr><td>5.8     </td><td>4.0     </td><td>1.2     </td><td>0.2     </td><td>setosa  </td><td> 9.8    </td><td>3.130495</td></tr>\n",
       "\t<tr><td>5.7     </td><td>4.4     </td><td>1.5     </td><td>0.4     </td><td>setosa  </td><td>10.1    </td><td>3.178050</td></tr>\n",
       "\t<tr><td>5.4     </td><td>3.9     </td><td>1.3     </td><td>0.4     </td><td>setosa  </td><td> 9.3    </td><td>3.049590</td></tr>\n",
       "\t<tr><td>5.1     </td><td>3.5     </td><td>1.4     </td><td>0.3     </td><td>setosa  </td><td> 8.6    </td><td>2.932576</td></tr>\n",
       "\t<tr><td>5.7     </td><td>3.8     </td><td>1.7     </td><td>0.3     </td><td>setosa  </td><td> 9.5    </td><td>3.082207</td></tr>\n",
       "\t<tr><td>5.1     </td><td>3.8     </td><td>1.5     </td><td>0.3     </td><td>setosa  </td><td> 8.9    </td><td>2.983287</td></tr>\n",
       "\t<tr><td>5.4     </td><td>3.4     </td><td>1.7     </td><td>0.2     </td><td>setosa  </td><td> 8.8    </td><td>2.966479</td></tr>\n",
       "\t<tr><td>5.1     </td><td>3.7     </td><td>1.5     </td><td>0.4     </td><td>setosa  </td><td> 8.8    </td><td>2.966479</td></tr>\n",
       "\t<tr><td>4.6     </td><td>3.6     </td><td>1.0     </td><td>0.2     </td><td>setosa  </td><td> 8.2    </td><td>2.863564</td></tr>\n",
       "\t<tr><td>5.1     </td><td>3.3     </td><td>1.7     </td><td>0.5     </td><td>setosa  </td><td> 8.4    </td><td>2.898275</td></tr>\n",
       "\t<tr><td>4.8     </td><td>3.4     </td><td>1.9     </td><td>0.2     </td><td>setosa  </td><td> 8.2    </td><td>2.863564</td></tr>\n",
       "\t<tr><td>5.0     </td><td>3.0     </td><td>1.6     </td><td>0.2     </td><td>setosa  </td><td> 8.0    </td><td>2.828427</td></tr>\n",
       "\t<tr><td>5.0     </td><td>3.4     </td><td>1.6     </td><td>0.4     </td><td>setosa  </td><td> 8.4    </td><td>2.898275</td></tr>\n",
       "\t<tr><td>5.2     </td><td>3.5     </td><td>1.5     </td><td>0.2     </td><td>setosa  </td><td> 8.7    </td><td>2.949576</td></tr>\n",
       "\t<tr><td>5.2     </td><td>3.4     </td><td>1.4     </td><td>0.2     </td><td>setosa  </td><td> 8.6    </td><td>2.932576</td></tr>\n",
       "\t<tr><td>4.7     </td><td>3.2     </td><td>1.6     </td><td>0.2     </td><td>setosa  </td><td> 7.9    </td><td>2.810694</td></tr>\n",
       "\t<tr><td>...</td><td>...</td><td>...</td><td>...</td><td>...</td><td>...</td><td>...</td></tr>\n",
       "\t<tr><td>6.9      </td><td>3.2      </td><td>5.7      </td><td>2.3      </td><td>virginica</td><td>10.1     </td><td>3.178050 </td></tr>\n",
       "\t<tr><td>5.6      </td><td>2.8      </td><td>4.9      </td><td>2.0      </td><td>virginica</td><td> 8.4     </td><td>2.898275 </td></tr>\n",
       "\t<tr><td>7.7      </td><td>2.8      </td><td>6.7      </td><td>2.0      </td><td>virginica</td><td>10.5     </td><td>3.240370 </td></tr>\n",
       "\t<tr><td>6.3      </td><td>2.7      </td><td>4.9      </td><td>1.8      </td><td>virginica</td><td> 9.0     </td><td>3.000000 </td></tr>\n",
       "\t<tr><td>6.7      </td><td>3.3      </td><td>5.7      </td><td>2.1      </td><td>virginica</td><td>10.0     </td><td>3.162278 </td></tr>\n",
       "\t<tr><td>7.2      </td><td>3.2      </td><td>6.0      </td><td>1.8      </td><td>virginica</td><td>10.4     </td><td>3.224903 </td></tr>\n",
       "\t<tr><td>6.2      </td><td>2.8      </td><td>4.8      </td><td>1.8      </td><td>virginica</td><td> 9.0     </td><td>3.000000 </td></tr>\n",
       "\t<tr><td>6.1      </td><td>3.0      </td><td>4.9      </td><td>1.8      </td><td>virginica</td><td> 9.1     </td><td>3.016621 </td></tr>\n",
       "\t<tr><td>6.4      </td><td>2.8      </td><td>5.6      </td><td>2.1      </td><td>virginica</td><td> 9.2     </td><td>3.033150 </td></tr>\n",
       "\t<tr><td>7.2      </td><td>3.0      </td><td>5.8      </td><td>1.6      </td><td>virginica</td><td>10.2     </td><td>3.193744 </td></tr>\n",
       "\t<tr><td>7.4      </td><td>2.8      </td><td>6.1      </td><td>1.9      </td><td>virginica</td><td>10.2     </td><td>3.193744 </td></tr>\n",
       "\t<tr><td>7.9      </td><td>3.8      </td><td>6.4      </td><td>2.0      </td><td>virginica</td><td>11.7     </td><td>3.420526 </td></tr>\n",
       "\t<tr><td>6.4      </td><td>2.8      </td><td>5.6      </td><td>2.2      </td><td>virginica</td><td> 9.2     </td><td>3.033150 </td></tr>\n",
       "\t<tr><td>6.3      </td><td>2.8      </td><td>5.1      </td><td>1.5      </td><td>virginica</td><td> 9.1     </td><td>3.016621 </td></tr>\n",
       "\t<tr><td>6.1      </td><td>2.6      </td><td>5.6      </td><td>1.4      </td><td>virginica</td><td> 8.7     </td><td>2.949576 </td></tr>\n",
       "\t<tr><td>7.7      </td><td>3.0      </td><td>6.1      </td><td>2.3      </td><td>virginica</td><td>10.7     </td><td>3.271085 </td></tr>\n",
       "\t<tr><td>6.3      </td><td>3.4      </td><td>5.6      </td><td>2.4      </td><td>virginica</td><td> 9.7     </td><td>3.114482 </td></tr>\n",
       "\t<tr><td>6.4      </td><td>3.1      </td><td>5.5      </td><td>1.8      </td><td>virginica</td><td> 9.5     </td><td>3.082207 </td></tr>\n",
       "\t<tr><td>6.0      </td><td>3.0      </td><td>4.8      </td><td>1.8      </td><td>virginica</td><td> 9.0     </td><td>3.000000 </td></tr>\n",
       "\t<tr><td>6.9      </td><td>3.1      </td><td>5.4      </td><td>2.1      </td><td>virginica</td><td>10.0     </td><td>3.162278 </td></tr>\n",
       "\t<tr><td>6.7      </td><td>3.1      </td><td>5.6      </td><td>2.4      </td><td>virginica</td><td> 9.8     </td><td>3.130495 </td></tr>\n",
       "\t<tr><td>6.9      </td><td>3.1      </td><td>5.1      </td><td>2.3      </td><td>virginica</td><td>10.0     </td><td>3.162278 </td></tr>\n",
       "\t<tr><td>5.8      </td><td>2.7      </td><td>5.1      </td><td>1.9      </td><td>virginica</td><td> 8.5     </td><td>2.915476 </td></tr>\n",
       "\t<tr><td>6.8      </td><td>3.2      </td><td>5.9      </td><td>2.3      </td><td>virginica</td><td>10.0     </td><td>3.162278 </td></tr>\n",
       "\t<tr><td>6.7      </td><td>3.3      </td><td>5.7      </td><td>2.5      </td><td>virginica</td><td>10.0     </td><td>3.162278 </td></tr>\n",
       "\t<tr><td>6.7      </td><td>3.0      </td><td>5.2      </td><td>2.3      </td><td>virginica</td><td> 9.7     </td><td>3.114482 </td></tr>\n",
       "\t<tr><td>6.3      </td><td>2.5      </td><td>5.0      </td><td>1.9      </td><td>virginica</td><td> 8.8     </td><td>2.966479 </td></tr>\n",
       "\t<tr><td>6.5      </td><td>3.0      </td><td>5.2      </td><td>2.0      </td><td>virginica</td><td> 9.5     </td><td>3.082207 </td></tr>\n",
       "\t<tr><td>6.2      </td><td>3.4      </td><td>5.4      </td><td>2.3      </td><td>virginica</td><td> 9.6     </td><td>3.098387 </td></tr>\n",
       "\t<tr><td>5.9      </td><td>3.0      </td><td>5.1      </td><td>1.8      </td><td>virginica</td><td> 8.9     </td><td>2.983287 </td></tr>\n",
       "</tbody>\n",
       "</table>\n"
      ],
      "text/latex": [
       "\\begin{tabular}{r|lllllll}\n",
       " Sepal.Length & Sepal.Width & Petal.Length & Petal.Width & Species & dek & jek\\\\\n",
       "\\hline\n",
       "\t 5.1      & 3.5      & 1.4      & 0.2      & setosa   &  8.6     & 2.932576\\\\\n",
       "\t 4.9      & 3.0      & 1.4      & 0.2      & setosa   &  7.9     & 2.810694\\\\\n",
       "\t 4.7      & 3.2      & 1.3      & 0.2      & setosa   &  7.9     & 2.810694\\\\\n",
       "\t 4.6      & 3.1      & 1.5      & 0.2      & setosa   &  7.7     & 2.774887\\\\\n",
       "\t 5.0      & 3.6      & 1.4      & 0.2      & setosa   &  8.6     & 2.932576\\\\\n",
       "\t 5.4      & 3.9      & 1.7      & 0.4      & setosa   &  9.3     & 3.049590\\\\\n",
       "\t 4.6      & 3.4      & 1.4      & 0.3      & setosa   &  8.0     & 2.828427\\\\\n",
       "\t 5.0      & 3.4      & 1.5      & 0.2      & setosa   &  8.4     & 2.898275\\\\\n",
       "\t 4.4      & 2.9      & 1.4      & 0.2      & setosa   &  7.3     & 2.701851\\\\\n",
       "\t 4.9      & 3.1      & 1.5      & 0.1      & setosa   &  8.0     & 2.828427\\\\\n",
       "\t 5.4      & 3.7      & 1.5      & 0.2      & setosa   &  9.1     & 3.016621\\\\\n",
       "\t 4.8      & 3.4      & 1.6      & 0.2      & setosa   &  8.2     & 2.863564\\\\\n",
       "\t 4.8      & 3.0      & 1.4      & 0.1      & setosa   &  7.8     & 2.792848\\\\\n",
       "\t 4.3      & 3.0      & 1.1      & 0.1      & setosa   &  7.3     & 2.701851\\\\\n",
       "\t 5.8      & 4.0      & 1.2      & 0.2      & setosa   &  9.8     & 3.130495\\\\\n",
       "\t 5.7      & 4.4      & 1.5      & 0.4      & setosa   & 10.1     & 3.178050\\\\\n",
       "\t 5.4      & 3.9      & 1.3      & 0.4      & setosa   &  9.3     & 3.049590\\\\\n",
       "\t 5.1      & 3.5      & 1.4      & 0.3      & setosa   &  8.6     & 2.932576\\\\\n",
       "\t 5.7      & 3.8      & 1.7      & 0.3      & setosa   &  9.5     & 3.082207\\\\\n",
       "\t 5.1      & 3.8      & 1.5      & 0.3      & setosa   &  8.9     & 2.983287\\\\\n",
       "\t 5.4      & 3.4      & 1.7      & 0.2      & setosa   &  8.8     & 2.966479\\\\\n",
       "\t 5.1      & 3.7      & 1.5      & 0.4      & setosa   &  8.8     & 2.966479\\\\\n",
       "\t 4.6      & 3.6      & 1.0      & 0.2      & setosa   &  8.2     & 2.863564\\\\\n",
       "\t 5.1      & 3.3      & 1.7      & 0.5      & setosa   &  8.4     & 2.898275\\\\\n",
       "\t 4.8      & 3.4      & 1.9      & 0.2      & setosa   &  8.2     & 2.863564\\\\\n",
       "\t 5.0      & 3.0      & 1.6      & 0.2      & setosa   &  8.0     & 2.828427\\\\\n",
       "\t 5.0      & 3.4      & 1.6      & 0.4      & setosa   &  8.4     & 2.898275\\\\\n",
       "\t 5.2      & 3.5      & 1.5      & 0.2      & setosa   &  8.7     & 2.949576\\\\\n",
       "\t 5.2      & 3.4      & 1.4      & 0.2      & setosa   &  8.6     & 2.932576\\\\\n",
       "\t 4.7      & 3.2      & 1.6      & 0.2      & setosa   &  7.9     & 2.810694\\\\\n",
       "\t ... & ... & ... & ... & ... & ... & ...\\\\\n",
       "\t 6.9       & 3.2       & 5.7       & 2.3       & virginica & 10.1      & 3.178050 \\\\\n",
       "\t 5.6       & 2.8       & 4.9       & 2.0       & virginica &  8.4      & 2.898275 \\\\\n",
       "\t 7.7       & 2.8       & 6.7       & 2.0       & virginica & 10.5      & 3.240370 \\\\\n",
       "\t 6.3       & 2.7       & 4.9       & 1.8       & virginica &  9.0      & 3.000000 \\\\\n",
       "\t 6.7       & 3.3       & 5.7       & 2.1       & virginica & 10.0      & 3.162278 \\\\\n",
       "\t 7.2       & 3.2       & 6.0       & 1.8       & virginica & 10.4      & 3.224903 \\\\\n",
       "\t 6.2       & 2.8       & 4.8       & 1.8       & virginica &  9.0      & 3.000000 \\\\\n",
       "\t 6.1       & 3.0       & 4.9       & 1.8       & virginica &  9.1      & 3.016621 \\\\\n",
       "\t 6.4       & 2.8       & 5.6       & 2.1       & virginica &  9.2      & 3.033150 \\\\\n",
       "\t 7.2       & 3.0       & 5.8       & 1.6       & virginica & 10.2      & 3.193744 \\\\\n",
       "\t 7.4       & 2.8       & 6.1       & 1.9       & virginica & 10.2      & 3.193744 \\\\\n",
       "\t 7.9       & 3.8       & 6.4       & 2.0       & virginica & 11.7      & 3.420526 \\\\\n",
       "\t 6.4       & 2.8       & 5.6       & 2.2       & virginica &  9.2      & 3.033150 \\\\\n",
       "\t 6.3       & 2.8       & 5.1       & 1.5       & virginica &  9.1      & 3.016621 \\\\\n",
       "\t 6.1       & 2.6       & 5.6       & 1.4       & virginica &  8.7      & 2.949576 \\\\\n",
       "\t 7.7       & 3.0       & 6.1       & 2.3       & virginica & 10.7      & 3.271085 \\\\\n",
       "\t 6.3       & 3.4       & 5.6       & 2.4       & virginica &  9.7      & 3.114482 \\\\\n",
       "\t 6.4       & 3.1       & 5.5       & 1.8       & virginica &  9.5      & 3.082207 \\\\\n",
       "\t 6.0       & 3.0       & 4.8       & 1.8       & virginica &  9.0      & 3.000000 \\\\\n",
       "\t 6.9       & 3.1       & 5.4       & 2.1       & virginica & 10.0      & 3.162278 \\\\\n",
       "\t 6.7       & 3.1       & 5.6       & 2.4       & virginica &  9.8      & 3.130495 \\\\\n",
       "\t 6.9       & 3.1       & 5.1       & 2.3       & virginica & 10.0      & 3.162278 \\\\\n",
       "\t 5.8       & 2.7       & 5.1       & 1.9       & virginica &  8.5      & 2.915476 \\\\\n",
       "\t 6.8       & 3.2       & 5.9       & 2.3       & virginica & 10.0      & 3.162278 \\\\\n",
       "\t 6.7       & 3.3       & 5.7       & 2.5       & virginica & 10.0      & 3.162278 \\\\\n",
       "\t 6.7       & 3.0       & 5.2       & 2.3       & virginica &  9.7      & 3.114482 \\\\\n",
       "\t 6.3       & 2.5       & 5.0       & 1.9       & virginica &  8.8      & 2.966479 \\\\\n",
       "\t 6.5       & 3.0       & 5.2       & 2.0       & virginica &  9.5      & 3.082207 \\\\\n",
       "\t 6.2       & 3.4       & 5.4       & 2.3       & virginica &  9.6      & 3.098387 \\\\\n",
       "\t 5.9       & 3.0       & 5.1       & 1.8       & virginica &  8.9      & 2.983287 \\\\\n",
       "\\end{tabular}\n"
      ],
      "text/markdown": [
       "\n",
       "Sepal.Length | Sepal.Width | Petal.Length | Petal.Width | Species | dek | jek | \n",
       "|---|---|---|---|---|---|---|---|---|---|---|---|---|---|---|---|---|---|---|---|---|---|---|---|---|---|---|---|---|---|---|---|---|---|---|---|---|---|---|---|---|---|---|---|---|---|---|---|---|---|---|---|---|---|---|---|---|---|---|---|---|\n",
       "| 5.1      | 3.5      | 1.4      | 0.2      | setosa   |  8.6     | 2.932576 | \n",
       "| 4.9      | 3.0      | 1.4      | 0.2      | setosa   |  7.9     | 2.810694 | \n",
       "| 4.7      | 3.2      | 1.3      | 0.2      | setosa   |  7.9     | 2.810694 | \n",
       "| 4.6      | 3.1      | 1.5      | 0.2      | setosa   |  7.7     | 2.774887 | \n",
       "| 5.0      | 3.6      | 1.4      | 0.2      | setosa   |  8.6     | 2.932576 | \n",
       "| 5.4      | 3.9      | 1.7      | 0.4      | setosa   |  9.3     | 3.049590 | \n",
       "| 4.6      | 3.4      | 1.4      | 0.3      | setosa   |  8.0     | 2.828427 | \n",
       "| 5.0      | 3.4      | 1.5      | 0.2      | setosa   |  8.4     | 2.898275 | \n",
       "| 4.4      | 2.9      | 1.4      | 0.2      | setosa   |  7.3     | 2.701851 | \n",
       "| 4.9      | 3.1      | 1.5      | 0.1      | setosa   |  8.0     | 2.828427 | \n",
       "| 5.4      | 3.7      | 1.5      | 0.2      | setosa   |  9.1     | 3.016621 | \n",
       "| 4.8      | 3.4      | 1.6      | 0.2      | setosa   |  8.2     | 2.863564 | \n",
       "| 4.8      | 3.0      | 1.4      | 0.1      | setosa   |  7.8     | 2.792848 | \n",
       "| 4.3      | 3.0      | 1.1      | 0.1      | setosa   |  7.3     | 2.701851 | \n",
       "| 5.8      | 4.0      | 1.2      | 0.2      | setosa   |  9.8     | 3.130495 | \n",
       "| 5.7      | 4.4      | 1.5      | 0.4      | setosa   | 10.1     | 3.178050 | \n",
       "| 5.4      | 3.9      | 1.3      | 0.4      | setosa   |  9.3     | 3.049590 | \n",
       "| 5.1      | 3.5      | 1.4      | 0.3      | setosa   |  8.6     | 2.932576 | \n",
       "| 5.7      | 3.8      | 1.7      | 0.3      | setosa   |  9.5     | 3.082207 | \n",
       "| 5.1      | 3.8      | 1.5      | 0.3      | setosa   |  8.9     | 2.983287 | \n",
       "| 5.4      | 3.4      | 1.7      | 0.2      | setosa   |  8.8     | 2.966479 | \n",
       "| 5.1      | 3.7      | 1.5      | 0.4      | setosa   |  8.8     | 2.966479 | \n",
       "| 4.6      | 3.6      | 1.0      | 0.2      | setosa   |  8.2     | 2.863564 | \n",
       "| 5.1      | 3.3      | 1.7      | 0.5      | setosa   |  8.4     | 2.898275 | \n",
       "| 4.8      | 3.4      | 1.9      | 0.2      | setosa   |  8.2     | 2.863564 | \n",
       "| 5.0      | 3.0      | 1.6      | 0.2      | setosa   |  8.0     | 2.828427 | \n",
       "| 5.0      | 3.4      | 1.6      | 0.4      | setosa   |  8.4     | 2.898275 | \n",
       "| 5.2      | 3.5      | 1.5      | 0.2      | setosa   |  8.7     | 2.949576 | \n",
       "| 5.2      | 3.4      | 1.4      | 0.2      | setosa   |  8.6     | 2.932576 | \n",
       "| 4.7      | 3.2      | 1.6      | 0.2      | setosa   |  7.9     | 2.810694 | \n",
       "| ... | ... | ... | ... | ... | ... | ... | \n",
       "| 6.9       | 3.2       | 5.7       | 2.3       | virginica | 10.1      | 3.178050  | \n",
       "| 5.6       | 2.8       | 4.9       | 2.0       | virginica |  8.4      | 2.898275  | \n",
       "| 7.7       | 2.8       | 6.7       | 2.0       | virginica | 10.5      | 3.240370  | \n",
       "| 6.3       | 2.7       | 4.9       | 1.8       | virginica |  9.0      | 3.000000  | \n",
       "| 6.7       | 3.3       | 5.7       | 2.1       | virginica | 10.0      | 3.162278  | \n",
       "| 7.2       | 3.2       | 6.0       | 1.8       | virginica | 10.4      | 3.224903  | \n",
       "| 6.2       | 2.8       | 4.8       | 1.8       | virginica |  9.0      | 3.000000  | \n",
       "| 6.1       | 3.0       | 4.9       | 1.8       | virginica |  9.1      | 3.016621  | \n",
       "| 6.4       | 2.8       | 5.6       | 2.1       | virginica |  9.2      | 3.033150  | \n",
       "| 7.2       | 3.0       | 5.8       | 1.6       | virginica | 10.2      | 3.193744  | \n",
       "| 7.4       | 2.8       | 6.1       | 1.9       | virginica | 10.2      | 3.193744  | \n",
       "| 7.9       | 3.8       | 6.4       | 2.0       | virginica | 11.7      | 3.420526  | \n",
       "| 6.4       | 2.8       | 5.6       | 2.2       | virginica |  9.2      | 3.033150  | \n",
       "| 6.3       | 2.8       | 5.1       | 1.5       | virginica |  9.1      | 3.016621  | \n",
       "| 6.1       | 2.6       | 5.6       | 1.4       | virginica |  8.7      | 2.949576  | \n",
       "| 7.7       | 3.0       | 6.1       | 2.3       | virginica | 10.7      | 3.271085  | \n",
       "| 6.3       | 3.4       | 5.6       | 2.4       | virginica |  9.7      | 3.114482  | \n",
       "| 6.4       | 3.1       | 5.5       | 1.8       | virginica |  9.5      | 3.082207  | \n",
       "| 6.0       | 3.0       | 4.8       | 1.8       | virginica |  9.0      | 3.000000  | \n",
       "| 6.9       | 3.1       | 5.4       | 2.1       | virginica | 10.0      | 3.162278  | \n",
       "| 6.7       | 3.1       | 5.6       | 2.4       | virginica |  9.8      | 3.130495  | \n",
       "| 6.9       | 3.1       | 5.1       | 2.3       | virginica | 10.0      | 3.162278  | \n",
       "| 5.8       | 2.7       | 5.1       | 1.9       | virginica |  8.5      | 2.915476  | \n",
       "| 6.8       | 3.2       | 5.9       | 2.3       | virginica | 10.0      | 3.162278  | \n",
       "| 6.7       | 3.3       | 5.7       | 2.5       | virginica | 10.0      | 3.162278  | \n",
       "| 6.7       | 3.0       | 5.2       | 2.3       | virginica |  9.7      | 3.114482  | \n",
       "| 6.3       | 2.5       | 5.0       | 1.9       | virginica |  8.8      | 2.966479  | \n",
       "| 6.5       | 3.0       | 5.2       | 2.0       | virginica |  9.5      | 3.082207  | \n",
       "| 6.2       | 3.4       | 5.4       | 2.3       | virginica |  9.6      | 3.098387  | \n",
       "| 5.9       | 3.0       | 5.1       | 1.8       | virginica |  8.9      | 2.983287  | \n",
       "\n",
       "\n"
      ],
      "text/plain": [
       "    Sepal.Length Sepal.Width Petal.Length Petal.Width Species   dek  jek     \n",
       "1   5.1          3.5         1.4          0.2         setosa     8.6 2.932576\n",
       "2   4.9          3.0         1.4          0.2         setosa     7.9 2.810694\n",
       "3   4.7          3.2         1.3          0.2         setosa     7.9 2.810694\n",
       "4   4.6          3.1         1.5          0.2         setosa     7.7 2.774887\n",
       "5   5.0          3.6         1.4          0.2         setosa     8.6 2.932576\n",
       "6   5.4          3.9         1.7          0.4         setosa     9.3 3.049590\n",
       "7   4.6          3.4         1.4          0.3         setosa     8.0 2.828427\n",
       "8   5.0          3.4         1.5          0.2         setosa     8.4 2.898275\n",
       "9   4.4          2.9         1.4          0.2         setosa     7.3 2.701851\n",
       "10  4.9          3.1         1.5          0.1         setosa     8.0 2.828427\n",
       "11  5.4          3.7         1.5          0.2         setosa     9.1 3.016621\n",
       "12  4.8          3.4         1.6          0.2         setosa     8.2 2.863564\n",
       "13  4.8          3.0         1.4          0.1         setosa     7.8 2.792848\n",
       "14  4.3          3.0         1.1          0.1         setosa     7.3 2.701851\n",
       "15  5.8          4.0         1.2          0.2         setosa     9.8 3.130495\n",
       "16  5.7          4.4         1.5          0.4         setosa    10.1 3.178050\n",
       "17  5.4          3.9         1.3          0.4         setosa     9.3 3.049590\n",
       "18  5.1          3.5         1.4          0.3         setosa     8.6 2.932576\n",
       "19  5.7          3.8         1.7          0.3         setosa     9.5 3.082207\n",
       "20  5.1          3.8         1.5          0.3         setosa     8.9 2.983287\n",
       "21  5.4          3.4         1.7          0.2         setosa     8.8 2.966479\n",
       "22  5.1          3.7         1.5          0.4         setosa     8.8 2.966479\n",
       "23  4.6          3.6         1.0          0.2         setosa     8.2 2.863564\n",
       "24  5.1          3.3         1.7          0.5         setosa     8.4 2.898275\n",
       "25  4.8          3.4         1.9          0.2         setosa     8.2 2.863564\n",
       "26  5.0          3.0         1.6          0.2         setosa     8.0 2.828427\n",
       "27  5.0          3.4         1.6          0.4         setosa     8.4 2.898275\n",
       "28  5.2          3.5         1.5          0.2         setosa     8.7 2.949576\n",
       "29  5.2          3.4         1.4          0.2         setosa     8.6 2.932576\n",
       "30  4.7          3.2         1.6          0.2         setosa     7.9 2.810694\n",
       "... ...          ...         ...          ...         ...       ...  ...     \n",
       "121 6.9          3.2         5.7          2.3         virginica 10.1 3.178050\n",
       "122 5.6          2.8         4.9          2.0         virginica  8.4 2.898275\n",
       "123 7.7          2.8         6.7          2.0         virginica 10.5 3.240370\n",
       "124 6.3          2.7         4.9          1.8         virginica  9.0 3.000000\n",
       "125 6.7          3.3         5.7          2.1         virginica 10.0 3.162278\n",
       "126 7.2          3.2         6.0          1.8         virginica 10.4 3.224903\n",
       "127 6.2          2.8         4.8          1.8         virginica  9.0 3.000000\n",
       "128 6.1          3.0         4.9          1.8         virginica  9.1 3.016621\n",
       "129 6.4          2.8         5.6          2.1         virginica  9.2 3.033150\n",
       "130 7.2          3.0         5.8          1.6         virginica 10.2 3.193744\n",
       "131 7.4          2.8         6.1          1.9         virginica 10.2 3.193744\n",
       "132 7.9          3.8         6.4          2.0         virginica 11.7 3.420526\n",
       "133 6.4          2.8         5.6          2.2         virginica  9.2 3.033150\n",
       "134 6.3          2.8         5.1          1.5         virginica  9.1 3.016621\n",
       "135 6.1          2.6         5.6          1.4         virginica  8.7 2.949576\n",
       "136 7.7          3.0         6.1          2.3         virginica 10.7 3.271085\n",
       "137 6.3          3.4         5.6          2.4         virginica  9.7 3.114482\n",
       "138 6.4          3.1         5.5          1.8         virginica  9.5 3.082207\n",
       "139 6.0          3.0         4.8          1.8         virginica  9.0 3.000000\n",
       "140 6.9          3.1         5.4          2.1         virginica 10.0 3.162278\n",
       "141 6.7          3.1         5.6          2.4         virginica  9.8 3.130495\n",
       "142 6.9          3.1         5.1          2.3         virginica 10.0 3.162278\n",
       "143 5.8          2.7         5.1          1.9         virginica  8.5 2.915476\n",
       "144 6.8          3.2         5.9          2.3         virginica 10.0 3.162278\n",
       "145 6.7          3.3         5.7          2.5         virginica 10.0 3.162278\n",
       "146 6.7          3.0         5.2          2.3         virginica  9.7 3.114482\n",
       "147 6.3          2.5         5.0          1.9         virginica  8.8 2.966479\n",
       "148 6.5          3.0         5.2          2.0         virginica  9.5 3.082207\n",
       "149 6.2          3.4         5.4          2.3         virginica  9.6 3.098387\n",
       "150 5.9          3.0         5.1          1.8         virginica  8.9 2.983287"
      ]
     },
     "metadata": {},
     "output_type": "display_data"
    }
   ],
   "source": [
    "#transform与mutate两个函数都是新建变量，但是前者仅能基于所提供的数据框内变量进行新建\n",
    "#而后者则可以直接在新建变量基础上进行操作\n",
    "\n",
    "iris1<-iris\n",
    "# (iris1<-transform(iris1,dek=Sepal.Length/Sepal.Width,pek=Petal.Length+Petal.Width)\n",
    "\n",
    "(iris1<-dplyr::mutate(iris1,dek=Sepal.Length+Sepal.Width,jek=sqrt(dek)))"
   ]
  },
  {
   "cell_type": "code",
   "execution_count": 20,
   "metadata": {},
   "outputs": [
    {
     "data": {
      "text/html": [
       "<table>\n",
       "<thead><tr><th scope=col>Species</th><th scope=col>Sepal.Length</th></tr></thead>\n",
       "<tbody>\n",
       "\t<tr><td>setosa    </td><td>5.006     </td></tr>\n",
       "\t<tr><td>versicolor</td><td>5.936     </td></tr>\n",
       "\t<tr><td>virginica </td><td>6.588     </td></tr>\n",
       "</tbody>\n",
       "</table>\n"
      ],
      "text/latex": [
       "\\begin{tabular}{r|ll}\n",
       " Species & Sepal.Length\\\\\n",
       "\\hline\n",
       "\t setosa     & 5.006     \\\\\n",
       "\t versicolor & 5.936     \\\\\n",
       "\t virginica  & 6.588     \\\\\n",
       "\\end{tabular}\n"
      ],
      "text/markdown": [
       "\n",
       "Species | Sepal.Length | \n",
       "|---|---|---|\n",
       "| setosa     | 5.006      | \n",
       "| versicolor | 5.936      | \n",
       "| virginica  | 6.588      | \n",
       "\n",
       "\n"
      ],
      "text/plain": [
       "  Species    Sepal.Length\n",
       "1 setosa     5.006       \n",
       "2 versicolor 5.936       \n",
       "3 virginica  6.588       "
      ]
     },
     "metadata": {},
     "output_type": "display_data"
    }
   ],
   "source": [
    "#aggregate是专门分组聚合的函数：\n",
    "# aggregate(value~class,data,fun)\n",
    "#表达式左侧是要聚合的目标度量，右侧是分组依据，紧接着是数据框名称，最后是聚合函数\n",
    "\n",
    "aggregate(Sepal.Length~Species,iris,mean)"
   ]
  },
  {
   "cell_type": "code",
   "execution_count": 2,
   "metadata": {},
   "outputs": [
    {
     "data": {
      "text/html": [
       "<table>\n",
       "<thead><tr><th scope=col>Species</th><th scope=col>means</th></tr></thead>\n",
       "<tbody>\n",
       "\t<tr><td>setosa    </td><td>5.006     </td></tr>\n",
       "\t<tr><td>versicolor</td><td>5.936     </td></tr>\n",
       "\t<tr><td>virginica </td><td>6.588     </td></tr>\n",
       "</tbody>\n",
       "</table>\n"
      ],
      "text/latex": [
       "\\begin{tabular}{r|ll}\n",
       " Species & means\\\\\n",
       "\\hline\n",
       "\t setosa     & 5.006     \\\\\n",
       "\t versicolor & 5.936     \\\\\n",
       "\t virginica  & 6.588     \\\\\n",
       "\\end{tabular}\n"
      ],
      "text/markdown": [
       "\n",
       "Species | means | \n",
       "|---|---|---|\n",
       "| setosa     | 5.006      | \n",
       "| versicolor | 5.936      | \n",
       "| virginica  | 6.588      | \n",
       "\n",
       "\n"
      ],
      "text/plain": [
       "  Species    means\n",
       "1 setosa     5.006\n",
       "2 versicolor 5.936\n",
       "3 virginica  6.588"
      ]
     },
     "metadata": {},
     "output_type": "display_data"
    }
   ],
   "source": [
    "#使用group_by函数结合summarize可以方便的完成分组聚合功能\n",
    "\n",
    "iris %>% dplyr::group_by(Species) %>% summarize(means=mean(Sepal.Length))"
   ]
  },
  {
   "cell_type": "code",
   "execution_count": 3,
   "metadata": {},
   "outputs": [
    {
     "data": {
      "text/html": [
       "<dl class=dl-horizontal>\n",
       "\t<dt>setosa</dt>\n",
       "\t\t<dd>5.006</dd>\n",
       "\t<dt>versicolor</dt>\n",
       "\t\t<dd>5.936</dd>\n",
       "\t<dt>virginica</dt>\n",
       "\t\t<dd>6.588</dd>\n",
       "</dl>\n"
      ],
      "text/plain": [
       "    setosa versicolor  virginica \n",
       "     5.006      5.936      6.588 "
      ]
     },
     "metadata": {},
     "output_type": "display_data"
    }
   ],
   "source": [
    "#R语言中的分组聚合如果使用矢量函数来进行操作，会大大提升其执行效率\n",
    "tapply(iris$Sepal.Length,iris$Species,mean)\n",
    "\n",
    "#tapply(度量，分类字段，聚合函数)"
   ]
  },
  {
   "cell_type": "code",
   "execution_count": 9,
   "metadata": {},
   "outputs": [
    {
     "data": {
      "text/html": [
       "<table>\n",
       "<thead><tr><th scope=col>Species</th><th scope=col>means</th></tr></thead>\n",
       "<tbody>\n",
       "\t<tr><td>setosa    </td><td>5.006     </td></tr>\n",
       "\t<tr><td>versicolor</td><td>5.936     </td></tr>\n",
       "\t<tr><td>virginica </td><td>6.588     </td></tr>\n",
       "</tbody>\n",
       "</table>\n"
      ],
      "text/latex": [
       "\\begin{tabular}{r|ll}\n",
       " Species & means\\\\\n",
       "\\hline\n",
       "\t setosa     & 5.006     \\\\\n",
       "\t versicolor & 5.936     \\\\\n",
       "\t virginica  & 6.588     \\\\\n",
       "\\end{tabular}\n"
      ],
      "text/markdown": [
       "\n",
       "Species | means | \n",
       "|---|---|---|\n",
       "| setosa     | 5.006      | \n",
       "| versicolor | 5.936      | \n",
       "| virginica  | 6.588      | \n",
       "\n",
       "\n"
      ],
      "text/plain": [
       "  Species    means\n",
       "1 setosa     5.006\n",
       "2 versicolor 5.936\n",
       "3 virginica  6.588"
      ]
     },
     "metadata": {},
     "output_type": "display_data"
    }
   ],
   "source": [
    "plyr::ddply(iris,.(Species),summarize,means=mean(Sepal.Length))\n",
    "\n",
    "#ddply(.data,.variables,.fun=)\n",
    "#数据框，带聚合分类字段，最终的聚合函数与聚合变量公司"
   ]
  }
 ],
 "metadata": {
  "kernelspec": {
   "display_name": "R",
   "language": "R",
   "name": "ir"
  },
  "language_info": {
   "codemirror_mode": "r",
   "file_extension": ".r",
   "mimetype": "text/x-r-source",
   "name": "R",
   "pygments_lexer": "r",
   "version": "3.4.1"
  }
 },
 "nbformat": 4,
 "nbformat_minor": 2
}
