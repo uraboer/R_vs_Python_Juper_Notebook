{
 "cells": [
  {
   "cell_type": "markdown",
   "metadata": {},
   "source": [
    "### 常见的衡量随机变量相关性的方法主要有三种：\n",
    "- pearson相关系数：即皮尔逊相关系数，用于衡量两个连续随机变量间的相关系数\n",
    "- spearman相关系数：即斯皮尔曼相关系数，用于衡量分类定序变量间的相关程度\n",
    "- kendall相关系数，即肯德尔相关系数，也是一种秩相关系数，计算的对象是分类变量"
   ]
  },
  {
   "cell_type": "markdown",
   "metadata": {},
   "source": [
    "- cor\n",
    "- cor.test\n",
    "- corrplot\n",
    "\n",
    "cor(x,y=NULL,use=\"everything\",method=c(\"pearson\",\"kendall\",\"spearman\"))\n",
    "\n",
    "在R语言中，通常使用cor函数进行相关系数分析，可以分别指定向量，也可以指定给cor函数一个数据框\n",
    "\n",
    "- use函数指定处理缺失值的方式\n",
    "- method是可选的三种相关系数计算方法"
   ]
  },
  {
   "cell_type": "code",
   "execution_count": 4,
   "metadata": {
    "scrolled": true
   },
   "outputs": [
    {
     "name": "stdout",
     "output_type": "stream",
     "text": [
      "Classes 'tbl_df', 'tbl' and 'data.frame':\t53940 obs. of  10 variables:\n",
      " $ carat  : num  0.23 0.21 0.23 0.29 0.31 0.24 0.24 0.26 0.22 0.23 ...\n",
      " $ cut    : Ord.factor w/ 5 levels \"Fair\"<\"Good\"<..: 5 4 2 4 2 3 3 3 1 3 ...\n",
      " $ color  : Ord.factor w/ 7 levels \"D\"<\"E\"<\"F\"<\"G\"<..: 2 2 2 6 7 7 6 5 2 5 ...\n",
      " $ clarity: Ord.factor w/ 8 levels \"I1\"<\"SI2\"<\"SI1\"<..: 2 3 5 4 2 6 7 3 4 5 ...\n",
      " $ depth  : num  61.5 59.8 56.9 62.4 63.3 62.8 62.3 61.9 65.1 59.4 ...\n",
      " $ table  : num  55 61 65 58 58 57 57 55 61 61 ...\n",
      " $ price  : int  326 326 327 334 335 336 336 337 337 338 ...\n",
      " $ x      : num  3.95 3.89 4.05 4.2 4.34 3.94 3.95 4.07 3.87 4 ...\n",
      " $ y      : num  3.98 3.84 4.07 4.23 4.35 3.96 3.98 4.11 3.78 4.05 ...\n",
      " $ z      : num  2.43 2.31 2.31 2.63 2.75 2.48 2.47 2.53 2.49 2.39 ...\n"
     ]
    },
    {
     "data": {
      "text/html": [
       "<table>\n",
       "<thead><tr><th scope=col>carat</th><th scope=col>cut</th><th scope=col>color</th><th scope=col>clarity</th><th scope=col>depth</th><th scope=col>table</th><th scope=col>price</th><th scope=col>x</th><th scope=col>y</th><th scope=col>z</th></tr></thead>\n",
       "<tbody>\n",
       "\t<tr><td>0.23     </td><td>Ideal    </td><td>E        </td><td>SI2      </td><td>61.5     </td><td>55       </td><td>326      </td><td>3.95     </td><td>3.98     </td><td>2.43     </td></tr>\n",
       "\t<tr><td>0.21     </td><td>Premium  </td><td>E        </td><td>SI1      </td><td>59.8     </td><td>61       </td><td>326      </td><td>3.89     </td><td>3.84     </td><td>2.31     </td></tr>\n",
       "\t<tr><td>0.23     </td><td>Good     </td><td>E        </td><td>VS1      </td><td>56.9     </td><td>65       </td><td>327      </td><td>4.05     </td><td>4.07     </td><td>2.31     </td></tr>\n",
       "\t<tr><td>0.29     </td><td>Premium  </td><td>I        </td><td>VS2      </td><td>62.4     </td><td>58       </td><td>334      </td><td>4.20     </td><td>4.23     </td><td>2.63     </td></tr>\n",
       "\t<tr><td>0.31     </td><td>Good     </td><td>J        </td><td>SI2      </td><td>63.3     </td><td>58       </td><td>335      </td><td>4.34     </td><td>4.35     </td><td>2.75     </td></tr>\n",
       "\t<tr><td>0.24     </td><td>Very Good</td><td>J        </td><td>VVS2     </td><td>62.8     </td><td>57       </td><td>336      </td><td>3.94     </td><td>3.96     </td><td>2.48     </td></tr>\n",
       "</tbody>\n",
       "</table>\n"
      ],
      "text/latex": [
       "\\begin{tabular}{r|llllllllll}\n",
       " carat & cut & color & clarity & depth & table & price & x & y & z\\\\\n",
       "\\hline\n",
       "\t 0.23      & Ideal     & E         & SI2       & 61.5      & 55        & 326       & 3.95      & 3.98      & 2.43     \\\\\n",
       "\t 0.21      & Premium   & E         & SI1       & 59.8      & 61        & 326       & 3.89      & 3.84      & 2.31     \\\\\n",
       "\t 0.23      & Good      & E         & VS1       & 56.9      & 65        & 327       & 4.05      & 4.07      & 2.31     \\\\\n",
       "\t 0.29      & Premium   & I         & VS2       & 62.4      & 58        & 334       & 4.20      & 4.23      & 2.63     \\\\\n",
       "\t 0.31      & Good      & J         & SI2       & 63.3      & 58        & 335       & 4.34      & 4.35      & 2.75     \\\\\n",
       "\t 0.24      & Very Good & J         & VVS2      & 62.8      & 57        & 336       & 3.94      & 3.96      & 2.48     \\\\\n",
       "\\end{tabular}\n"
      ],
      "text/markdown": [
       "\n",
       "carat | cut | color | clarity | depth | table | price | x | y | z | \n",
       "|---|---|---|---|---|---|\n",
       "| 0.23      | Ideal     | E         | SI2       | 61.5      | 55        | 326       | 3.95      | 3.98      | 2.43      | \n",
       "| 0.21      | Premium   | E         | SI1       | 59.8      | 61        | 326       | 3.89      | 3.84      | 2.31      | \n",
       "| 0.23      | Good      | E         | VS1       | 56.9      | 65        | 327       | 4.05      | 4.07      | 2.31      | \n",
       "| 0.29      | Premium   | I         | VS2       | 62.4      | 58        | 334       | 4.20      | 4.23      | 2.63      | \n",
       "| 0.31      | Good      | J         | SI2       | 63.3      | 58        | 335       | 4.34      | 4.35      | 2.75      | \n",
       "| 0.24      | Very Good | J         | VVS2      | 62.8      | 57        | 336       | 3.94      | 3.96      | 2.48      | \n",
       "\n",
       "\n"
      ],
      "text/plain": [
       "  carat cut       color clarity depth table price x    y    z   \n",
       "1 0.23  Ideal     E     SI2     61.5  55    326   3.95 3.98 2.43\n",
       "2 0.21  Premium   E     SI1     59.8  61    326   3.89 3.84 2.31\n",
       "3 0.23  Good      E     VS1     56.9  65    327   4.05 4.07 2.31\n",
       "4 0.29  Premium   I     VS2     62.4  58    334   4.20 4.23 2.63\n",
       "5 0.31  Good      J     SI2     63.3  58    335   4.34 4.35 2.75\n",
       "6 0.24  Very Good J     VVS2    62.8  57    336   3.94 3.96 2.48"
      ]
     },
     "metadata": {},
     "output_type": "display_data"
    }
   ],
   "source": [
    "library(\"ggplot2\")\n",
    "\n",
    "str(diamonds)\n",
    "\n",
    "head(diamonds)"
   ]
  },
  {
   "cell_type": "code",
   "execution_count": 2,
   "metadata": {},
   "outputs": [
    {
     "data": {
      "text/html": [
       "<table>\n",
       "<thead><tr><th></th><th scope=col>carat</th><th scope=col>depth</th><th scope=col>price</th></tr></thead>\n",
       "<tbody>\n",
       "\t<tr><th scope=row>carat</th><td>1.00000000 </td><td> 0.02822431</td><td> 0.9215913 </td></tr>\n",
       "\t<tr><th scope=row>depth</th><td>0.02822431 </td><td> 1.00000000</td><td>-0.0106474 </td></tr>\n",
       "\t<tr><th scope=row>price</th><td>0.92159130 </td><td>-0.01064740</td><td> 1.0000000 </td></tr>\n",
       "</tbody>\n",
       "</table>\n"
      ],
      "text/latex": [
       "\\begin{tabular}{r|lll}\n",
       "  & carat & depth & price\\\\\n",
       "\\hline\n",
       "\tcarat & 1.00000000  &  0.02822431 &  0.9215913 \\\\\n",
       "\tdepth & 0.02822431  &  1.00000000 & -0.0106474 \\\\\n",
       "\tprice & 0.92159130  & -0.01064740 &  1.0000000 \\\\\n",
       "\\end{tabular}\n"
      ],
      "text/markdown": [
       "\n",
       "| <!--/--> | carat | depth | price | \n",
       "|---|---|---|\n",
       "| carat | 1.00000000  |  0.02822431 |  0.9215913  | \n",
       "| depth | 0.02822431  |  1.00000000 | -0.0106474  | \n",
       "| price | 0.92159130  | -0.01064740 |  1.0000000  | \n",
       "\n",
       "\n"
      ],
      "text/plain": [
       "      carat      depth       price     \n",
       "carat 1.00000000  0.02822431  0.9215913\n",
       "depth 0.02822431  1.00000000 -0.0106474\n",
       "price 0.92159130 -0.01064740  1.0000000"
      ]
     },
     "metadata": {},
     "output_type": "display_data"
    }
   ],
   "source": [
    "cor(diamonds[,c(\"carat\",\"depth\",\"price\")])"
   ]
  },
  {
   "cell_type": "code",
   "execution_count": 5,
   "metadata": {},
   "outputs": [
    {
     "data": {
      "text/html": [
       "<table>\n",
       "<thead><tr><th></th><th scope=col>carat</th><th scope=col>depth</th><th scope=col>price</th></tr></thead>\n",
       "<tbody>\n",
       "\t<tr><th scope=row>carat</th><td>1.00000000 </td><td> 0.02822431</td><td> 0.9215913 </td></tr>\n",
       "\t<tr><th scope=row>depth</th><td>0.02822431 </td><td> 1.00000000</td><td>-0.0106474 </td></tr>\n",
       "\t<tr><th scope=row>price</th><td>0.92159130 </td><td>-0.01064740</td><td> 1.0000000 </td></tr>\n",
       "</tbody>\n",
       "</table>\n"
      ],
      "text/latex": [
       "\\begin{tabular}{r|lll}\n",
       "  & carat & depth & price\\\\\n",
       "\\hline\n",
       "\tcarat & 1.00000000  &  0.02822431 &  0.9215913 \\\\\n",
       "\tdepth & 0.02822431  &  1.00000000 & -0.0106474 \\\\\n",
       "\tprice & 0.92159130  & -0.01064740 &  1.0000000 \\\\\n",
       "\\end{tabular}\n"
      ],
      "text/markdown": [
       "\n",
       "| <!--/--> | carat | depth | price | \n",
       "|---|---|---|\n",
       "| carat | 1.00000000  |  0.02822431 |  0.9215913  | \n",
       "| depth | 0.02822431  |  1.00000000 | -0.0106474  | \n",
       "| price | 0.92159130  | -0.01064740 |  1.0000000  | \n",
       "\n",
       "\n"
      ],
      "text/plain": [
       "      carat      depth       price     \n",
       "carat 1.00000000  0.02822431  0.9215913\n",
       "depth 0.02822431  1.00000000 -0.0106474\n",
       "price 0.92159130 -0.01064740  1.0000000"
      ]
     },
     "metadata": {},
     "output_type": "display_data"
    }
   ],
   "source": [
    "cor(diamonds[,c(\"carat\",\"depth\",\"price\")],method=\"pearson\")#默认使用pearson"
   ]
  },
  {
   "cell_type": "code",
   "execution_count": 9,
   "metadata": {},
   "outputs": [
    {
     "ename": "ERROR",
     "evalue": "Error in library(\"corrplot\"): there is no package called 'corrplot'\n",
     "output_type": "error",
     "traceback": [
      "Error in library(\"corrplot\"): there is no package called 'corrplot'\nTraceback:\n",
      "1. library(\"corrplot\")",
      "2. stop(txt, domain = NA)"
     ]
    }
   ],
   "source": [
    "#corrplot函数可以针对相关系数输出的结果进行可视化：\n",
    "library(\"corrplot\")\n",
    "library(\"dplyr\")\n",
    "\n",
    "cor(diamonds[,c(\"carat\",\"depth\",\"price\")]) %>% corrplot()"
   ]
  },
  {
   "cell_type": "code",
   "execution_count": null,
   "metadata": {
    "collapsed": true
   },
   "outputs": [],
   "source": [
    "cor.test(x,y, #指定待分析变量\n",
    "         alternative=c(\"two.sided\",\"less\",\"greater\"), #双侧检验（默认），单侧检验\n",
    "         method=c(\"pearson\",\"kendall\",\"spearman\"), #相关性算法\n",
    "         exact=NULL,\n",
    "         conf.level=0.95, #置信度\n",
    "         continuity=FALSE,\n",
    "         ...\n",
    "        )"
   ]
  },
  {
   "cell_type": "code",
   "execution_count": 10,
   "metadata": {},
   "outputs": [
    {
     "data": {
      "text/plain": [
       "\n",
       "\tPearson's product-moment correlation\n",
       "\n",
       "data:  diamonds$carat and diamonds$depth\n",
       "t = 6.5576, df = 53938, p-value = 5.518e-11\n",
       "alternative hypothesis: true correlation is not equal to 0\n",
       "95 percent confidence interval:\n",
       " 0.01978996 0.03665465\n",
       "sample estimates:\n",
       "       cor \n",
       "0.02822431 \n"
      ]
     },
     "metadata": {},
     "output_type": "display_data"
    }
   ],
   "source": [
    "cor.test(diamonds$carat,diamonds$depth)"
   ]
  },
  {
   "cell_type": "code",
   "execution_count": 12,
   "metadata": {},
   "outputs": [
    {
     "data": {
      "text/plain": [
       "\n",
       "\tPearson's product-moment correlation\n",
       "\n",
       "data:  carat and depth\n",
       "t = 6.5576, df = 53938, p-value = 5.518e-11\n",
       "alternative hypothesis: true correlation is not equal to 0\n",
       "95 percent confidence interval:\n",
       " 0.01978996 0.03665465\n",
       "sample estimates:\n",
       "       cor \n",
       "0.02822431 \n"
      ]
     },
     "metadata": {},
     "output_type": "display_data"
    }
   ],
   "source": [
    "#另一种写法：\n",
    "cor.test(~carat+depth,diamonds)"
   ]
  }
 ],
 "metadata": {
  "kernelspec": {
   "display_name": "R",
   "language": "R",
   "name": "ir"
  },
  "language_info": {
   "codemirror_mode": "r",
   "file_extension": ".r",
   "mimetype": "text/x-r-source",
   "name": "R",
   "pygments_lexer": "r",
   "version": "3.4.1"
  }
 },
 "nbformat": 4,
 "nbformat_minor": 2
}
