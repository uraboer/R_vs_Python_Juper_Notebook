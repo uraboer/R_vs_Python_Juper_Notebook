{
 "cells": [
  {
   "cell_type": "markdown",
   "metadata": {},
   "source": [
    "- 字符串连接符：\"+\"\n",
    "- 字符串合并函数：join\n",
    "\n",
    "\n",
    "- 字符串拆分：split"
   ]
  },
  {
   "cell_type": "code",
   "execution_count": 5,
   "metadata": {},
   "outputs": [
    {
     "data": {
      "text/plain": [
       "['19', '11', '03', '12', '25', '15', '10', '14', '18', '27']"
      ]
     },
     "execution_count": 5,
     "metadata": {},
     "output_type": "execute_result"
    }
   ],
   "source": [
    "import random\n",
    "import pandas as pd\n",
    "\n",
    "myyear=random.sample(list(range(2000,2017)),10)\n",
    "myyear\n",
    "\n",
    "mymonth=[\"%02d\" % i for i in random.sample(list(range(1,12)),10)]\n",
    "mymonth\n",
    "\n",
    "myday=[\"%02d\" % i for i in random.sample(list(range(1,31)),10)]\n",
    "myday"
   ]
  },
  {
   "cell_type": "code",
   "execution_count": 7,
   "metadata": {},
   "outputs": [
    {
     "data": {
      "text/plain": [
       "['2001-02-19',\n",
       " '2008-08-11',\n",
       " '2015-11-03',\n",
       " '2012-07-12',\n",
       " '2000-06-25',\n",
       " '2013-09-15',\n",
       " '2016-10-10',\n",
       " '2005-01-14',\n",
       " '2010-03-18',\n",
       " '2009-05-27']"
      ]
     },
     "execution_count": 7,
     "metadata": {},
     "output_type": "execute_result"
    }
   ],
   "source": [
    "mydate=[str(i)+\"-\"+j+\"-\"+k for i,j,k in zip(myyear,mymonth,myday)]\n",
    "mydate"
   ]
  },
  {
   "cell_type": "code",
   "execution_count": 9,
   "metadata": {},
   "outputs": [
    {
     "data": {
      "text/plain": [
       "['2001-02-19',\n",
       " '2008-08-11',\n",
       " '2015-11-03',\n",
       " '2012-07-12',\n",
       " '2000-06-25',\n",
       " '2013-09-15',\n",
       " '2016-10-10',\n",
       " '2005-01-14',\n",
       " '2010-03-18',\n",
       " '2009-05-27']"
      ]
     },
     "execution_count": 9,
     "metadata": {},
     "output_type": "execute_result"
    }
   ],
   "source": [
    "mydate=[\"-\".join([str(i),j,k]) for i,j,k in zip(myyear,mymonth,myday)]\n",
    "mydate"
   ]
  },
  {
   "cell_type": "code",
   "execution_count": null,
   "metadata": {
    "collapsed": true
   },
   "outputs": [],
   "source": [
    "#字符串拆分：\n",
    "#方法一：列表推导式\n",
    "myyear1=[i.split(\"-\")[0] for i in mydate]\n",
    "myear1\n",
    "\n",
    "mymonth1=[isplit(\"-\")][1] for i in mydate"
   ]
  }
 ],
 "metadata": {
  "kernelspec": {
   "display_name": "Python 3",
   "language": "python",
   "name": "python3"
  },
  "language_info": {
   "codemirror_mode": {
    "name": "ipython",
    "version": 3
   },
   "file_extension": ".py",
   "mimetype": "text/x-python",
   "name": "python",
   "nbconvert_exporter": "python",
   "pygments_lexer": "ipython3",
   "version": "3.6.1"
  }
 },
 "nbformat": 4,
 "nbformat_minor": 2
}
